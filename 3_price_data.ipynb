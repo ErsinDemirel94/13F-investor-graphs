{
 "cells": [
  {
   "cell_type": "code",
   "execution_count": 1,
   "id": "7916080c-c47d-430d-9733-e8e7dedee9e2",
   "metadata": {
    "scrolled": true
   },
   "outputs": [
    {
     "name": "stderr",
     "output_type": "stream",
     "text": [
      "C:\\Users\\ersin\\anaconda3\\lib\\site-packages\\numpy\\_distributor_init.py:30: UserWarning: loaded more than 1 DLL from .libs:\n",
      "C:\\Users\\ersin\\anaconda3\\lib\\site-packages\\numpy\\.libs\\libopenblas.XWYDX2IKJW2NMTWSFYNGFUWKQU3LYTCZ.gfortran-win_amd64.dll\n",
      "C:\\Users\\ersin\\anaconda3\\lib\\site-packages\\numpy\\.libs\\libopenblas64__v0.3.23-246-g3d31191b-gcc_10_3_0.dll\n",
      "  warnings.warn(\"loaded more than 1 DLL from .libs:\"\n",
      "C:\\Users\\ersin\\AppData\\Local\\Temp\\ipykernel_9132\\1525552485.py:4: DtypeWarning: Columns (17,18) have mixed types. Specify dtype option on import or set low_memory=False.\n",
      "  interactions = pd.read_csv(\"interactions_final.csv\", index_col=0)\n"
     ]
    }
   ],
   "source": [
    "import pandas as pd\n",
    "\n",
    "stock_prices_df = pd.read_csv(\"data/historical_stock_prices.csv\", index_col=0)\n",
    "interactions = pd.read_csv(\"interactions_final.csv\", index_col=0)\n"
   ]
  },
  {
   "cell_type": "code",
   "execution_count": 2,
   "id": "72345a87",
   "metadata": {},
   "outputs": [
    {
     "data": {
      "text/html": [
       "<div>\n",
       "<style scoped>\n",
       "    .dataframe tbody tr th:only-of-type {\n",
       "        vertical-align: middle;\n",
       "    }\n",
       "\n",
       "    .dataframe tbody tr th {\n",
       "        vertical-align: top;\n",
       "    }\n",
       "\n",
       "    .dataframe thead th {\n",
       "        text-align: right;\n",
       "    }\n",
       "</style>\n",
       "<table border=\"1\" class=\"dataframe\">\n",
       "  <thead>\n",
       "    <tr style=\"text-align: right;\">\n",
       "      <th></th>\n",
       "      <th>ticker</th>\n",
       "      <th>open</th>\n",
       "      <th>close</th>\n",
       "      <th>adj_close</th>\n",
       "      <th>low</th>\n",
       "      <th>high</th>\n",
       "      <th>volume</th>\n",
       "      <th>date</th>\n",
       "    </tr>\n",
       "  </thead>\n",
       "  <tbody>\n",
       "    <tr>\n",
       "      <th>0</th>\n",
       "      <td>AHH</td>\n",
       "      <td>11.50</td>\n",
       "      <td>11.58</td>\n",
       "      <td>8.493155</td>\n",
       "      <td>11.25</td>\n",
       "      <td>11.68</td>\n",
       "      <td>4633900</td>\n",
       "      <td>2013-05-08</td>\n",
       "    </tr>\n",
       "    <tr>\n",
       "      <th>1</th>\n",
       "      <td>AHH</td>\n",
       "      <td>11.66</td>\n",
       "      <td>11.55</td>\n",
       "      <td>8.471151</td>\n",
       "      <td>11.50</td>\n",
       "      <td>11.66</td>\n",
       "      <td>275800</td>\n",
       "      <td>2013-05-09</td>\n",
       "    </tr>\n",
       "    <tr>\n",
       "      <th>2</th>\n",
       "      <td>AHH</td>\n",
       "      <td>11.55</td>\n",
       "      <td>11.60</td>\n",
       "      <td>8.507822</td>\n",
       "      <td>11.50</td>\n",
       "      <td>11.60</td>\n",
       "      <td>277100</td>\n",
       "      <td>2013-05-10</td>\n",
       "    </tr>\n",
       "    <tr>\n",
       "      <th>3</th>\n",
       "      <td>AHH</td>\n",
       "      <td>11.63</td>\n",
       "      <td>11.65</td>\n",
       "      <td>8.544494</td>\n",
       "      <td>11.55</td>\n",
       "      <td>11.65</td>\n",
       "      <td>147400</td>\n",
       "      <td>2013-05-13</td>\n",
       "    </tr>\n",
       "    <tr>\n",
       "      <th>4</th>\n",
       "      <td>AHH</td>\n",
       "      <td>11.60</td>\n",
       "      <td>11.53</td>\n",
       "      <td>8.456484</td>\n",
       "      <td>11.50</td>\n",
       "      <td>11.60</td>\n",
       "      <td>184100</td>\n",
       "      <td>2013-05-14</td>\n",
       "    </tr>\n",
       "  </tbody>\n",
       "</table>\n",
       "</div>"
      ],
      "text/plain": [
       "  ticker   open  close  adj_close    low   high   volume        date\n",
       "0    AHH  11.50  11.58   8.493155  11.25  11.68  4633900  2013-05-08\n",
       "1    AHH  11.66  11.55   8.471151  11.50  11.66   275800  2013-05-09\n",
       "2    AHH  11.55  11.60   8.507822  11.50  11.60   277100  2013-05-10\n",
       "3    AHH  11.63  11.65   8.544494  11.55  11.65   147400  2013-05-13\n",
       "4    AHH  11.60  11.53   8.456484  11.50  11.60   184100  2013-05-14"
      ]
     },
     "execution_count": 2,
     "metadata": {},
     "output_type": "execute_result"
    }
   ],
   "source": [
    "stock_prices_df = stock_prices_df.reset_index()\n",
    "stock_prices_df.head()"
   ]
  },
  {
   "cell_type": "code",
   "execution_count": 5,
   "id": "c7a6ab2a",
   "metadata": {
    "scrolled": true
   },
   "outputs": [
    {
     "name": "stdout",
     "output_type": "stream",
     "text": [
      "               open         close     adj_close           low          high  \\\n",
      "count  2.097389e+07  2.097389e+07  2.097389e+07  2.097389e+07  2.097389e+07   \n",
      "mean   7.605823e+01  7.611403e+01  1.481184e+14  7.422064e+01  7.803857e+01   \n",
      "std    2.849639e+03  2.870159e+03  4.574674e+16  2.746059e+03  2.997937e+03   \n",
      "min    4.000000e-04  2.000000e-04  2.282650e-09  1.000000e-04  4.000000e-04   \n",
      "25%    7.500000e+00  7.500000e+00  4.620000e+00  7.360000e+00  7.630000e+00   \n",
      "50%    1.545000e+01  1.545000e+01  1.138199e+01  1.524000e+01  1.566000e+01   \n",
      "75%    2.972000e+01  2.972000e+01  2.472046e+01  2.928000e+01  3.010000e+01   \n",
      "max    2.034000e+06  1.779750e+06  1.894962e+19  1.440000e+06  2.070000e+06   \n",
      "\n",
      "             volume  \n",
      "count  2.097389e+07  \n",
      "mean   1.227043e+06  \n",
      "std    1.316686e+07  \n",
      "min    1.000000e+00  \n",
      "25%    2.210000e+04  \n",
      "50%    1.260000e+05  \n",
      "75%    6.074000e+05  \n",
      "max    4.483504e+09  \n"
     ]
    }
   ],
   "source": [
    "print(stock_prices_df.describe())"
   ]
  },
  {
   "cell_type": "code",
   "execution_count": 6,
   "id": "0285d788",
   "metadata": {},
   "outputs": [
    {
     "data": {
      "text/plain": [
       "(20973889, 8)"
      ]
     },
     "execution_count": 6,
     "metadata": {},
     "output_type": "execute_result"
    }
   ],
   "source": [
    "stock_prices_df.shape"
   ]
  },
  {
   "cell_type": "code",
   "execution_count": 10,
   "id": "0f863a09",
   "metadata": {},
   "outputs": [
    {
     "data": {
      "text/html": [
       "<div>\n",
       "<style scoped>\n",
       "    .dataframe tbody tr th:only-of-type {\n",
       "        vertical-align: middle;\n",
       "    }\n",
       "\n",
       "    .dataframe tbody tr th {\n",
       "        vertical-align: top;\n",
       "    }\n",
       "\n",
       "    .dataframe thead th {\n",
       "        text-align: right;\n",
       "    }\n",
       "</style>\n",
       "<table border=\"1\" class=\"dataframe\">\n",
       "  <thead>\n",
       "    <tr style=\"text-align: right;\">\n",
       "      <th></th>\n",
       "      <th>ticker</th>\n",
       "      <th>open</th>\n",
       "      <th>close</th>\n",
       "      <th>adj_close</th>\n",
       "      <th>low</th>\n",
       "      <th>high</th>\n",
       "      <th>volume</th>\n",
       "      <th>date</th>\n",
       "    </tr>\n",
       "  </thead>\n",
       "  <tbody>\n",
       "  </tbody>\n",
       "</table>\n",
       "</div>"
      ],
      "text/plain": [
       "Empty DataFrame\n",
       "Columns: [ticker, open, close, adj_close, low, high, volume, date]\n",
       "Index: []"
      ]
     },
     "execution_count": 10,
     "metadata": {},
     "output_type": "execute_result"
    }
   ],
   "source": [
    "stock_prices_df[stock_prices_df[\"ticker\"] == \"BSC\"]"
   ]
  },
  {
   "cell_type": "code",
   "execution_count": 2,
   "id": "17f9bf82-e3f4-4dda-9fc4-9628fd7c8c21",
   "metadata": {},
   "outputs": [],
   "source": [
    "unique_tickers = interactions[\"ticker\"].unique().tolist()\n",
    "quarter_dates  = interactions[\"rdate\"].unique().tolist()"
   ]
  },
  {
   "cell_type": "code",
   "execution_count": 3,
   "id": "cd228d75-fe9a-4b99-9292-cb55fa880e59",
   "metadata": {},
   "outputs": [
    {
     "ename": "AttributeError",
     "evalue": "'list' object has no attribute 'shape'",
     "output_type": "error",
     "traceback": [
      "\u001b[1;31m---------------------------------------------------------------------------\u001b[0m",
      "\u001b[1;31mAttributeError\u001b[0m                            Traceback (most recent call last)",
      "Input \u001b[1;32mIn [3]\u001b[0m, in \u001b[0;36m<cell line: 1>\u001b[1;34m()\u001b[0m\n\u001b[1;32m----> 1\u001b[0m \u001b[43mquarter_dates\u001b[49m\u001b[38;5;241;43m.\u001b[39;49m\u001b[43mshape\u001b[49m\n",
      "\u001b[1;31mAttributeError\u001b[0m: 'list' object has no attribute 'shape'"
     ]
    }
   ],
   "source": [
    "quarter_dates.shape"
   ]
  },
  {
   "cell_type": "code",
   "execution_count": null,
   "id": "b48724c1-1c82-4c49-90b1-85b9887f9d23",
   "metadata": {},
   "outputs": [],
   "source": [
    "unique_tickers[0:5], len(unique_tickers)"
   ]
  },
  {
   "cell_type": "code",
   "execution_count": null,
   "id": "9bfca5ff-16ab-4268-9a1c-8ec9abea6604",
   "metadata": {},
   "outputs": [],
   "source": [
    "filtered_df = stock_prices_df[stock_prices_df.index.isin(unique_tickers)]\n",
    "filtered_df.shape"
   ]
  },
  {
   "cell_type": "code",
   "execution_count": null,
   "id": "98737c73-e4f9-4d67-82c9-e804467f34f4",
   "metadata": {},
   "outputs": [],
   "source": [
    "filtered_df.head()"
   ]
  },
  {
   "cell_type": "code",
   "execution_count": 48,
   "id": "aea1062a-e92e-4389-9c7d-523de3f4389a",
   "metadata": {},
   "outputs": [
    {
     "name": "stderr",
     "output_type": "stream",
     "text": [
      "C:\\Users\\ersin\\AppData\\Local\\Temp\\ipykernel_25088\\4082540957.py:4: SettingWithCopyWarning: \n",
      "A value is trying to be set on a copy of a slice from a DataFrame.\n",
      "Try using .loc[row_indexer,col_indexer] = value instead\n",
      "\n",
      "See the caveats in the documentation: https://pandas.pydata.org/pandas-docs/stable/user_guide/indexing.html#returning-a-view-versus-a-copy\n",
      "  filtered_df['date'] = pd.to_datetime(filtered_df['date'])\n"
     ]
    }
   ],
   "source": [
    "# Convert the quarter_dates to datetime objects\n",
    "\n",
    "quarter_dates = pd.to_datetime(quarter_dates)\n",
    "filtered_df['date'] = pd.to_datetime(filtered_df['date'])"
   ]
  },
  {
   "cell_type": "markdown",
   "id": "a52ccb8b-f6c4-40d2-81fc-36b124d2eb5b",
   "metadata": {},
   "source": [
    "Before filtering them, first calculate volatility (to reduce nans)\n",
    "\n",
    "    Calculate daily returns.\n",
    "    Calculate daily volatility as the standard deviation of daily returns.\n",
    "    Aggregate the daily volatility into quarterly volatility.\n",
    "\n",
    "Convert the quarter_dates to datetime objects\n",
    "\n",
    "quarter_dates = pd.to_datetime(quarter_dates) filtered_df['date'] = pd.to_datetime(filtered_df['date'])The adjusted close price accounts for corporate actions such as stock splits and dividends, distributions and rights offerings (here)\n",
    "\n",
    "Stock splits in particular would give the illusion of significant volatility and impact your estimates with outliers that are not due to market activity. Therefore, I would suggest using the adjusted close prices.\n"
   ]
  },
  {
   "cell_type": "code",
   "execution_count": 49,
   "id": "fbe1e83e-3669-4244-a651-8157b1ca40ef",
   "metadata": {},
   "outputs": [
    {
     "name": "stderr",
     "output_type": "stream",
     "text": [
      "C:\\Users\\ersin\\AppData\\Local\\Temp\\ipykernel_25088\\1593501394.py:1: SettingWithCopyWarning: \n",
      "A value is trying to be set on a copy of a slice from a DataFrame.\n",
      "Try using .loc[row_indexer,col_indexer] = value instead\n",
      "\n",
      "See the caveats in the documentation: https://pandas.pydata.org/pandas-docs/stable/user_guide/indexing.html#returning-a-view-versus-a-copy\n",
      "  filtered_df['daily_return'] = filtered_df.groupby('ticker')['adj_close'].pct_change()\n"
     ]
    }
   ],
   "source": [
    "filtered_df['daily_return'] = filtered_df.groupby('ticker')['adj_close'].pct_change()\n",
    "filtered_df = filtered_df.reset_index()\n",
    "# Calculate daily volatility for each ticker and reset the index so it can be assigned back\n",
    "daily_volatility = filtered_df.groupby('ticker')['daily_return'].expanding().std().reset_index(level=0, drop=True)\n",
    "\n",
    "# Assign the daily volatility back to the filtered_df\n",
    "filtered_df['daily_volatility'] = daily_volatility"
   ]
  },
  {
   "cell_type": "code",
   "execution_count": 50,
   "id": "56543913-b656-4c6c-9be5-7e66224ae4e9",
   "metadata": {},
   "outputs": [
    {
     "data": {
      "text/html": [
       "<div>\n",
       "<style scoped>\n",
       "    .dataframe tbody tr th:only-of-type {\n",
       "        vertical-align: middle;\n",
       "    }\n",
       "\n",
       "    .dataframe tbody tr th {\n",
       "        vertical-align: top;\n",
       "    }\n",
       "\n",
       "    .dataframe thead th {\n",
       "        text-align: right;\n",
       "    }\n",
       "</style>\n",
       "<table border=\"1\" class=\"dataframe\">\n",
       "  <thead>\n",
       "    <tr style=\"text-align: right;\">\n",
       "      <th></th>\n",
       "      <th>ticker</th>\n",
       "      <th>open</th>\n",
       "      <th>close</th>\n",
       "      <th>adj_close</th>\n",
       "      <th>low</th>\n",
       "      <th>high</th>\n",
       "      <th>volume</th>\n",
       "      <th>date</th>\n",
       "      <th>daily_return</th>\n",
       "      <th>daily_volatility</th>\n",
       "    </tr>\n",
       "  </thead>\n",
       "  <tbody>\n",
       "    <tr>\n",
       "      <th>0</th>\n",
       "      <td>AHH</td>\n",
       "      <td>11.50</td>\n",
       "      <td>11.58</td>\n",
       "      <td>8.493155</td>\n",
       "      <td>11.25</td>\n",
       "      <td>11.68</td>\n",
       "      <td>4633900</td>\n",
       "      <td>2013-05-08</td>\n",
       "      <td>NaN</td>\n",
       "      <td>NaN</td>\n",
       "    </tr>\n",
       "    <tr>\n",
       "      <th>1</th>\n",
       "      <td>AHH</td>\n",
       "      <td>11.66</td>\n",
       "      <td>11.55</td>\n",
       "      <td>8.471151</td>\n",
       "      <td>11.50</td>\n",
       "      <td>11.66</td>\n",
       "      <td>275800</td>\n",
       "      <td>2013-05-09</td>\n",
       "      <td>-0.002591</td>\n",
       "      <td>NaN</td>\n",
       "    </tr>\n",
       "    <tr>\n",
       "      <th>2</th>\n",
       "      <td>AHH</td>\n",
       "      <td>11.55</td>\n",
       "      <td>11.60</td>\n",
       "      <td>8.507822</td>\n",
       "      <td>11.50</td>\n",
       "      <td>11.60</td>\n",
       "      <td>277100</td>\n",
       "      <td>2013-05-10</td>\n",
       "      <td>0.004329</td>\n",
       "      <td>0.004893</td>\n",
       "    </tr>\n",
       "    <tr>\n",
       "      <th>3</th>\n",
       "      <td>AHH</td>\n",
       "      <td>11.63</td>\n",
       "      <td>11.65</td>\n",
       "      <td>8.544494</td>\n",
       "      <td>11.55</td>\n",
       "      <td>11.65</td>\n",
       "      <td>147400</td>\n",
       "      <td>2013-05-13</td>\n",
       "      <td>0.004310</td>\n",
       "      <td>0.003990</td>\n",
       "    </tr>\n",
       "    <tr>\n",
       "      <th>4</th>\n",
       "      <td>AHH</td>\n",
       "      <td>11.60</td>\n",
       "      <td>11.53</td>\n",
       "      <td>8.456484</td>\n",
       "      <td>11.50</td>\n",
       "      <td>11.60</td>\n",
       "      <td>184100</td>\n",
       "      <td>2013-05-14</td>\n",
       "      <td>-0.010300</td>\n",
       "      <td>0.006967</td>\n",
       "    </tr>\n",
       "  </tbody>\n",
       "</table>\n",
       "</div>"
      ],
      "text/plain": [
       "  ticker   open  close  adj_close    low   high   volume       date  \\\n",
       "0    AHH  11.50  11.58   8.493155  11.25  11.68  4633900 2013-05-08   \n",
       "1    AHH  11.66  11.55   8.471151  11.50  11.66   275800 2013-05-09   \n",
       "2    AHH  11.55  11.60   8.507822  11.50  11.60   277100 2013-05-10   \n",
       "3    AHH  11.63  11.65   8.544494  11.55  11.65   147400 2013-05-13   \n",
       "4    AHH  11.60  11.53   8.456484  11.50  11.60   184100 2013-05-14   \n",
       "\n",
       "   daily_return  daily_volatility  \n",
       "0           NaN               NaN  \n",
       "1     -0.002591               NaN  \n",
       "2      0.004329          0.004893  \n",
       "3      0.004310          0.003990  \n",
       "4     -0.010300          0.006967  "
      ]
     },
     "execution_count": 50,
     "metadata": {},
     "output_type": "execute_result"
    }
   ],
   "source": []
  },
  {
   "cell_type": "code",
   "execution_count": 51,
   "id": "ec4995be-2c92-4bcd-8427-e30d245d6cde",
   "metadata": {},
   "outputs": [],
   "source": [
    "# remove records before 1999-03-30 and after 2017-09-30\n",
    "\n",
    "start_date = '1999-03-30'\n",
    "end_date = '2017-09-30'\n",
    "\n",
    "start_date = pd.to_datetime(start_date)\n",
    "end_date = pd.to_datetime(end_date)\n",
    "\n",
    "filtered_df = filtered_df[(filtered_df['date'] >= start_date) & (filtered_df['date'] <= end_date)]"
   ]
  },
  {
   "cell_type": "code",
   "execution_count": 52,
   "id": "e5b3330e-890f-4dd4-97d7-a7f7897cdb31",
   "metadata": {},
   "outputs": [
    {
     "data": {
      "text/html": [
       "<div>\n",
       "<style scoped>\n",
       "    .dataframe tbody tr th:only-of-type {\n",
       "        vertical-align: middle;\n",
       "    }\n",
       "\n",
       "    .dataframe tbody tr th {\n",
       "        vertical-align: top;\n",
       "    }\n",
       "\n",
       "    .dataframe thead th {\n",
       "        text-align: right;\n",
       "    }\n",
       "</style>\n",
       "<table border=\"1\" class=\"dataframe\">\n",
       "  <thead>\n",
       "    <tr style=\"text-align: right;\">\n",
       "      <th></th>\n",
       "      <th>ticker</th>\n",
       "      <th>open</th>\n",
       "      <th>close</th>\n",
       "      <th>adj_close</th>\n",
       "      <th>low</th>\n",
       "      <th>high</th>\n",
       "      <th>volume</th>\n",
       "      <th>date</th>\n",
       "      <th>daily_return</th>\n",
       "      <th>daily_volatility</th>\n",
       "    </tr>\n",
       "  </thead>\n",
       "  <tbody>\n",
       "    <tr>\n",
       "      <th>0</th>\n",
       "      <td>AHH</td>\n",
       "      <td>11.50</td>\n",
       "      <td>11.58</td>\n",
       "      <td>8.493155</td>\n",
       "      <td>11.25</td>\n",
       "      <td>11.68</td>\n",
       "      <td>4633900</td>\n",
       "      <td>2013-05-08</td>\n",
       "      <td>NaN</td>\n",
       "      <td>NaN</td>\n",
       "    </tr>\n",
       "    <tr>\n",
       "      <th>1</th>\n",
       "      <td>AHH</td>\n",
       "      <td>11.66</td>\n",
       "      <td>11.55</td>\n",
       "      <td>8.471151</td>\n",
       "      <td>11.50</td>\n",
       "      <td>11.66</td>\n",
       "      <td>275800</td>\n",
       "      <td>2013-05-09</td>\n",
       "      <td>-0.002591</td>\n",
       "      <td>NaN</td>\n",
       "    </tr>\n",
       "    <tr>\n",
       "      <th>2</th>\n",
       "      <td>AHH</td>\n",
       "      <td>11.55</td>\n",
       "      <td>11.60</td>\n",
       "      <td>8.507822</td>\n",
       "      <td>11.50</td>\n",
       "      <td>11.60</td>\n",
       "      <td>277100</td>\n",
       "      <td>2013-05-10</td>\n",
       "      <td>0.004329</td>\n",
       "      <td>0.004893</td>\n",
       "    </tr>\n",
       "    <tr>\n",
       "      <th>3</th>\n",
       "      <td>AHH</td>\n",
       "      <td>11.63</td>\n",
       "      <td>11.65</td>\n",
       "      <td>8.544494</td>\n",
       "      <td>11.55</td>\n",
       "      <td>11.65</td>\n",
       "      <td>147400</td>\n",
       "      <td>2013-05-13</td>\n",
       "      <td>0.004310</td>\n",
       "      <td>0.003990</td>\n",
       "    </tr>\n",
       "    <tr>\n",
       "      <th>4</th>\n",
       "      <td>AHH</td>\n",
       "      <td>11.60</td>\n",
       "      <td>11.53</td>\n",
       "      <td>8.456484</td>\n",
       "      <td>11.50</td>\n",
       "      <td>11.60</td>\n",
       "      <td>184100</td>\n",
       "      <td>2013-05-14</td>\n",
       "      <td>-0.010300</td>\n",
       "      <td>0.006967</td>\n",
       "    </tr>\n",
       "  </tbody>\n",
       "</table>\n",
       "</div>"
      ],
      "text/plain": [
       "  ticker   open  close  adj_close    low   high   volume       date  \\\n",
       "0    AHH  11.50  11.58   8.493155  11.25  11.68  4633900 2013-05-08   \n",
       "1    AHH  11.66  11.55   8.471151  11.50  11.66   275800 2013-05-09   \n",
       "2    AHH  11.55  11.60   8.507822  11.50  11.60   277100 2013-05-10   \n",
       "3    AHH  11.63  11.65   8.544494  11.55  11.65   147400 2013-05-13   \n",
       "4    AHH  11.60  11.53   8.456484  11.50  11.60   184100 2013-05-14   \n",
       "\n",
       "   daily_return  daily_volatility  \n",
       "0           NaN               NaN  \n",
       "1     -0.002591               NaN  \n",
       "2      0.004329          0.004893  \n",
       "3      0.004310          0.003990  \n",
       "4     -0.010300          0.006967  "
      ]
     },
     "execution_count": 52,
     "metadata": {},
     "output_type": "execute_result"
    }
   ],
   "source": [
    "filtered_df.head()"
   ]
  },
  {
   "cell_type": "code",
   "execution_count": 54,
   "id": "2c272bc5-f863-4f54-81f9-47c6fd84c577",
   "metadata": {},
   "outputs": [
    {
     "data": {
      "text/plain": [
       "(74,)"
      ]
     },
     "execution_count": 54,
     "metadata": {},
     "output_type": "execute_result"
    }
   ],
   "source": [
    "quarter_dates.shape"
   ]
  },
  {
   "cell_type": "code",
   "execution_count": 55,
   "id": "fc15018e-382b-4adc-89d3-79d7a097e65e",
   "metadata": {},
   "outputs": [],
   "source": [
    "filtered_df = filtered_df.sort_values(by='date')\n",
    "\n",
    "quarter_dates = sorted(quarter_dates)"
   ]
  },
  {
   "cell_type": "code",
   "execution_count": 56,
   "id": "3301a4ed-f8a4-4d13-a699-c2d6b823f856",
   "metadata": {},
   "outputs": [],
   "source": [
    "# Function to determine the quarter for a given date\n",
    "def assign_quarter(date):\n",
    "    # Assign to the first quarter by default\n",
    "    current_quarter = quarter_dates[0]\n",
    "    for quarter_end in quarter_dates:\n",
    "        if date <= quarter_end:\n",
    "            current_quarter = quarter_end\n",
    "            break\n",
    "    return current_quarter\n",
    "\n",
    "# Apply the function to the 'date' column to create a new 'quarter' column\n",
    "filtered_df['quarter'] = filtered_df['date'].apply(assign_quarter)"
   ]
  },
  {
   "cell_type": "code",
   "execution_count": 57,
   "id": "08b4ad20-93e7-4b8b-b245-3ebf7d23b99f",
   "metadata": {},
   "outputs": [
    {
     "data": {
      "text/html": [
       "<div>\n",
       "<style scoped>\n",
       "    .dataframe tbody tr th:only-of-type {\n",
       "        vertical-align: middle;\n",
       "    }\n",
       "\n",
       "    .dataframe tbody tr th {\n",
       "        vertical-align: top;\n",
       "    }\n",
       "\n",
       "    .dataframe thead th {\n",
       "        text-align: right;\n",
       "    }\n",
       "</style>\n",
       "<table border=\"1\" class=\"dataframe\">\n",
       "  <thead>\n",
       "    <tr style=\"text-align: right;\">\n",
       "      <th></th>\n",
       "      <th>ticker</th>\n",
       "      <th>quarter</th>\n",
       "      <th>quarterly_volatility</th>\n",
       "    </tr>\n",
       "  </thead>\n",
       "  <tbody>\n",
       "    <tr>\n",
       "      <th>0</th>\n",
       "      <td>A</td>\n",
       "      <td>1999-12-31</td>\n",
       "      <td>0.062768</td>\n",
       "    </tr>\n",
       "    <tr>\n",
       "      <th>1</th>\n",
       "      <td>A</td>\n",
       "      <td>2000-03-31</td>\n",
       "      <td>0.079432</td>\n",
       "    </tr>\n",
       "    <tr>\n",
       "      <th>2</th>\n",
       "      <td>A</td>\n",
       "      <td>2000-06-30</td>\n",
       "      <td>0.072011</td>\n",
       "    </tr>\n",
       "    <tr>\n",
       "      <th>3</th>\n",
       "      <td>A</td>\n",
       "      <td>2000-09-30</td>\n",
       "      <td>0.058517</td>\n",
       "    </tr>\n",
       "    <tr>\n",
       "      <th>4</th>\n",
       "      <td>A</td>\n",
       "      <td>2000-12-31</td>\n",
       "      <td>0.052617</td>\n",
       "    </tr>\n",
       "  </tbody>\n",
       "</table>\n",
       "</div>"
      ],
      "text/plain": [
       "  ticker    quarter  quarterly_volatility\n",
       "0      A 1999-12-31              0.062768\n",
       "1      A 2000-03-31              0.079432\n",
       "2      A 2000-06-30              0.072011\n",
       "3      A 2000-09-30              0.058517\n",
       "4      A 2000-12-31              0.052617"
      ]
     },
     "execution_count": 57,
     "metadata": {},
     "output_type": "execute_result"
    }
   ],
   "source": [
    "quarterly_volatility = filtered_df.groupby(['ticker', 'quarter'])['daily_return'].std().reset_index()\n",
    "quarterly_volatility.rename(columns={'daily_return': 'quarterly_volatility'}, inplace=True)\n",
    "quarterly_volatility.head()"
   ]
  },
  {
   "cell_type": "code",
   "execution_count": 58,
   "id": "f4800742-c92d-472a-91c9-ff855ed7ae34",
   "metadata": {},
   "outputs": [
    {
     "data": {
      "text/html": [
       "<div>\n",
       "<style scoped>\n",
       "    .dataframe tbody tr th:only-of-type {\n",
       "        vertical-align: middle;\n",
       "    }\n",
       "\n",
       "    .dataframe tbody tr th {\n",
       "        vertical-align: top;\n",
       "    }\n",
       "\n",
       "    .dataframe thead th {\n",
       "        text-align: right;\n",
       "    }\n",
       "</style>\n",
       "<table border=\"1\" class=\"dataframe\">\n",
       "  <thead>\n",
       "    <tr style=\"text-align: right;\">\n",
       "      <th></th>\n",
       "      <th>ticker</th>\n",
       "      <th>quarter</th>\n",
       "      <th>quarterly_volume</th>\n",
       "    </tr>\n",
       "  </thead>\n",
       "  <tbody>\n",
       "    <tr>\n",
       "      <th>0</th>\n",
       "      <td>A</td>\n",
       "      <td>1999-12-31</td>\n",
       "      <td>172198500</td>\n",
       "    </tr>\n",
       "    <tr>\n",
       "      <th>1</th>\n",
       "      <td>A</td>\n",
       "      <td>2000-03-31</td>\n",
       "      <td>135495200</td>\n",
       "    </tr>\n",
       "    <tr>\n",
       "      <th>2</th>\n",
       "      <td>A</td>\n",
       "      <td>2000-06-30</td>\n",
       "      <td>333488000</td>\n",
       "    </tr>\n",
       "    <tr>\n",
       "      <th>3</th>\n",
       "      <td>A</td>\n",
       "      <td>2000-09-30</td>\n",
       "      <td>350473500</td>\n",
       "    </tr>\n",
       "    <tr>\n",
       "      <th>4</th>\n",
       "      <td>A</td>\n",
       "      <td>2000-12-31</td>\n",
       "      <td>248571600</td>\n",
       "    </tr>\n",
       "  </tbody>\n",
       "</table>\n",
       "</div>"
      ],
      "text/plain": [
       "  ticker    quarter  quarterly_volume\n",
       "0      A 1999-12-31         172198500\n",
       "1      A 2000-03-31         135495200\n",
       "2      A 2000-06-30         333488000\n",
       "3      A 2000-09-30         350473500\n",
       "4      A 2000-12-31         248571600"
      ]
     },
     "execution_count": 58,
     "metadata": {},
     "output_type": "execute_result"
    }
   ],
   "source": [
    "quarterly_volume = filtered_df.groupby(['ticker', 'quarter'])['volume'].sum().reset_index()\n",
    "quarterly_volume.rename(columns={'volume': 'quarterly_volume'}, inplace=True)\n",
    "quarterly_volume.head()"
   ]
  },
  {
   "cell_type": "code",
   "execution_count": 59,
   "id": "46e6436c-c7cb-4ce4-9b23-e98b605a3118",
   "metadata": {},
   "outputs": [],
   "source": [
    "merged_df = pd.merge(quarterly_volatility, quarterly_volume, on=['ticker', 'quarter'])\n"
   ]
  },
  {
   "cell_type": "code",
   "execution_count": 60,
   "id": "59869a32-e44e-4001-8ed0-ef0711bc5f94",
   "metadata": {},
   "outputs": [
    {
     "data": {
      "text/html": [
       "<div>\n",
       "<style scoped>\n",
       "    .dataframe tbody tr th:only-of-type {\n",
       "        vertical-align: middle;\n",
       "    }\n",
       "\n",
       "    .dataframe tbody tr th {\n",
       "        vertical-align: top;\n",
       "    }\n",
       "\n",
       "    .dataframe thead th {\n",
       "        text-align: right;\n",
       "    }\n",
       "</style>\n",
       "<table border=\"1\" class=\"dataframe\">\n",
       "  <thead>\n",
       "    <tr style=\"text-align: right;\">\n",
       "      <th></th>\n",
       "      <th>ticker</th>\n",
       "      <th>quarter</th>\n",
       "      <th>quarterly_volatility</th>\n",
       "      <th>quarterly_volume</th>\n",
       "    </tr>\n",
       "  </thead>\n",
       "  <tbody>\n",
       "    <tr>\n",
       "      <th>0</th>\n",
       "      <td>A</td>\n",
       "      <td>1999-12-31</td>\n",
       "      <td>0.062768</td>\n",
       "      <td>172198500</td>\n",
       "    </tr>\n",
       "    <tr>\n",
       "      <th>1</th>\n",
       "      <td>A</td>\n",
       "      <td>2000-03-31</td>\n",
       "      <td>0.079432</td>\n",
       "      <td>135495200</td>\n",
       "    </tr>\n",
       "    <tr>\n",
       "      <th>2</th>\n",
       "      <td>A</td>\n",
       "      <td>2000-06-30</td>\n",
       "      <td>0.072011</td>\n",
       "      <td>333488000</td>\n",
       "    </tr>\n",
       "    <tr>\n",
       "      <th>3</th>\n",
       "      <td>A</td>\n",
       "      <td>2000-09-30</td>\n",
       "      <td>0.058517</td>\n",
       "      <td>350473500</td>\n",
       "    </tr>\n",
       "    <tr>\n",
       "      <th>4</th>\n",
       "      <td>A</td>\n",
       "      <td>2000-12-31</td>\n",
       "      <td>0.052617</td>\n",
       "      <td>248571600</td>\n",
       "    </tr>\n",
       "  </tbody>\n",
       "</table>\n",
       "</div>"
      ],
      "text/plain": [
       "  ticker    quarter  quarterly_volatility  quarterly_volume\n",
       "0      A 1999-12-31              0.062768         172198500\n",
       "1      A 2000-03-31              0.079432         135495200\n",
       "2      A 2000-06-30              0.072011         333488000\n",
       "3      A 2000-09-30              0.058517         350473500\n",
       "4      A 2000-12-31              0.052617         248571600"
      ]
     },
     "execution_count": 60,
     "metadata": {},
     "output_type": "execute_result"
    }
   ],
   "source": [
    "merged_df.head()"
   ]
  },
  {
   "cell_type": "code",
   "execution_count": 62,
   "id": "a8f7be99-acf3-459e-827b-cecba2d43b3e",
   "metadata": {},
   "outputs": [
    {
     "data": {
      "text/plain": [
       "(74, 4)"
      ]
     },
     "execution_count": 62,
     "metadata": {},
     "output_type": "execute_result"
    }
   ],
   "source": [
    "dfa = merged_df[merged_df[\"ticker\"]==\"AAPL\"]\n",
    "dfa.shape"
   ]
  },
  {
   "cell_type": "markdown",
   "id": "527789e2-528a-4060-8ede-3934c61bfa2a",
   "metadata": {},
   "source": [
    "## QUARTERLY PRICE DE EKLE"
   ]
  },
  {
   "cell_type": "code",
   "execution_count": 63,
   "id": "93dcb7ec-eaf5-42f3-a1ea-c7ee60491ae1",
   "metadata": {},
   "outputs": [
    {
     "data": {
      "text/html": [
       "<div>\n",
       "<style scoped>\n",
       "    .dataframe tbody tr th:only-of-type {\n",
       "        vertical-align: middle;\n",
       "    }\n",
       "\n",
       "    .dataframe tbody tr th {\n",
       "        vertical-align: top;\n",
       "    }\n",
       "\n",
       "    .dataframe thead th {\n",
       "        text-align: right;\n",
       "    }\n",
       "</style>\n",
       "<table border=\"1\" class=\"dataframe\">\n",
       "  <thead>\n",
       "    <tr style=\"text-align: right;\">\n",
       "      <th></th>\n",
       "      <th>ticker</th>\n",
       "      <th>quarter</th>\n",
       "      <th>close</th>\n",
       "    </tr>\n",
       "  </thead>\n",
       "  <tbody>\n",
       "    <tr>\n",
       "      <th>0</th>\n",
       "      <td>A</td>\n",
       "      <td>1999-12-31</td>\n",
       "      <td>34.580651</td>\n",
       "    </tr>\n",
       "    <tr>\n",
       "      <th>1</th>\n",
       "      <td>A</td>\n",
       "      <td>2000-03-31</td>\n",
       "      <td>66.964817</td>\n",
       "    </tr>\n",
       "    <tr>\n",
       "      <th>2</th>\n",
       "      <td>A</td>\n",
       "      <td>2000-06-30</td>\n",
       "      <td>57.967057</td>\n",
       "    </tr>\n",
       "    <tr>\n",
       "      <th>3</th>\n",
       "      <td>A</td>\n",
       "      <td>2000-09-30</td>\n",
       "      <td>39.044759</td>\n",
       "    </tr>\n",
       "    <tr>\n",
       "      <th>4</th>\n",
       "      <td>A</td>\n",
       "      <td>2000-12-31</td>\n",
       "      <td>35.531911</td>\n",
       "    </tr>\n",
       "  </tbody>\n",
       "</table>\n",
       "</div>"
      ],
      "text/plain": [
       "  ticker    quarter      close\n",
       "0      A 1999-12-31  34.580651\n",
       "1      A 2000-03-31  66.964817\n",
       "2      A 2000-06-30  57.967057\n",
       "3      A 2000-09-30  39.044759\n",
       "4      A 2000-12-31  35.531911"
      ]
     },
     "execution_count": 63,
     "metadata": {},
     "output_type": "execute_result"
    }
   ],
   "source": [
    "quarterly_price = filtered_df.groupby(['ticker', 'quarter'])['close'].mean().reset_index()\n",
    "quarterly_price.rename(columns={'price': 'quarterly_price'}, inplace=True)\n",
    "quarterly_price.head()"
   ]
  },
  {
   "cell_type": "code",
   "execution_count": 64,
   "id": "987667e2-0e7e-4ee3-bbd2-b4a595dd068b",
   "metadata": {},
   "outputs": [],
   "source": [
    "merged_df = pd.merge(merged_df, quarterly_price, on=['ticker', 'quarter'])\n"
   ]
  },
  {
   "cell_type": "code",
   "execution_count": 65,
   "id": "f67581a4-5d08-4859-a0ad-fd2c91e6e2ff",
   "metadata": {},
   "outputs": [
    {
     "data": {
      "text/html": [
       "<div>\n",
       "<style scoped>\n",
       "    .dataframe tbody tr th:only-of-type {\n",
       "        vertical-align: middle;\n",
       "    }\n",
       "\n",
       "    .dataframe tbody tr th {\n",
       "        vertical-align: top;\n",
       "    }\n",
       "\n",
       "    .dataframe thead th {\n",
       "        text-align: right;\n",
       "    }\n",
       "</style>\n",
       "<table border=\"1\" class=\"dataframe\">\n",
       "  <thead>\n",
       "    <tr style=\"text-align: right;\">\n",
       "      <th></th>\n",
       "      <th>ticker</th>\n",
       "      <th>quarter</th>\n",
       "      <th>quarterly_volatility</th>\n",
       "      <th>quarterly_volume</th>\n",
       "      <th>quarterly_price</th>\n",
       "    </tr>\n",
       "  </thead>\n",
       "  <tbody>\n",
       "    <tr>\n",
       "      <th>0</th>\n",
       "      <td>A</td>\n",
       "      <td>1999-12-31</td>\n",
       "      <td>0.062768</td>\n",
       "      <td>172198500</td>\n",
       "      <td>34.580651</td>\n",
       "    </tr>\n",
       "    <tr>\n",
       "      <th>1</th>\n",
       "      <td>A</td>\n",
       "      <td>2000-03-31</td>\n",
       "      <td>0.079432</td>\n",
       "      <td>135495200</td>\n",
       "      <td>66.964817</td>\n",
       "    </tr>\n",
       "    <tr>\n",
       "      <th>2</th>\n",
       "      <td>A</td>\n",
       "      <td>2000-06-30</td>\n",
       "      <td>0.072011</td>\n",
       "      <td>333488000</td>\n",
       "      <td>57.967057</td>\n",
       "    </tr>\n",
       "    <tr>\n",
       "      <th>3</th>\n",
       "      <td>A</td>\n",
       "      <td>2000-09-30</td>\n",
       "      <td>0.058517</td>\n",
       "      <td>350473500</td>\n",
       "      <td>39.044759</td>\n",
       "    </tr>\n",
       "    <tr>\n",
       "      <th>4</th>\n",
       "      <td>A</td>\n",
       "      <td>2000-12-31</td>\n",
       "      <td>0.052617</td>\n",
       "      <td>248571600</td>\n",
       "      <td>35.531911</td>\n",
       "    </tr>\n",
       "  </tbody>\n",
       "</table>\n",
       "</div>"
      ],
      "text/plain": [
       "  ticker    quarter  quarterly_volatility  quarterly_volume  quarterly_price\n",
       "0      A 1999-12-31              0.062768         172198500        34.580651\n",
       "1      A 2000-03-31              0.079432         135495200        66.964817\n",
       "2      A 2000-06-30              0.072011         333488000        57.967057\n",
       "3      A 2000-09-30              0.058517         350473500        39.044759\n",
       "4      A 2000-12-31              0.052617         248571600        35.531911"
      ]
     },
     "execution_count": 65,
     "metadata": {},
     "output_type": "execute_result"
    }
   ],
   "source": [
    "merged_df.rename(columns={'close': 'quarterly_price'}, inplace=True)\n",
    "merged_df.head()"
   ]
  },
  {
   "cell_type": "code",
   "execution_count": 66,
   "id": "5dec221a-1a55-4442-bf81-c366ea29dead",
   "metadata": {},
   "outputs": [
    {
     "data": {
      "image/png": "[encoded data removed]",
      "text/plain": [
       "<Figure size 720x432 with 1 Axes>"
      ]
     },
     "metadata": {
      "needs_background": "light"
     },
     "output_type": "display_data"
    }
   ],
   "source": [
    "import matplotlib.pyplot as plt\n",
    "\n",
    "\n",
    "# Count the number of NaNs per quarter\n",
    "nan_counts = merged_df['quarterly_volatility'].isna().groupby(merged_df['quarter']).sum().reset_index(name='nan_count')\n",
    "\n",
    "# Plotting\n",
    "plt.figure(figsize=(10, 6))\n",
    "plt.bar(nan_counts['quarter'], nan_counts['nan_count'], color='skyblue', width=20)\n",
    "plt.xlabel('Quarter')\n",
    "plt.ylabel('Count of NaNs')\n",
    "plt.title('Count of NaN Values by Quarter')\n",
    "plt.xticks(rotation=45)  # Rotate the x labels to show them better\n",
    "plt.show()"
   ]
  },
  {
   "cell_type": "code",
   "execution_count": 67,
   "id": "1109650b-1fa2-4e27-888c-a242942d733a",
   "metadata": {},
   "outputs": [
    {
     "name": "stdout",
     "output_type": "stream",
     "text": [
      "Percentage of NaN values in the DataFrame: 0.03%\n"
     ]
    }
   ],
   "source": [
    "\n",
    "# Assuming 'df' is your DataFrame\n",
    "percentage_nans = merged_df.isna().mean().mean() * 100\n",
    "\n",
    "print(f\"Percentage of NaN values in the DataFrame: {percentage_nans:.2f}%\")"
   ]
  },
  {
   "cell_type": "markdown",
   "id": "4b90941a-50b3-4626-ad8e-b05a8ecd5ced",
   "metadata": {},
   "source": [
    "### Lets also flag historically be in SP500 companies from \"Trading Evolved\" by Andreas F. Clenow data/index_members/sp500"
   ]
  },
  {
   "cell_type": "code",
   "execution_count": 68,
   "id": "cb8c6af6-42c3-41e8-a4c3-56b6355663b5",
   "metadata": {},
   "outputs": [],
   "source": [
    "import requests\n",
    "import pandas as pd\n",
    "from io import StringIO\n",
    "\n",
    "url = \"https://raw.githubusercontent.com/fja05680/sp500/master/S%26P%20500%20Historical%20Components%20%26%20Changes(08-01-2023).csv\"\n",
    "response = requests.get(url)\n",
    "data = StringIO(response.text)\n",
    "df = pd.read_csv(data)\n",
    "\n",
    "def get_common_tickers(df):\n",
    "    # Step 1: Filter rows between 1999 to 2017\n",
    "    filtered_df = df[(df['date'] >= '1999-03-30') & (df['date'] <= '2017-09-30')]\n",
    "    \n",
    "    # Step 2: Convert each row of tickers into a set\n",
    "    ticker_sets = filtered_df['tickers'].str.split(',').apply(set)\n",
    "    \n",
    "    # Find common tickers by taking intersection of all sets\n",
    "    common_tickers = set.intersection(*ticker_sets)\n",
    "    \n",
    "    return list(common_tickers)\n",
    "\n",
    "common_symbols = get_common_tickers(df)\n",
    "merged_df['is_sp500'] = merged_df['ticker'].apply(lambda x: x in common_symbols)"
   ]
  },
  {
   "cell_type": "code",
   "execution_count": 69,
   "id": "d976baa6-e65e-449b-8707-ff0668a43cf0",
   "metadata": {},
   "outputs": [
    {
     "data": {
      "text/html": [
       "<div>\n",
       "<style scoped>\n",
       "    .dataframe tbody tr th:only-of-type {\n",
       "        vertical-align: middle;\n",
       "    }\n",
       "\n",
       "    .dataframe tbody tr th {\n",
       "        vertical-align: top;\n",
       "    }\n",
       "\n",
       "    .dataframe thead th {\n",
       "        text-align: right;\n",
       "    }\n",
       "</style>\n",
       "<table border=\"1\" class=\"dataframe\">\n",
       "  <thead>\n",
       "    <tr style=\"text-align: right;\">\n",
       "      <th></th>\n",
       "      <th>ticker</th>\n",
       "      <th>quarter</th>\n",
       "      <th>quarterly_volatility</th>\n",
       "      <th>quarterly_volume</th>\n",
       "      <th>quarterly_price</th>\n",
       "      <th>is_sp500</th>\n",
       "    </tr>\n",
       "  </thead>\n",
       "  <tbody>\n",
       "    <tr>\n",
       "      <th>0</th>\n",
       "      <td>A</td>\n",
       "      <td>1999-12-31</td>\n",
       "      <td>0.062768</td>\n",
       "      <td>172198500</td>\n",
       "      <td>34.580651</td>\n",
       "      <td>False</td>\n",
       "    </tr>\n",
       "    <tr>\n",
       "      <th>1</th>\n",
       "      <td>A</td>\n",
       "      <td>2000-03-31</td>\n",
       "      <td>0.079432</td>\n",
       "      <td>135495200</td>\n",
       "      <td>66.964817</td>\n",
       "      <td>False</td>\n",
       "    </tr>\n",
       "    <tr>\n",
       "      <th>2</th>\n",
       "      <td>A</td>\n",
       "      <td>2000-06-30</td>\n",
       "      <td>0.072011</td>\n",
       "      <td>333488000</td>\n",
       "      <td>57.967057</td>\n",
       "      <td>False</td>\n",
       "    </tr>\n",
       "    <tr>\n",
       "      <th>3</th>\n",
       "      <td>A</td>\n",
       "      <td>2000-09-30</td>\n",
       "      <td>0.058517</td>\n",
       "      <td>350473500</td>\n",
       "      <td>39.044759</td>\n",
       "      <td>False</td>\n",
       "    </tr>\n",
       "    <tr>\n",
       "      <th>4</th>\n",
       "      <td>A</td>\n",
       "      <td>2000-12-31</td>\n",
       "      <td>0.052617</td>\n",
       "      <td>248571600</td>\n",
       "      <td>35.531911</td>\n",
       "      <td>False</td>\n",
       "    </tr>\n",
       "  </tbody>\n",
       "</table>\n",
       "</div>"
      ],
      "text/plain": [
       "  ticker    quarter  quarterly_volatility  quarterly_volume  quarterly_price  \\\n",
       "0      A 1999-12-31              0.062768         172198500        34.580651   \n",
       "1      A 2000-03-31              0.079432         135495200        66.964817   \n",
       "2      A 2000-06-30              0.072011         333488000        57.967057   \n",
       "3      A 2000-09-30              0.058517         350473500        39.044759   \n",
       "4      A 2000-12-31              0.052617         248571600        35.531911   \n",
       "\n",
       "   is_sp500  \n",
       "0     False  \n",
       "1     False  \n",
       "2     False  \n",
       "3     False  \n",
       "4     False  "
      ]
     },
     "execution_count": 69,
     "metadata": {},
     "output_type": "execute_result"
    }
   ],
   "source": [
    "merged_df.head()"
   ]
  },
  {
   "cell_type": "code",
   "execution_count": 70,
   "id": "a31157e7-4c01-4629-9f97-0a9cd3f673dd",
   "metadata": {},
   "outputs": [],
   "source": [
    "import pandas as pd\n",
    "\n",
    "# Assuming df and merged_df are already defined\n",
    "\n",
    "# Convert the 'date' column to datetime in df\n",
    "df['date'] = pd.to_datetime(df['date'])\n",
    "\n",
    "# Split the 'tickers' string into a list of tickers\n",
    "df['tickers'] = df['tickers'].str.split(',')\n",
    "\n",
    "# Explode the dataframe to have one ticker per row\n",
    "df_exploded = df.explode('tickers')\n",
    "\n",
    "# Function to determine the quarter for a given date\n",
    "def assign_quarter(date):\n",
    "    # Assign to the first quarter by default\n",
    "    current_quarter = quarter_dates[0]\n",
    "    for quarter_end in quarter_dates:\n",
    "        if date <= quarter_end:\n",
    "            current_quarter = quarter_end\n",
    "            break\n",
    "    return current_quarter\n",
    "\n",
    "# Apply the function to the 'date' column to create a new 'quarter' column\n",
    "df_exploded['quarter'] = df_exploded['date'].apply(assign_quarter)"
   ]
  },
  {
   "cell_type": "code",
   "execution_count": 71,
   "id": "e8e8ddfd-e2a4-4423-9446-311cb60202ac",
   "metadata": {},
   "outputs": [],
   "source": [
    "df_exploded.drop(columns=['date'], inplace=True)\n",
    "df_exploded.rename(columns={'tickers': 'ticker'}, inplace=True)\n",
    "\n",
    "# Create a unique identifier in both DataFrames\n",
    "merged_df['unique_id'] = merged_df['ticker'] + '_' + merged_df['quarter'].astype(str)\n",
    "df_exploded['unique_id'] = df_exploded['ticker'] + '_' + df_exploded['quarter'].astype(str)\n",
    "\n",
    "# Use isin to create the was_in_sp500 column\n",
    "merged_df['was_in_sp500'] = merged_df['unique_id'].isin(df_exploded['unique_id'])\n",
    "\n",
    "merged_df.drop(columns=['unique_id','is_sp500'], inplace=True)\n"
   ]
  },
  {
   "cell_type": "code",
   "execution_count": 72,
   "id": "ea7c7323-149a-4cfd-a051-c58c24703ba7",
   "metadata": {},
   "outputs": [
    {
     "data": {
      "text/html": [
       "<div>\n",
       "<style scoped>\n",
       "    .dataframe tbody tr th:only-of-type {\n",
       "        vertical-align: middle;\n",
       "    }\n",
       "\n",
       "    .dataframe tbody tr th {\n",
       "        vertical-align: top;\n",
       "    }\n",
       "\n",
       "    .dataframe thead th {\n",
       "        text-align: right;\n",
       "    }\n",
       "</style>\n",
       "<table border=\"1\" class=\"dataframe\">\n",
       "  <thead>\n",
       "    <tr style=\"text-align: right;\">\n",
       "      <th></th>\n",
       "      <th>ticker</th>\n",
       "      <th>quarter</th>\n",
       "      <th>quarterly_volatility</th>\n",
       "      <th>quarterly_volume</th>\n",
       "      <th>quarterly_price</th>\n",
       "      <th>was_in_sp500</th>\n",
       "    </tr>\n",
       "  </thead>\n",
       "  <tbody>\n",
       "    <tr>\n",
       "      <th>0</th>\n",
       "      <td>A</td>\n",
       "      <td>1999-12-31</td>\n",
       "      <td>0.062768</td>\n",
       "      <td>172198500</td>\n",
       "      <td>34.580651</td>\n",
       "      <td>False</td>\n",
       "    </tr>\n",
       "    <tr>\n",
       "      <th>1</th>\n",
       "      <td>A</td>\n",
       "      <td>2000-03-31</td>\n",
       "      <td>0.079432</td>\n",
       "      <td>135495200</td>\n",
       "      <td>66.964817</td>\n",
       "      <td>False</td>\n",
       "    </tr>\n",
       "    <tr>\n",
       "      <th>2</th>\n",
       "      <td>A</td>\n",
       "      <td>2000-06-30</td>\n",
       "      <td>0.072011</td>\n",
       "      <td>333488000</td>\n",
       "      <td>57.967057</td>\n",
       "      <td>True</td>\n",
       "    </tr>\n",
       "    <tr>\n",
       "      <th>3</th>\n",
       "      <td>A</td>\n",
       "      <td>2000-09-30</td>\n",
       "      <td>0.058517</td>\n",
       "      <td>350473500</td>\n",
       "      <td>39.044759</td>\n",
       "      <td>True</td>\n",
       "    </tr>\n",
       "    <tr>\n",
       "      <th>4</th>\n",
       "      <td>A</td>\n",
       "      <td>2000-12-31</td>\n",
       "      <td>0.052617</td>\n",
       "      <td>248571600</td>\n",
       "      <td>35.531911</td>\n",
       "      <td>True</td>\n",
       "    </tr>\n",
       "  </tbody>\n",
       "</table>\n",
       "</div>"
      ],
      "text/plain": [
       "  ticker    quarter  quarterly_volatility  quarterly_volume  quarterly_price  \\\n",
       "0      A 1999-12-31              0.062768         172198500        34.580651   \n",
       "1      A 2000-03-31              0.079432         135495200        66.964817   \n",
       "2      A 2000-06-30              0.072011         333488000        57.967057   \n",
       "3      A 2000-09-30              0.058517         350473500        39.044759   \n",
       "4      A 2000-12-31              0.052617         248571600        35.531911   \n",
       "\n",
       "   was_in_sp500  \n",
       "0         False  \n",
       "1         False  \n",
       "2          True  \n",
       "3          True  \n",
       "4          True  "
      ]
     },
     "execution_count": 72,
     "metadata": {},
     "output_type": "execute_result"
    }
   ],
   "source": [
    "merged_df.head()"
   ]
  },
  {
   "cell_type": "code",
   "execution_count": 73,
   "id": "5d7b78aa-4730-43b8-9929-25251a70502e",
   "metadata": {},
   "outputs": [
    {
     "data": {
      "text/plain": [
       "(175893, 6)"
      ]
     },
     "execution_count": 73,
     "metadata": {},
     "output_type": "execute_result"
    }
   ],
   "source": [
    "merged_df.shape"
   ]
  },
  {
   "cell_type": "code",
   "execution_count": 74,
   "id": "abdd8af0-c449-4799-a289-bccb7857bd4e",
   "metadata": {},
   "outputs": [],
   "source": [
    "merged_df.to_csv('prices_final.csv')"
   ]
  },
  {
   "cell_type": "code",
   "execution_count": null,
   "id": "351644ba-ba01-425d-9bfd-0c5368812d71",
   "metadata": {},
   "outputs": [],
   "source": []
  }
 ],
 "metadata": {
  "kernelspec": {
   "display_name": "Python 3 (ipykernel)",
   "language": "python",
   "name": "python3"
  },
  "language_info": {
   "codemirror_mode": {
    "name": "ipython",
    "version": 3
   },
   "file_extension": ".py",
   "mimetype": "text/x-python",
   "name": "python",
   "nbconvert_exporter": "python",
   "pygments_lexer": "ipython3",
   "version": "3.9.12"
  }
 },
 "nbformat": 4,
 "nbformat_minor": 5
}
