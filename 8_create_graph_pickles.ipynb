{
 "cells": [
  {
   "cell_type": "code",
   "execution_count": 1,
   "id": "724a965f",
   "metadata": {
    "scrolled": true
   },
   "outputs": [
    {
     "name": "stderr",
     "output_type": "stream",
     "text": [
      "C:\\Users\\ersin\\anaconda3\\lib\\site-packages\\numpy\\_distributor_init.py:30: UserWarning: loaded more than 1 DLL from .libs:\n",
      "C:\\Users\\ersin\\anaconda3\\lib\\site-packages\\numpy\\.libs\\libopenblas.XWYDX2IKJW2NMTWSFYNGFUWKQU3LYTCZ.gfortran-win_amd64.dll\n",
      "C:\\Users\\ersin\\anaconda3\\lib\\site-packages\\numpy\\.libs\\libopenblas64__v0.3.23-246-g3d31191b-gcc_10_3_0.dll\n",
      "  warnings.warn(\"loaded more than 1 DLL from .libs:\"\n"
     ]
    }
   ],
   "source": [
    "import pandas as pd\n",
    "\n",
    "edges = pd.read_csv(\"edges.csv\", index_col=0)\n",
    "investors = pd.read_csv(\"investors.csv\", index_col=0)\n",
    "stocks = pd.read_csv(\"stocks.csv\", index_col=0)"
   ]
  },
  {
   "cell_type": "markdown",
   "id": "875a7fcb",
   "metadata": {},
   "source": [
    "# FİRST SOLVE ERROR IN VOLATILITY CAT CALCULATION"
   ]
  },
  {
   "cell_type": "code",
   "execution_count": 2,
   "id": "11de0651",
   "metadata": {},
   "outputs": [],
   "source": [
    "prices = pd.read_csv(\"prices_final.csv\", index_col=0)"
   ]
  },
  {
   "cell_type": "code",
   "execution_count": 3,
   "id": "cd34fdf2",
   "metadata": {},
   "outputs": [
    {
     "data": {
      "text/html": [
       "<div>\n",
       "<style scoped>\n",
       "    .dataframe tbody tr th:only-of-type {\n",
       "        vertical-align: middle;\n",
       "    }\n",
       "\n",
       "    .dataframe tbody tr th {\n",
       "        vertical-align: top;\n",
       "    }\n",
       "\n",
       "    .dataframe thead th {\n",
       "        text-align: right;\n",
       "    }\n",
       "</style>\n",
       "<table border=\"1\" class=\"dataframe\">\n",
       "  <thead>\n",
       "    <tr style=\"text-align: right;\">\n",
       "      <th></th>\n",
       "      <th>ticker</th>\n",
       "      <th>quarter</th>\n",
       "      <th>quarterly_volatility</th>\n",
       "      <th>quarterly_volume</th>\n",
       "      <th>quarterly_price</th>\n",
       "      <th>was_in_sp500</th>\n",
       "    </tr>\n",
       "  </thead>\n",
       "  <tbody>\n",
       "    <tr>\n",
       "      <th>0</th>\n",
       "      <td>A</td>\n",
       "      <td>1999-12-31</td>\n",
       "      <td>0.062768</td>\n",
       "      <td>172198500</td>\n",
       "      <td>34.580651</td>\n",
       "      <td>False</td>\n",
       "    </tr>\n",
       "    <tr>\n",
       "      <th>1</th>\n",
       "      <td>A</td>\n",
       "      <td>2000-03-31</td>\n",
       "      <td>0.079432</td>\n",
       "      <td>135495200</td>\n",
       "      <td>66.964817</td>\n",
       "      <td>False</td>\n",
       "    </tr>\n",
       "    <tr>\n",
       "      <th>2</th>\n",
       "      <td>A</td>\n",
       "      <td>2000-06-30</td>\n",
       "      <td>0.072011</td>\n",
       "      <td>333488000</td>\n",
       "      <td>57.967057</td>\n",
       "      <td>True</td>\n",
       "    </tr>\n",
       "    <tr>\n",
       "      <th>3</th>\n",
       "      <td>A</td>\n",
       "      <td>2000-09-30</td>\n",
       "      <td>0.058517</td>\n",
       "      <td>350473500</td>\n",
       "      <td>39.044759</td>\n",
       "      <td>True</td>\n",
       "    </tr>\n",
       "    <tr>\n",
       "      <th>4</th>\n",
       "      <td>A</td>\n",
       "      <td>2000-12-31</td>\n",
       "      <td>0.052617</td>\n",
       "      <td>248571600</td>\n",
       "      <td>35.531911</td>\n",
       "      <td>True</td>\n",
       "    </tr>\n",
       "    <tr>\n",
       "      <th>...</th>\n",
       "      <td>...</td>\n",
       "      <td>...</td>\n",
       "      <td>...</td>\n",
       "      <td>...</td>\n",
       "      <td>...</td>\n",
       "      <td>...</td>\n",
       "    </tr>\n",
       "    <tr>\n",
       "      <th>175888</th>\n",
       "      <td>ZYNE</td>\n",
       "      <td>2016-09-30</td>\n",
       "      <td>0.049182</td>\n",
       "      <td>13606500</td>\n",
       "      <td>9.497656</td>\n",
       "      <td>False</td>\n",
       "    </tr>\n",
       "    <tr>\n",
       "      <th>175889</th>\n",
       "      <td>ZYNE</td>\n",
       "      <td>2016-12-31</td>\n",
       "      <td>0.041705</td>\n",
       "      <td>13470600</td>\n",
       "      <td>13.468254</td>\n",
       "      <td>False</td>\n",
       "    </tr>\n",
       "    <tr>\n",
       "      <th>175890</th>\n",
       "      <td>ZYNE</td>\n",
       "      <td>2017-03-31</td>\n",
       "      <td>0.049640</td>\n",
       "      <td>28884800</td>\n",
       "      <td>19.872419</td>\n",
       "      <td>False</td>\n",
       "    </tr>\n",
       "    <tr>\n",
       "      <th>175891</th>\n",
       "      <td>ZYNE</td>\n",
       "      <td>2017-06-30</td>\n",
       "      <td>0.036543</td>\n",
       "      <td>27600500</td>\n",
       "      <td>19.882540</td>\n",
       "      <td>False</td>\n",
       "    </tr>\n",
       "    <tr>\n",
       "      <th>175892</th>\n",
       "      <td>ZYNE</td>\n",
       "      <td>2017-09-30</td>\n",
       "      <td>0.108119</td>\n",
       "      <td>67417000</td>\n",
       "      <td>10.572698</td>\n",
       "      <td>False</td>\n",
       "    </tr>\n",
       "  </tbody>\n",
       "</table>\n",
       "<p>175893 rows × 6 columns</p>\n",
       "</div>"
      ],
      "text/plain": [
       "       ticker     quarter  quarterly_volatility  quarterly_volume  \\\n",
       "0           A  1999-12-31              0.062768         172198500   \n",
       "1           A  2000-03-31              0.079432         135495200   \n",
       "2           A  2000-06-30              0.072011         333488000   \n",
       "3           A  2000-09-30              0.058517         350473500   \n",
       "4           A  2000-12-31              0.052617         248571600   \n",
       "...       ...         ...                   ...               ...   \n",
       "175888   ZYNE  2016-09-30              0.049182          13606500   \n",
       "175889   ZYNE  2016-12-31              0.041705          13470600   \n",
       "175890   ZYNE  2017-03-31              0.049640          28884800   \n",
       "175891   ZYNE  2017-06-30              0.036543          27600500   \n",
       "175892   ZYNE  2017-09-30              0.108119          67417000   \n",
       "\n",
       "        quarterly_price  was_in_sp500  \n",
       "0             34.580651         False  \n",
       "1             66.964817         False  \n",
       "2             57.967057          True  \n",
       "3             39.044759          True  \n",
       "4             35.531911          True  \n",
       "...                 ...           ...  \n",
       "175888         9.497656         False  \n",
       "175889        13.468254         False  \n",
       "175890        19.872419         False  \n",
       "175891        19.882540         False  \n",
       "175892        10.572698         False  \n",
       "\n",
       "[175893 rows x 6 columns]"
      ]
     },
     "execution_count": 3,
     "metadata": {},
     "output_type": "execute_result"
    }
   ],
   "source": [
    "prices"
   ]
  },
  {
   "cell_type": "code",
   "execution_count": 4,
   "id": "61ac7941",
   "metadata": {},
   "outputs": [],
   "source": [
    "import pandas as pd\n",
    "from scipy import stats\n",
    "import numpy as np \n",
    "# Assuming grouped_df and merged_df are defined\n",
    "\n",
    "# Calculate percentiles for 'quarterly_volatility' in grouped_df\n",
    "volatility_percentiles = prices['quarterly_volatility'].quantile([0.05, 0.5, 0.95]).to_dict()\n",
    "\n",
    "# Calculate percentiles for 'quarterly_volume' in grouped_df\n",
    "volume_percentiles = prices['quarterly_volume'].quantile([0.05, 0.5, 0.95]).to_dict()\n",
    "\n",
    "def categorize_volume(value):\n",
    "    if pd.isna(value):\n",
    "        return np.nan  # Return NaN if the value is NaN\n",
    "    elif value <= volume_percentiles[0.05]:\n",
    "        return 'very low'\n",
    "    elif value <= volume_percentiles[0.5]:\n",
    "        return 'low'\n",
    "    elif value <= volume_percentiles[0.95]:\n",
    "        return 'high'\n",
    "    else:\n",
    "        return 'very high'\n",
    "    \n",
    "\n",
    "def categorize_volatility(value):\n",
    "    if pd.isna(value):\n",
    "        return np.nan  # Return NaN if the value is NaN\n",
    "    elif value <= volatility_percentiles[0.05]:\n",
    "        return 'very low'\n",
    "    elif value <= volatility_percentiles[0.5]:\n",
    "        return 'low'\n",
    "    elif value <= volatility_percentiles[0.95]:\n",
    "        return 'high'\n",
    "    else:\n",
    "        return 'very high'\n",
    "\n",
    "# Apply the categorization functions to 'merged_df'\n",
    "prices['volatility_category'] = prices['quarterly_volatility'].apply(categorize_volatility)\n",
    "prices['volume_category'] = prices['quarterly_volume'].apply(categorize_volume)"
   ]
  },
  {
   "cell_type": "code",
   "execution_count": 5,
   "id": "7a4482de",
   "metadata": {},
   "outputs": [
    {
     "data": {
      "text/plain": [
       "volatility_category\n",
       "high         79013\n",
       "low          79013\n",
       "very high     8780\n",
       "very low      8780\n",
       "Name: count, dtype: int64"
      ]
     },
     "execution_count": 5,
     "metadata": {},
     "output_type": "execute_result"
    }
   ],
   "source": [
    "prices.volatility_category.value_counts()"
   ]
  },
  {
   "cell_type": "code",
   "execution_count": 9,
   "id": "9c79b350",
   "metadata": {
    "scrolled": true
   },
   "outputs": [
    {
     "data": {
      "text/plain": [
       "{'high': 79151, 'low': 79148, 'very low': 8799, 'very high': 8795}"
      ]
     },
     "execution_count": 9,
     "metadata": {},
     "output_type": "execute_result"
    }
   ],
   "source": []
  },
  {
   "cell_type": "code",
   "execution_count": 55,
   "id": "9bdde1a0",
   "metadata": {},
   "outputs": [
    {
     "name": "stderr",
     "output_type": "stream",
     "text": [
      "C:\\Users\\ersin\\AppData\\Local\\Temp\\ipykernel_5280\\2289060133.py:19: UserWarning: FixedFormatter should only be used together with FixedLocator\n",
      "  axes[0].set_xticklabels(volatility_counts.keys(), rotation=45, fontsize=16)\n",
      "C:\\Users\\ersin\\AppData\\Local\\Temp\\ipykernel_5280\\2289060133.py:30: UserWarning: FixedFormatter should only be used together with FixedLocator\n",
      "  axes[1].set_xticklabels(volume_counts.keys(), rotation=45, fontsize=16)\n"
     ]
    },
    {
     "data": {
      "image/png": "[encoded data removed]",
      "text/plain": [
       "<Figure size 1440x576 with 2 Axes>"
      ]
     },
     "metadata": {
      "needs_background": "light"
     },
     "output_type": "display_data"
    }
   ],
   "source": [
    "import matplotlib.pyplot as plt\n",
    "\n",
    "# Your data\n",
    "volatility_counts = prices.volatility_category.value_counts().to_dict()\n",
    "volume_counts = prices.volume_category.value_counts().to_dict()\n",
    "\n",
    "# Calculate the total for percentages\n",
    "total_volatility = sum(volatility_counts.values())\n",
    "total_volume = sum(volume_counts.values())\n",
    "\n",
    "# Create subplots with constrained layout\n",
    "fig, axes = plt.subplots(1, 2, figsize=(20, 8), constrained_layout=True)\n",
    "\n",
    "# Plot for 'volatility category'\n",
    "axes[0].bar(volatility_counts.keys(), volatility_counts.values(), color='royalblue')\n",
    "axes[0].set_title('Distribution of Volatility Categories', fontsize=16)\n",
    "axes[0].set_xlabel('Volatility Category', fontsize=16)\n",
    "axes[0].set_ylabel('Count', fontsize=16)\n",
    "axes[0].set_xticklabels(volatility_counts.keys(), rotation=45, fontsize=16)\n",
    "\n",
    "# Adding percentages on the bars\n",
    "for i, value in enumerate(volatility_counts.values()):\n",
    "    axes[0].text(i, value + total_volatility*0.004, f'{(value/total_volatility)*100:.2f}%', ha='center', va='bottom', fontsize=16)\n",
    "\n",
    "# Plot for 'volume category'\n",
    "axes[1].bar(volume_counts.keys(), volume_counts.values(), color='seagreen')\n",
    "axes[1].set_title('Distribution of Volume Categories', fontsize=16)\n",
    "axes[1].set_xlabel('Volume Category', fontsize=16)\n",
    "axes[1].set_ylabel('Count', fontsize=16)\n",
    "axes[1].set_xticklabels(volume_counts.keys(), rotation=45, fontsize=16)\n",
    "\n",
    "# Adding percentages on the bars\n",
    "for i, value in enumerate(volume_counts.values()):\n",
    "    axes[1].text(i, value + total_volume*0.004, f'{(value/total_volume)*100:.2f}%', ha='center', va='bottom', fontsize=16)\n",
    "\n",
    "# Show plot\n",
    "plt.show()\n"
   ]
  },
  {
   "cell_type": "code",
   "execution_count": 9,
   "id": "710ff573",
   "metadata": {
    "scrolled": false
   },
   "outputs": [
    {
     "data": {
      "text/html": [
       "<div>\n",
       "<style scoped>\n",
       "    .dataframe tbody tr th:only-of-type {\n",
       "        vertical-align: middle;\n",
       "    }\n",
       "\n",
       "    .dataframe tbody tr th {\n",
       "        vertical-align: top;\n",
       "    }\n",
       "\n",
       "    .dataframe thead th {\n",
       "        text-align: right;\n",
       "    }\n",
       "</style>\n",
       "<table border=\"1\" class=\"dataframe\">\n",
       "  <thead>\n",
       "    <tr style=\"text-align: right;\">\n",
       "      <th></th>\n",
       "      <th>cikname</th>\n",
       "      <th>name</th>\n",
       "      <th>quarter</th>\n",
       "      <th>changeCat</th>\n",
       "      <th>delay_cat</th>\n",
       "      <th>volatility_category</th>\n",
       "      <th>volume_category</th>\n",
       "      <th>direction</th>\n",
       "    </tr>\n",
       "  </thead>\n",
       "  <tbody>\n",
       "    <tr>\n",
       "      <th>0</th>\n",
       "      <td>FRED ALGER MANAGEMENT INC</td>\n",
       "      <td>AAC HOLDINGS INC</td>\n",
       "      <td>2015-06-30</td>\n",
       "      <td>Buy</td>\n",
       "      <td>on time</td>\n",
       "      <td>NaN</td>\n",
       "      <td>NaN</td>\n",
       "      <td>stock_to_investor</td>\n",
       "    </tr>\n",
       "    <tr>\n",
       "      <th>1</th>\n",
       "      <td>FRED ALGER MANAGEMENT INC</td>\n",
       "      <td>AAR CORP</td>\n",
       "      <td>2011-12-31</td>\n",
       "      <td>Large Sale</td>\n",
       "      <td>on time</td>\n",
       "      <td>very low</td>\n",
       "      <td>high</td>\n",
       "      <td>investor_to_stock</td>\n",
       "    </tr>\n",
       "    <tr>\n",
       "      <th>2</th>\n",
       "      <td>FRED ALGER MANAGEMENT INC</td>\n",
       "      <td>AAR CORP</td>\n",
       "      <td>2012-03-31</td>\n",
       "      <td>Significant Sale</td>\n",
       "      <td>on time</td>\n",
       "      <td>very low</td>\n",
       "      <td>low</td>\n",
       "      <td>investor_to_stock</td>\n",
       "    </tr>\n",
       "    <tr>\n",
       "      <th>3</th>\n",
       "      <td>FRED ALGER MANAGEMENT INC</td>\n",
       "      <td>ADT CORP</td>\n",
       "      <td>2012-12-31</td>\n",
       "      <td>Significant Buy</td>\n",
       "      <td>on time</td>\n",
       "      <td>NaN</td>\n",
       "      <td>NaN</td>\n",
       "      <td>stock_to_investor</td>\n",
       "    </tr>\n",
       "    <tr>\n",
       "      <th>4</th>\n",
       "      <td>FRED ALGER MANAGEMENT INC</td>\n",
       "      <td>ADT CORP</td>\n",
       "      <td>2013-03-31</td>\n",
       "      <td>Large Buy</td>\n",
       "      <td>on time</td>\n",
       "      <td>NaN</td>\n",
       "      <td>NaN</td>\n",
       "      <td>stock_to_investor</td>\n",
       "    </tr>\n",
       "  </tbody>\n",
       "</table>\n",
       "</div>"
      ],
      "text/plain": [
       "                     cikname              name     quarter         changeCat  \\\n",
       "0  FRED ALGER MANAGEMENT INC  AAC HOLDINGS INC  2015-06-30               Buy   \n",
       "1  FRED ALGER MANAGEMENT INC          AAR CORP  2011-12-31        Large Sale   \n",
       "2  FRED ALGER MANAGEMENT INC          AAR CORP  2012-03-31  Significant Sale   \n",
       "3  FRED ALGER MANAGEMENT INC          ADT CORP  2012-12-31   Significant Buy   \n",
       "4  FRED ALGER MANAGEMENT INC          ADT CORP  2013-03-31         Large Buy   \n",
       "\n",
       "  delay_cat volatility_category volume_category          direction  \n",
       "0   on time                 NaN             NaN  stock_to_investor  \n",
       "1   on time            very low            high  investor_to_stock  \n",
       "2   on time            very low             low  investor_to_stock  \n",
       "3   on time                 NaN             NaN  stock_to_investor  \n",
       "4   on time                 NaN             NaN  stock_to_investor  "
      ]
     },
     "execution_count": 9,
     "metadata": {},
     "output_type": "execute_result"
    }
   ],
   "source": [
    "edges.head()"
   ]
  },
  {
   "cell_type": "code",
   "execution_count": 10,
   "id": "bcf798c4",
   "metadata": {
    "scrolled": true
   },
   "outputs": [
    {
     "data": {
      "text/html": [
       "<div>\n",
       "<style scoped>\n",
       "    .dataframe tbody tr th:only-of-type {\n",
       "        vertical-align: middle;\n",
       "    }\n",
       "\n",
       "    .dataframe tbody tr th {\n",
       "        vertical-align: top;\n",
       "    }\n",
       "\n",
       "    .dataframe thead th {\n",
       "        text-align: right;\n",
       "    }\n",
       "</style>\n",
       "<table border=\"1\" class=\"dataframe\">\n",
       "  <thead>\n",
       "    <tr style=\"text-align: right;\">\n",
       "      <th></th>\n",
       "      <th>ticker</th>\n",
       "      <th>quarter</th>\n",
       "      <th>quarterly_volatility</th>\n",
       "      <th>quarterly_volume</th>\n",
       "      <th>quarterly_price</th>\n",
       "      <th>was_in_sp500</th>\n",
       "      <th>volatility_category</th>\n",
       "      <th>volume_category</th>\n",
       "    </tr>\n",
       "  </thead>\n",
       "  <tbody>\n",
       "    <tr>\n",
       "      <th>0</th>\n",
       "      <td>A</td>\n",
       "      <td>1999-12-31</td>\n",
       "      <td>0.062768</td>\n",
       "      <td>172198500</td>\n",
       "      <td>34.580651</td>\n",
       "      <td>False</td>\n",
       "      <td>high</td>\n",
       "      <td>high</td>\n",
       "    </tr>\n",
       "    <tr>\n",
       "      <th>1</th>\n",
       "      <td>A</td>\n",
       "      <td>2000-03-31</td>\n",
       "      <td>0.079432</td>\n",
       "      <td>135495200</td>\n",
       "      <td>66.964817</td>\n",
       "      <td>False</td>\n",
       "      <td>very high</td>\n",
       "      <td>high</td>\n",
       "    </tr>\n",
       "    <tr>\n",
       "      <th>2</th>\n",
       "      <td>A</td>\n",
       "      <td>2000-06-30</td>\n",
       "      <td>0.072011</td>\n",
       "      <td>333488000</td>\n",
       "      <td>57.967057</td>\n",
       "      <td>True</td>\n",
       "      <td>high</td>\n",
       "      <td>high</td>\n",
       "    </tr>\n",
       "    <tr>\n",
       "      <th>3</th>\n",
       "      <td>A</td>\n",
       "      <td>2000-09-30</td>\n",
       "      <td>0.058517</td>\n",
       "      <td>350473500</td>\n",
       "      <td>39.044759</td>\n",
       "      <td>True</td>\n",
       "      <td>high</td>\n",
       "      <td>high</td>\n",
       "    </tr>\n",
       "    <tr>\n",
       "      <th>4</th>\n",
       "      <td>A</td>\n",
       "      <td>2000-12-31</td>\n",
       "      <td>0.052617</td>\n",
       "      <td>248571600</td>\n",
       "      <td>35.531911</td>\n",
       "      <td>True</td>\n",
       "      <td>high</td>\n",
       "      <td>high</td>\n",
       "    </tr>\n",
       "  </tbody>\n",
       "</table>\n",
       "</div>"
      ],
      "text/plain": [
       "  ticker     quarter  quarterly_volatility  quarterly_volume  quarterly_price  \\\n",
       "0      A  1999-12-31              0.062768         172198500        34.580651   \n",
       "1      A  2000-03-31              0.079432         135495200        66.964817   \n",
       "2      A  2000-06-30              0.072011         333488000        57.967057   \n",
       "3      A  2000-09-30              0.058517         350473500        39.044759   \n",
       "4      A  2000-12-31              0.052617         248571600        35.531911   \n",
       "\n",
       "   was_in_sp500 volatility_category volume_category  \n",
       "0         False                high            high  \n",
       "1         False           very high            high  \n",
       "2          True                high            high  \n",
       "3          True                high            high  \n",
       "4          True                high            high  "
      ]
     },
     "execution_count": 10,
     "metadata": {},
     "output_type": "execute_result"
    }
   ],
   "source": [
    "prices.head()"
   ]
  },
  {
   "cell_type": "code",
   "execution_count": 11,
   "id": "c3304be9",
   "metadata": {},
   "outputs": [
    {
     "data": {
      "text/html": [
       "<div>\n",
       "<style scoped>\n",
       "    .dataframe tbody tr th:only-of-type {\n",
       "        vertical-align: middle;\n",
       "    }\n",
       "\n",
       "    .dataframe tbody tr th {\n",
       "        vertical-align: top;\n",
       "    }\n",
       "\n",
       "    .dataframe thead th {\n",
       "        text-align: right;\n",
       "    }\n",
       "</style>\n",
       "<table border=\"1\" class=\"dataframe\">\n",
       "  <thead>\n",
       "    <tr style=\"text-align: right;\">\n",
       "      <th></th>\n",
       "      <th>name</th>\n",
       "      <th>ticker</th>\n",
       "      <th>equityType</th>\n",
       "      <th>sicSector</th>\n",
       "      <th>sicIndustry</th>\n",
       "      <th>ticker_classification</th>\n",
       "    </tr>\n",
       "  </thead>\n",
       "  <tbody>\n",
       "    <tr>\n",
       "      <th>0</th>\n",
       "      <td>AAC HOLDINGS INC</td>\n",
       "      <td>AACH</td>\n",
       "      <td>Domestic Common Stock</td>\n",
       "      <td>Services</td>\n",
       "      <td>Services-Specialty Outpatient Facilities Nec</td>\n",
       "      <td>mid</td>\n",
       "    </tr>\n",
       "    <tr>\n",
       "      <th>1</th>\n",
       "      <td>AAR CORP</td>\n",
       "      <td>AIR</td>\n",
       "      <td>Domestic Common Stock</td>\n",
       "      <td>Manufacturing</td>\n",
       "      <td>Aircraft &amp; Parts</td>\n",
       "      <td>mid</td>\n",
       "    </tr>\n",
       "    <tr>\n",
       "      <th>3</th>\n",
       "      <td>ADT CORP</td>\n",
       "      <td>ADT1</td>\n",
       "      <td>Domestic Common Stock</td>\n",
       "      <td>Services</td>\n",
       "      <td>Services-Detective Guard &amp; Armored Car Services</td>\n",
       "      <td>mid</td>\n",
       "    </tr>\n",
       "    <tr>\n",
       "      <th>8</th>\n",
       "      <td>AFLAC INC</td>\n",
       "      <td>AFL</td>\n",
       "      <td>Domestic Common Stock Primary Class</td>\n",
       "      <td>Finance Insurance And Real Estate</td>\n",
       "      <td>Accident &amp; Health Insurance</td>\n",
       "      <td>large</td>\n",
       "    </tr>\n",
       "    <tr>\n",
       "      <th>17</th>\n",
       "      <td>AMC NETWORKS INC</td>\n",
       "      <td>AMCX</td>\n",
       "      <td>Domestic Common Stock</td>\n",
       "      <td>Transportation Communications Electric Gas And...</td>\n",
       "      <td>Cable &amp; Other Pay Television Services</td>\n",
       "      <td>mid</td>\n",
       "    </tr>\n",
       "  </tbody>\n",
       "</table>\n",
       "</div>"
      ],
      "text/plain": [
       "                name ticker                           equityType  \\\n",
       "0   AAC HOLDINGS INC   AACH                Domestic Common Stock   \n",
       "1           AAR CORP    AIR                Domestic Common Stock   \n",
       "3           ADT CORP   ADT1                Domestic Common Stock   \n",
       "8          AFLAC INC    AFL  Domestic Common Stock Primary Class   \n",
       "17  AMC NETWORKS INC   AMCX                Domestic Common Stock   \n",
       "\n",
       "                                            sicSector  \\\n",
       "0                                            Services   \n",
       "1                                       Manufacturing   \n",
       "3                                            Services   \n",
       "8                   Finance Insurance And Real Estate   \n",
       "17  Transportation Communications Electric Gas And...   \n",
       "\n",
       "                                        sicIndustry ticker_classification  \n",
       "0      Services-Specialty Outpatient Facilities Nec                   mid  \n",
       "1                                  Aircraft & Parts                   mid  \n",
       "3   Services-Detective Guard & Armored Car Services                   mid  \n",
       "8                       Accident & Health Insurance                 large  \n",
       "17            Cable & Other Pay Television Services                   mid  "
      ]
     },
     "execution_count": 11,
     "metadata": {},
     "output_type": "execute_result"
    }
   ],
   "source": [
    "stocks.head()"
   ]
  },
  {
   "cell_type": "code",
   "execution_count": 12,
   "id": "ef23ccb9",
   "metadata": {},
   "outputs": [
    {
     "data": {
      "text/plain": [
       "(24596386, 13)"
      ]
     },
     "execution_count": 12,
     "metadata": {},
     "output_type": "execute_result"
    }
   ],
   "source": [
    "merged_df = pd.merge(edges, stocks, on=['name'], how='left')\n",
    "merged_df.shape"
   ]
  },
  {
   "cell_type": "code",
   "execution_count": 16,
   "id": "cdc51b5d",
   "metadata": {},
   "outputs": [
    {
     "data": {
      "text/html": [
       "<div>\n",
       "<style scoped>\n",
       "    .dataframe tbody tr th:only-of-type {\n",
       "        vertical-align: middle;\n",
       "    }\n",
       "\n",
       "    .dataframe tbody tr th {\n",
       "        vertical-align: top;\n",
       "    }\n",
       "\n",
       "    .dataframe thead th {\n",
       "        text-align: right;\n",
       "    }\n",
       "</style>\n",
       "<table border=\"1\" class=\"dataframe\">\n",
       "  <thead>\n",
       "    <tr style=\"text-align: right;\">\n",
       "      <th></th>\n",
       "      <th>cikname</th>\n",
       "      <th>name</th>\n",
       "      <th>quarter</th>\n",
       "      <th>changeCat</th>\n",
       "      <th>delay_cat</th>\n",
       "      <th>volatility_category</th>\n",
       "      <th>volume_category</th>\n",
       "      <th>direction</th>\n",
       "      <th>ticker</th>\n",
       "      <th>equityType</th>\n",
       "      <th>sicSector</th>\n",
       "      <th>sicIndustry</th>\n",
       "      <th>ticker_classification</th>\n",
       "    </tr>\n",
       "  </thead>\n",
       "  <tbody>\n",
       "    <tr>\n",
       "      <th>24596381</th>\n",
       "      <td>RAYNOR GEOFFREY</td>\n",
       "      <td>ENETI INC</td>\n",
       "      <td>2016-03-31</td>\n",
       "      <td>Significant Buy</td>\n",
       "      <td>late</td>\n",
       "      <td>NaN</td>\n",
       "      <td>NaN</td>\n",
       "      <td>stock_to_investor</td>\n",
       "      <td>NETI</td>\n",
       "      <td>ADR Common Stock Primary Class</td>\n",
       "      <td>Transportation Communications Electric Gas And...</td>\n",
       "      <td>Deep Sea Foreign Transportation Of Freight</td>\n",
       "      <td>mid</td>\n",
       "    </tr>\n",
       "    <tr>\n",
       "      <th>24596382</th>\n",
       "      <td>RAYNOR GEOFFREY</td>\n",
       "      <td>ENETI INC</td>\n",
       "      <td>2016-06-30</td>\n",
       "      <td>Large Buy</td>\n",
       "      <td>late</td>\n",
       "      <td>NaN</td>\n",
       "      <td>NaN</td>\n",
       "      <td>stock_to_investor</td>\n",
       "      <td>NETI</td>\n",
       "      <td>ADR Common Stock Primary Class</td>\n",
       "      <td>Transportation Communications Electric Gas And...</td>\n",
       "      <td>Deep Sea Foreign Transportation Of Freight</td>\n",
       "      <td>mid</td>\n",
       "    </tr>\n",
       "    <tr>\n",
       "      <th>24596383</th>\n",
       "      <td>RAYNOR GEOFFREY</td>\n",
       "      <td>ENETI INC</td>\n",
       "      <td>2017-03-31</td>\n",
       "      <td>Significant Sale</td>\n",
       "      <td>late</td>\n",
       "      <td>NaN</td>\n",
       "      <td>NaN</td>\n",
       "      <td>investor_to_stock</td>\n",
       "      <td>NETI</td>\n",
       "      <td>ADR Common Stock Primary Class</td>\n",
       "      <td>Transportation Communications Electric Gas And...</td>\n",
       "      <td>Deep Sea Foreign Transportation Of Freight</td>\n",
       "      <td>mid</td>\n",
       "    </tr>\n",
       "    <tr>\n",
       "      <th>24596384</th>\n",
       "      <td>RAYNOR GEOFFREY</td>\n",
       "      <td>ENETI INC</td>\n",
       "      <td>2017-06-30</td>\n",
       "      <td>Large Sale</td>\n",
       "      <td>late</td>\n",
       "      <td>NaN</td>\n",
       "      <td>NaN</td>\n",
       "      <td>investor_to_stock</td>\n",
       "      <td>NETI</td>\n",
       "      <td>ADR Common Stock Primary Class</td>\n",
       "      <td>Transportation Communications Electric Gas And...</td>\n",
       "      <td>Deep Sea Foreign Transportation Of Freight</td>\n",
       "      <td>mid</td>\n",
       "    </tr>\n",
       "    <tr>\n",
       "      <th>24596385</th>\n",
       "      <td>RAYNOR GEOFFREY</td>\n",
       "      <td>ENETI INC</td>\n",
       "      <td>2017-09-30</td>\n",
       "      <td>Large Sale</td>\n",
       "      <td>on time</td>\n",
       "      <td>NaN</td>\n",
       "      <td>NaN</td>\n",
       "      <td>investor_to_stock</td>\n",
       "      <td>NETI</td>\n",
       "      <td>ADR Common Stock Primary Class</td>\n",
       "      <td>Transportation Communications Electric Gas And...</td>\n",
       "      <td>Deep Sea Foreign Transportation Of Freight</td>\n",
       "      <td>mid</td>\n",
       "    </tr>\n",
       "  </tbody>\n",
       "</table>\n",
       "</div>"
      ],
      "text/plain": [
       "                  cikname       name     quarter         changeCat delay_cat  \\\n",
       "24596381  RAYNOR GEOFFREY  ENETI INC  2016-03-31   Significant Buy      late   \n",
       "24596382  RAYNOR GEOFFREY  ENETI INC  2016-06-30         Large Buy      late   \n",
       "24596383  RAYNOR GEOFFREY  ENETI INC  2017-03-31  Significant Sale      late   \n",
       "24596384  RAYNOR GEOFFREY  ENETI INC  2017-06-30        Large Sale      late   \n",
       "24596385  RAYNOR GEOFFREY  ENETI INC  2017-09-30        Large Sale   on time   \n",
       "\n",
       "         volatility_category volume_category          direction ticker  \\\n",
       "24596381                 NaN             NaN  stock_to_investor   NETI   \n",
       "24596382                 NaN             NaN  stock_to_investor   NETI   \n",
       "24596383                 NaN             NaN  investor_to_stock   NETI   \n",
       "24596384                 NaN             NaN  investor_to_stock   NETI   \n",
       "24596385                 NaN             NaN  investor_to_stock   NETI   \n",
       "\n",
       "                              equityType  \\\n",
       "24596381  ADR Common Stock Primary Class   \n",
       "24596382  ADR Common Stock Primary Class   \n",
       "24596383  ADR Common Stock Primary Class   \n",
       "24596384  ADR Common Stock Primary Class   \n",
       "24596385  ADR Common Stock Primary Class   \n",
       "\n",
       "                                                  sicSector  \\\n",
       "24596381  Transportation Communications Electric Gas And...   \n",
       "24596382  Transportation Communications Electric Gas And...   \n",
       "24596383  Transportation Communications Electric Gas And...   \n",
       "24596384  Transportation Communications Electric Gas And...   \n",
       "24596385  Transportation Communications Electric Gas And...   \n",
       "\n",
       "                                         sicIndustry ticker_classification  \n",
       "24596381  Deep Sea Foreign Transportation Of Freight                   mid  \n",
       "24596382  Deep Sea Foreign Transportation Of Freight                   mid  \n",
       "24596383  Deep Sea Foreign Transportation Of Freight                   mid  \n",
       "24596384  Deep Sea Foreign Transportation Of Freight                   mid  \n",
       "24596385  Deep Sea Foreign Transportation Of Freight                   mid  "
      ]
     },
     "execution_count": 16,
     "metadata": {},
     "output_type": "execute_result"
    }
   ],
   "source": [
    "merged_df.tail()"
   ]
  },
  {
   "cell_type": "code",
   "execution_count": 17,
   "id": "a3930937",
   "metadata": {},
   "outputs": [
    {
     "data": {
      "text/html": [
       "<div>\n",
       "<style scoped>\n",
       "    .dataframe tbody tr th:only-of-type {\n",
       "        vertical-align: middle;\n",
       "    }\n",
       "\n",
       "    .dataframe tbody tr th {\n",
       "        vertical-align: top;\n",
       "    }\n",
       "\n",
       "    .dataframe thead th {\n",
       "        text-align: right;\n",
       "    }\n",
       "</style>\n",
       "<table border=\"1\" class=\"dataframe\">\n",
       "  <thead>\n",
       "    <tr style=\"text-align: right;\">\n",
       "      <th></th>\n",
       "      <th>ticker</th>\n",
       "      <th>quarter</th>\n",
       "      <th>quarterly_volatility</th>\n",
       "      <th>quarterly_volume</th>\n",
       "      <th>quarterly_price</th>\n",
       "      <th>was_in_sp500</th>\n",
       "      <th>volatility_category</th>\n",
       "      <th>volume_category</th>\n",
       "    </tr>\n",
       "  </thead>\n",
       "  <tbody>\n",
       "    <tr>\n",
       "      <th>175888</th>\n",
       "      <td>ZYNE</td>\n",
       "      <td>2016-09-30</td>\n",
       "      <td>0.049182</td>\n",
       "      <td>13606500</td>\n",
       "      <td>9.497656</td>\n",
       "      <td>False</td>\n",
       "      <td>high</td>\n",
       "      <td>low</td>\n",
       "    </tr>\n",
       "    <tr>\n",
       "      <th>175889</th>\n",
       "      <td>ZYNE</td>\n",
       "      <td>2016-12-31</td>\n",
       "      <td>0.041705</td>\n",
       "      <td>13470600</td>\n",
       "      <td>13.468254</td>\n",
       "      <td>False</td>\n",
       "      <td>high</td>\n",
       "      <td>low</td>\n",
       "    </tr>\n",
       "    <tr>\n",
       "      <th>175890</th>\n",
       "      <td>ZYNE</td>\n",
       "      <td>2017-03-31</td>\n",
       "      <td>0.049640</td>\n",
       "      <td>28884800</td>\n",
       "      <td>19.872419</td>\n",
       "      <td>False</td>\n",
       "      <td>high</td>\n",
       "      <td>high</td>\n",
       "    </tr>\n",
       "    <tr>\n",
       "      <th>175891</th>\n",
       "      <td>ZYNE</td>\n",
       "      <td>2017-06-30</td>\n",
       "      <td>0.036543</td>\n",
       "      <td>27600500</td>\n",
       "      <td>19.882540</td>\n",
       "      <td>False</td>\n",
       "      <td>high</td>\n",
       "      <td>high</td>\n",
       "    </tr>\n",
       "    <tr>\n",
       "      <th>175892</th>\n",
       "      <td>ZYNE</td>\n",
       "      <td>2017-09-30</td>\n",
       "      <td>0.108119</td>\n",
       "      <td>67417000</td>\n",
       "      <td>10.572698</td>\n",
       "      <td>False</td>\n",
       "      <td>very high</td>\n",
       "      <td>high</td>\n",
       "    </tr>\n",
       "  </tbody>\n",
       "</table>\n",
       "</div>"
      ],
      "text/plain": [
       "       ticker     quarter  quarterly_volatility  quarterly_volume  \\\n",
       "175888   ZYNE  2016-09-30              0.049182          13606500   \n",
       "175889   ZYNE  2016-12-31              0.041705          13470600   \n",
       "175890   ZYNE  2017-03-31              0.049640          28884800   \n",
       "175891   ZYNE  2017-06-30              0.036543          27600500   \n",
       "175892   ZYNE  2017-09-30              0.108119          67417000   \n",
       "\n",
       "        quarterly_price  was_in_sp500 volatility_category volume_category  \n",
       "175888         9.497656         False                high             low  \n",
       "175889        13.468254         False                high             low  \n",
       "175890        19.872419         False                high            high  \n",
       "175891        19.882540         False                high            high  \n",
       "175892        10.572698         False           very high            high  "
      ]
     },
     "execution_count": 17,
     "metadata": {},
     "output_type": "execute_result"
    }
   ],
   "source": [
    "prices.tail()"
   ]
  },
  {
   "cell_type": "code",
   "execution_count": 19,
   "id": "06bfabdb",
   "metadata": {},
   "outputs": [
    {
     "data": {
      "text/plain": [
       "((11679, 6), (175893, 8), (24034481, 8))"
      ]
     },
     "execution_count": 19,
     "metadata": {},
     "output_type": "execute_result"
    }
   ],
   "source": [
    "stocks.shape, prices.shape, edges.shape"
   ]
  },
  {
   "cell_type": "code",
   "execution_count": 18,
   "id": "61eba31b",
   "metadata": {},
   "outputs": [
    {
     "data": {
      "text/plain": [
       "(24596386, 19)"
      ]
     },
     "execution_count": 18,
     "metadata": {},
     "output_type": "execute_result"
    }
   ],
   "source": [
    "merged_df2 = pd.merge(merged_df, prices, on=['ticker','quarter'], how='left')\n",
    "merged_df2.shape"
   ]
  },
  {
   "cell_type": "code",
   "execution_count": 21,
   "id": "e800c3e9",
   "metadata": {},
   "outputs": [
    {
     "data": {
      "text/html": [
       "<div>\n",
       "<style scoped>\n",
       "    .dataframe tbody tr th:only-of-type {\n",
       "        vertical-align: middle;\n",
       "    }\n",
       "\n",
       "    .dataframe tbody tr th {\n",
       "        vertical-align: top;\n",
       "    }\n",
       "\n",
       "    .dataframe thead th {\n",
       "        text-align: right;\n",
       "    }\n",
       "</style>\n",
       "<table border=\"1\" class=\"dataframe\">\n",
       "  <thead>\n",
       "    <tr style=\"text-align: right;\">\n",
       "      <th></th>\n",
       "      <th>cikname</th>\n",
       "      <th>name</th>\n",
       "      <th>quarter</th>\n",
       "      <th>changeCat</th>\n",
       "      <th>delay_cat</th>\n",
       "      <th>volatility_category_x</th>\n",
       "      <th>volume_category_x</th>\n",
       "      <th>direction</th>\n",
       "      <th>ticker</th>\n",
       "      <th>equityType</th>\n",
       "      <th>sicSector</th>\n",
       "      <th>sicIndustry</th>\n",
       "      <th>ticker_classification</th>\n",
       "      <th>quarterly_volatility</th>\n",
       "      <th>quarterly_volume</th>\n",
       "      <th>quarterly_price</th>\n",
       "      <th>was_in_sp500</th>\n",
       "      <th>volatility_category_y</th>\n",
       "      <th>volume_category_y</th>\n",
       "    </tr>\n",
       "  </thead>\n",
       "  <tbody>\n",
       "    <tr>\n",
       "      <th>0</th>\n",
       "      <td>FRED ALGER MANAGEMENT INC</td>\n",
       "      <td>AAC HOLDINGS INC</td>\n",
       "      <td>2015-06-30</td>\n",
       "      <td>Buy</td>\n",
       "      <td>on time</td>\n",
       "      <td>NaN</td>\n",
       "      <td>NaN</td>\n",
       "      <td>stock_to_investor</td>\n",
       "      <td>AACH</td>\n",
       "      <td>Domestic Common Stock</td>\n",
       "      <td>Services</td>\n",
       "      <td>Services-Specialty Outpatient Facilities Nec</td>\n",
       "      <td>mid</td>\n",
       "      <td>NaN</td>\n",
       "      <td>NaN</td>\n",
       "      <td>NaN</td>\n",
       "      <td>NaN</td>\n",
       "      <td>NaN</td>\n",
       "      <td>NaN</td>\n",
       "    </tr>\n",
       "    <tr>\n",
       "      <th>1</th>\n",
       "      <td>FRED ALGER MANAGEMENT INC</td>\n",
       "      <td>AAR CORP</td>\n",
       "      <td>2011-12-31</td>\n",
       "      <td>Large Sale</td>\n",
       "      <td>on time</td>\n",
       "      <td>very low</td>\n",
       "      <td>high</td>\n",
       "      <td>investor_to_stock</td>\n",
       "      <td>AIR</td>\n",
       "      <td>Domestic Common Stock</td>\n",
       "      <td>Manufacturing</td>\n",
       "      <td>Aircraft &amp; Parts</td>\n",
       "      <td>mid</td>\n",
       "      <td>0.038788</td>\n",
       "      <td>21965400.0</td>\n",
       "      <td>18.309682</td>\n",
       "      <td>False</td>\n",
       "      <td>high</td>\n",
       "      <td>high</td>\n",
       "    </tr>\n",
       "    <tr>\n",
       "      <th>2</th>\n",
       "      <td>FRED ALGER MANAGEMENT INC</td>\n",
       "      <td>AAR CORP</td>\n",
       "      <td>2012-03-31</td>\n",
       "      <td>Significant Sale</td>\n",
       "      <td>on time</td>\n",
       "      <td>very low</td>\n",
       "      <td>low</td>\n",
       "      <td>investor_to_stock</td>\n",
       "      <td>AIR</td>\n",
       "      <td>Domestic Common Stock</td>\n",
       "      <td>Manufacturing</td>\n",
       "      <td>Aircraft &amp; Parts</td>\n",
       "      <td>mid</td>\n",
       "      <td>0.021702</td>\n",
       "      <td>15572200.0</td>\n",
       "      <td>21.314678</td>\n",
       "      <td>False</td>\n",
       "      <td>low</td>\n",
       "      <td>high</td>\n",
       "    </tr>\n",
       "    <tr>\n",
       "      <th>3</th>\n",
       "      <td>FRED ALGER MANAGEMENT INC</td>\n",
       "      <td>ADT CORP</td>\n",
       "      <td>2012-12-31</td>\n",
       "      <td>Significant Buy</td>\n",
       "      <td>on time</td>\n",
       "      <td>NaN</td>\n",
       "      <td>NaN</td>\n",
       "      <td>stock_to_investor</td>\n",
       "      <td>ADT1</td>\n",
       "      <td>Domestic Common Stock</td>\n",
       "      <td>Services</td>\n",
       "      <td>Services-Detective Guard &amp; Armored Car Services</td>\n",
       "      <td>mid</td>\n",
       "      <td>NaN</td>\n",
       "      <td>NaN</td>\n",
       "      <td>NaN</td>\n",
       "      <td>NaN</td>\n",
       "      <td>NaN</td>\n",
       "      <td>NaN</td>\n",
       "    </tr>\n",
       "    <tr>\n",
       "      <th>4</th>\n",
       "      <td>FRED ALGER MANAGEMENT INC</td>\n",
       "      <td>ADT CORP</td>\n",
       "      <td>2013-03-31</td>\n",
       "      <td>Large Buy</td>\n",
       "      <td>on time</td>\n",
       "      <td>NaN</td>\n",
       "      <td>NaN</td>\n",
       "      <td>stock_to_investor</td>\n",
       "      <td>ADT1</td>\n",
       "      <td>Domestic Common Stock</td>\n",
       "      <td>Services</td>\n",
       "      <td>Services-Detective Guard &amp; Armored Car Services</td>\n",
       "      <td>mid</td>\n",
       "      <td>NaN</td>\n",
       "      <td>NaN</td>\n",
       "      <td>NaN</td>\n",
       "      <td>NaN</td>\n",
       "      <td>NaN</td>\n",
       "      <td>NaN</td>\n",
       "    </tr>\n",
       "  </tbody>\n",
       "</table>\n",
       "</div>"
      ],
      "text/plain": [
       "                     cikname              name     quarter         changeCat  \\\n",
       "0  FRED ALGER MANAGEMENT INC  AAC HOLDINGS INC  2015-06-30               Buy   \n",
       "1  FRED ALGER MANAGEMENT INC          AAR CORP  2011-12-31        Large Sale   \n",
       "2  FRED ALGER MANAGEMENT INC          AAR CORP  2012-03-31  Significant Sale   \n",
       "3  FRED ALGER MANAGEMENT INC          ADT CORP  2012-12-31   Significant Buy   \n",
       "4  FRED ALGER MANAGEMENT INC          ADT CORP  2013-03-31         Large Buy   \n",
       "\n",
       "  delay_cat volatility_category_x volume_category_x          direction ticker  \\\n",
       "0   on time                   NaN               NaN  stock_to_investor   AACH   \n",
       "1   on time              very low              high  investor_to_stock    AIR   \n",
       "2   on time              very low               low  investor_to_stock    AIR   \n",
       "3   on time                   NaN               NaN  stock_to_investor   ADT1   \n",
       "4   on time                   NaN               NaN  stock_to_investor   ADT1   \n",
       "\n",
       "              equityType      sicSector  \\\n",
       "0  Domestic Common Stock       Services   \n",
       "1  Domestic Common Stock  Manufacturing   \n",
       "2  Domestic Common Stock  Manufacturing   \n",
       "3  Domestic Common Stock       Services   \n",
       "4  Domestic Common Stock       Services   \n",
       "\n",
       "                                       sicIndustry ticker_classification  \\\n",
       "0     Services-Specialty Outpatient Facilities Nec                   mid   \n",
       "1                                 Aircraft & Parts                   mid   \n",
       "2                                 Aircraft & Parts                   mid   \n",
       "3  Services-Detective Guard & Armored Car Services                   mid   \n",
       "4  Services-Detective Guard & Armored Car Services                   mid   \n",
       "\n",
       "   quarterly_volatility  quarterly_volume  quarterly_price was_in_sp500  \\\n",
       "0                   NaN               NaN              NaN          NaN   \n",
       "1              0.038788        21965400.0        18.309682        False   \n",
       "2              0.021702        15572200.0        21.314678        False   \n",
       "3                   NaN               NaN              NaN          NaN   \n",
       "4                   NaN               NaN              NaN          NaN   \n",
       "\n",
       "  volatility_category_y volume_category_y  \n",
       "0                   NaN               NaN  \n",
       "1                  high              high  \n",
       "2                   low              high  \n",
       "3                   NaN               NaN  \n",
       "4                   NaN               NaN  "
      ]
     },
     "execution_count": 21,
     "metadata": {},
     "output_type": "execute_result"
    }
   ],
   "source": [
    "merged_df2.head() # vol_x ler drop edilecek, bozuk onlar."
   ]
  },
  {
   "cell_type": "code",
   "execution_count": 23,
   "id": "b38fb7c4",
   "metadata": {},
   "outputs": [],
   "source": [
    "merged_df2 = merged_df2.drop(columns=['volatility_category_x', 'volume_category_x',\n",
    "                                      'equityType','quarterly_volatility','quarterly_volume'])\n"
   ]
  },
  {
   "cell_type": "code",
   "execution_count": 26,
   "id": "8d630110",
   "metadata": {
    "scrolled": true
   },
   "outputs": [],
   "source": [
    "merged_final = pd.merge(merged_df2, investors, on=['cikname'], how='left')\n"
   ]
  },
  {
   "cell_type": "code",
   "execution_count": 27,
   "id": "6e4d7f66",
   "metadata": {},
   "outputs": [
    {
     "data": {
      "text/plain": [
       "(24596386, 15)"
      ]
     },
     "execution_count": 27,
     "metadata": {},
     "output_type": "execute_result"
    }
   ],
   "source": [
    "merged_final.shape"
   ]
  },
  {
   "cell_type": "code",
   "execution_count": 30,
   "id": "40ddf162",
   "metadata": {},
   "outputs": [],
   "source": [
    "dropped = merged_final.drop_duplicates(subset=['cikname', 'name','quarter', 'changeCat'], keep='last')"
   ]
  },
  {
   "cell_type": "code",
   "execution_count": 31,
   "id": "c2e2708b",
   "metadata": {},
   "outputs": [
    {
     "data": {
      "text/plain": [
       "(24033284, 15)"
      ]
     },
     "execution_count": 31,
     "metadata": {},
     "output_type": "execute_result"
    }
   ],
   "source": [
    "dropped.shape"
   ]
  },
  {
   "cell_type": "code",
   "execution_count": 33,
   "id": "cdb32d04",
   "metadata": {
    "scrolled": true
   },
   "outputs": [
    {
     "data": {
      "text/html": [
       "<div>\n",
       "<style scoped>\n",
       "    .dataframe tbody tr th:only-of-type {\n",
       "        vertical-align: middle;\n",
       "    }\n",
       "\n",
       "    .dataframe tbody tr th {\n",
       "        vertical-align: top;\n",
       "    }\n",
       "\n",
       "    .dataframe thead th {\n",
       "        text-align: right;\n",
       "    }\n",
       "</style>\n",
       "<table border=\"1\" class=\"dataframe\">\n",
       "  <thead>\n",
       "    <tr style=\"text-align: right;\">\n",
       "      <th></th>\n",
       "      <th>cikname</th>\n",
       "      <th>name</th>\n",
       "      <th>quarter</th>\n",
       "      <th>changeCat</th>\n",
       "      <th>delay_cat</th>\n",
       "      <th>direction</th>\n",
       "      <th>ticker</th>\n",
       "      <th>sicSector</th>\n",
       "      <th>sicIndustry</th>\n",
       "      <th>ticker_classification</th>\n",
       "      <th>quarterly_price</th>\n",
       "      <th>was_in_sp500</th>\n",
       "      <th>volatility_category_y</th>\n",
       "      <th>volume_category_y</th>\n",
       "      <th>investor_rank</th>\n",
       "    </tr>\n",
       "  </thead>\n",
       "  <tbody>\n",
       "    <tr>\n",
       "      <th>0</th>\n",
       "      <td>FRED ALGER MANAGEMENT INC</td>\n",
       "      <td>AAC HOLDINGS INC</td>\n",
       "      <td>2015-06-30</td>\n",
       "      <td>Buy</td>\n",
       "      <td>on time</td>\n",
       "      <td>stock_to_investor</td>\n",
       "      <td>AACH</td>\n",
       "      <td>Services</td>\n",
       "      <td>Services-Specialty Outpatient Facilities Nec</td>\n",
       "      <td>mid</td>\n",
       "      <td>NaN</td>\n",
       "      <td>NaN</td>\n",
       "      <td>NaN</td>\n",
       "      <td>NaN</td>\n",
       "      <td>large_investor</td>\n",
       "    </tr>\n",
       "    <tr>\n",
       "      <th>1</th>\n",
       "      <td>FRED ALGER MANAGEMENT INC</td>\n",
       "      <td>AAR CORP</td>\n",
       "      <td>2011-12-31</td>\n",
       "      <td>Large Sale</td>\n",
       "      <td>on time</td>\n",
       "      <td>investor_to_stock</td>\n",
       "      <td>AIR</td>\n",
       "      <td>Manufacturing</td>\n",
       "      <td>Aircraft &amp; Parts</td>\n",
       "      <td>mid</td>\n",
       "      <td>18.309682</td>\n",
       "      <td>False</td>\n",
       "      <td>high</td>\n",
       "      <td>high</td>\n",
       "      <td>large_investor</td>\n",
       "    </tr>\n",
       "    <tr>\n",
       "      <th>2</th>\n",
       "      <td>FRED ALGER MANAGEMENT INC</td>\n",
       "      <td>AAR CORP</td>\n",
       "      <td>2012-03-31</td>\n",
       "      <td>Significant Sale</td>\n",
       "      <td>on time</td>\n",
       "      <td>investor_to_stock</td>\n",
       "      <td>AIR</td>\n",
       "      <td>Manufacturing</td>\n",
       "      <td>Aircraft &amp; Parts</td>\n",
       "      <td>mid</td>\n",
       "      <td>21.314678</td>\n",
       "      <td>False</td>\n",
       "      <td>low</td>\n",
       "      <td>high</td>\n",
       "      <td>large_investor</td>\n",
       "    </tr>\n",
       "    <tr>\n",
       "      <th>3</th>\n",
       "      <td>FRED ALGER MANAGEMENT INC</td>\n",
       "      <td>ADT CORP</td>\n",
       "      <td>2012-12-31</td>\n",
       "      <td>Significant Buy</td>\n",
       "      <td>on time</td>\n",
       "      <td>stock_to_investor</td>\n",
       "      <td>ADT1</td>\n",
       "      <td>Services</td>\n",
       "      <td>Services-Detective Guard &amp; Armored Car Services</td>\n",
       "      <td>mid</td>\n",
       "      <td>NaN</td>\n",
       "      <td>NaN</td>\n",
       "      <td>NaN</td>\n",
       "      <td>NaN</td>\n",
       "      <td>large_investor</td>\n",
       "    </tr>\n",
       "    <tr>\n",
       "      <th>4</th>\n",
       "      <td>FRED ALGER MANAGEMENT INC</td>\n",
       "      <td>ADT CORP</td>\n",
       "      <td>2013-03-31</td>\n",
       "      <td>Large Buy</td>\n",
       "      <td>on time</td>\n",
       "      <td>stock_to_investor</td>\n",
       "      <td>ADT1</td>\n",
       "      <td>Services</td>\n",
       "      <td>Services-Detective Guard &amp; Armored Car Services</td>\n",
       "      <td>mid</td>\n",
       "      <td>NaN</td>\n",
       "      <td>NaN</td>\n",
       "      <td>NaN</td>\n",
       "      <td>NaN</td>\n",
       "      <td>large_investor</td>\n",
       "    </tr>\n",
       "  </tbody>\n",
       "</table>\n",
       "</div>"
      ],
      "text/plain": [
       "                     cikname              name     quarter         changeCat  \\\n",
       "0  FRED ALGER MANAGEMENT INC  AAC HOLDINGS INC  2015-06-30               Buy   \n",
       "1  FRED ALGER MANAGEMENT INC          AAR CORP  2011-12-31        Large Sale   \n",
       "2  FRED ALGER MANAGEMENT INC          AAR CORP  2012-03-31  Significant Sale   \n",
       "3  FRED ALGER MANAGEMENT INC          ADT CORP  2012-12-31   Significant Buy   \n",
       "4  FRED ALGER MANAGEMENT INC          ADT CORP  2013-03-31         Large Buy   \n",
       "\n",
       "  delay_cat          direction ticker      sicSector  \\\n",
       "0   on time  stock_to_investor   AACH       Services   \n",
       "1   on time  investor_to_stock    AIR  Manufacturing   \n",
       "2   on time  investor_to_stock    AIR  Manufacturing   \n",
       "3   on time  stock_to_investor   ADT1       Services   \n",
       "4   on time  stock_to_investor   ADT1       Services   \n",
       "\n",
       "                                       sicIndustry ticker_classification  \\\n",
       "0     Services-Specialty Outpatient Facilities Nec                   mid   \n",
       "1                                 Aircraft & Parts                   mid   \n",
       "2                                 Aircraft & Parts                   mid   \n",
       "3  Services-Detective Guard & Armored Car Services                   mid   \n",
       "4  Services-Detective Guard & Armored Car Services                   mid   \n",
       "\n",
       "   quarterly_price was_in_sp500 volatility_category_y volume_category_y  \\\n",
       "0              NaN          NaN                   NaN               NaN   \n",
       "1        18.309682        False                  high              high   \n",
       "2        21.314678        False                   low              high   \n",
       "3              NaN          NaN                   NaN               NaN   \n",
       "4              NaN          NaN                   NaN               NaN   \n",
       "\n",
       "    investor_rank  \n",
       "0  large_investor  \n",
       "1  large_investor  \n",
       "2  large_investor  \n",
       "3  large_investor  \n",
       "4  large_investor  "
      ]
     },
     "execution_count": 33,
     "metadata": {},
     "output_type": "execute_result"
    }
   ],
   "source": [
    "dropped.head()"
   ]
  },
  {
   "cell_type": "markdown",
   "id": "290c9b9b",
   "metadata": {},
   "source": [
    "# CREATE GRAPH"
   ]
  },
  {
   "cell_type": "code",
   "execution_count": null,
   "id": "6fe68027",
   "metadata": {},
   "outputs": [],
   "source": [
    "import networkx as nx\n",
    "import pandas as pd\n",
    "from tqdm import tqdm\n",
    "\n",
    "# Replace 'dropped' with 'df' if that's your DataFrame\n",
    "for index, row in tqdm(df.iterrows()):\n",
    "    # Define nodes based on the transaction type\n",
    "    if row['changeCat'] in ['Large Buy', 'Buy', 'Significant Buy']:\n",
    "        # For a buy, the direction is from investor to stock\n",
    "        investor, stock = row['cikname'], row['name']\n",
    "        investor_type, stock_type = row['investor_rank'], row['ticker_classification']\n",
    "    elif row['changeCat'] in ['Large Sale', 'Sale', 'Significant Sale']:\n",
    "        # For a sale, the direction is from stock to investor\n",
    "        stock, investor = row['name'], row['cikname']\n",
    "        stock_type, investor_type = row['ticker_classification'], row['investor_rank']\n",
    "    else:\n",
    "        continue  # Skip rows that don't match the criteria\n",
    "\n",
    "    # Add nodes with their attributes (if not already added)\n",
    "    if not G.has_node(investor):\n",
    "        G.add_node(investor, bipartite=0, type=investor_type)\n",
    "    if not G.has_node(stock):\n",
    "        G.add_node(stock, bipartite=1, type=stock_type)\n",
    "\n",
    "    # Add edge with attributes\n",
    "    G.add_edge(investor, stock,\n",
    "               quarter=pd.to_datetime(row['quarter']),\n",
    "               equity_industry=row[\"equity_sicsector\"],\n",
    "               share_change=row[\"filing_share_change_cat\"],\n",
    "               filing_delay=row[\"filing_delay_cat\"],\n",
    "               volume_category=row['volume_category'],\n",
    "               volatility_category=row['volatility_category'],\n",
    "               was_in_sp500=row['was_in_sp500'])\n"
   ]
  },
  {
   "cell_type": "code",
   "execution_count": 34,
   "id": "26d9c852",
   "metadata": {
    "scrolled": true
   },
   "outputs": [
    {
     "data": {
      "text/html": [
       "<div>\n",
       "<style scoped>\n",
       "    .dataframe tbody tr th:only-of-type {\n",
       "        vertical-align: middle;\n",
       "    }\n",
       "\n",
       "    .dataframe tbody tr th {\n",
       "        vertical-align: top;\n",
       "    }\n",
       "\n",
       "    .dataframe thead th {\n",
       "        text-align: right;\n",
       "    }\n",
       "</style>\n",
       "<table border=\"1\" class=\"dataframe\">\n",
       "  <thead>\n",
       "    <tr style=\"text-align: right;\">\n",
       "      <th></th>\n",
       "      <th>cikname</th>\n",
       "      <th>name</th>\n",
       "      <th>quarter</th>\n",
       "      <th>changeCat</th>\n",
       "      <th>delay_cat</th>\n",
       "      <th>direction</th>\n",
       "      <th>ticker</th>\n",
       "      <th>sicSector</th>\n",
       "      <th>sicIndustry</th>\n",
       "      <th>ticker_classification</th>\n",
       "      <th>quarterly_price</th>\n",
       "      <th>was_in_sp500</th>\n",
       "      <th>volatility_category_y</th>\n",
       "      <th>volume_category_y</th>\n",
       "      <th>investor_rank</th>\n",
       "    </tr>\n",
       "  </thead>\n",
       "  <tbody>\n",
       "    <tr>\n",
       "      <th>0</th>\n",
       "      <td>FRED ALGER MANAGEMENT INC</td>\n",
       "      <td>AAC HOLDINGS INC</td>\n",
       "      <td>2015-06-30</td>\n",
       "      <td>Buy</td>\n",
       "      <td>on time</td>\n",
       "      <td>stock_to_investor</td>\n",
       "      <td>AACH</td>\n",
       "      <td>Services</td>\n",
       "      <td>Services-Specialty Outpatient Facilities Nec</td>\n",
       "      <td>mid</td>\n",
       "      <td>NaN</td>\n",
       "      <td>NaN</td>\n",
       "      <td>NaN</td>\n",
       "      <td>NaN</td>\n",
       "      <td>large_investor</td>\n",
       "    </tr>\n",
       "    <tr>\n",
       "      <th>1</th>\n",
       "      <td>FRED ALGER MANAGEMENT INC</td>\n",
       "      <td>AAR CORP</td>\n",
       "      <td>2011-12-31</td>\n",
       "      <td>Large Sale</td>\n",
       "      <td>on time</td>\n",
       "      <td>investor_to_stock</td>\n",
       "      <td>AIR</td>\n",
       "      <td>Manufacturing</td>\n",
       "      <td>Aircraft &amp; Parts</td>\n",
       "      <td>mid</td>\n",
       "      <td>18.309682</td>\n",
       "      <td>False</td>\n",
       "      <td>high</td>\n",
       "      <td>high</td>\n",
       "      <td>large_investor</td>\n",
       "    </tr>\n",
       "    <tr>\n",
       "      <th>2</th>\n",
       "      <td>FRED ALGER MANAGEMENT INC</td>\n",
       "      <td>AAR CORP</td>\n",
       "      <td>2012-03-31</td>\n",
       "      <td>Significant Sale</td>\n",
       "      <td>on time</td>\n",
       "      <td>investor_to_stock</td>\n",
       "      <td>AIR</td>\n",
       "      <td>Manufacturing</td>\n",
       "      <td>Aircraft &amp; Parts</td>\n",
       "      <td>mid</td>\n",
       "      <td>21.314678</td>\n",
       "      <td>False</td>\n",
       "      <td>low</td>\n",
       "      <td>high</td>\n",
       "      <td>large_investor</td>\n",
       "    </tr>\n",
       "    <tr>\n",
       "      <th>3</th>\n",
       "      <td>FRED ALGER MANAGEMENT INC</td>\n",
       "      <td>ADT CORP</td>\n",
       "      <td>2012-12-31</td>\n",
       "      <td>Significant Buy</td>\n",
       "      <td>on time</td>\n",
       "      <td>stock_to_investor</td>\n",
       "      <td>ADT1</td>\n",
       "      <td>Services</td>\n",
       "      <td>Services-Detective Guard &amp; Armored Car Services</td>\n",
       "      <td>mid</td>\n",
       "      <td>NaN</td>\n",
       "      <td>NaN</td>\n",
       "      <td>NaN</td>\n",
       "      <td>NaN</td>\n",
       "      <td>large_investor</td>\n",
       "    </tr>\n",
       "    <tr>\n",
       "      <th>4</th>\n",
       "      <td>FRED ALGER MANAGEMENT INC</td>\n",
       "      <td>ADT CORP</td>\n",
       "      <td>2013-03-31</td>\n",
       "      <td>Large Buy</td>\n",
       "      <td>on time</td>\n",
       "      <td>stock_to_investor</td>\n",
       "      <td>ADT1</td>\n",
       "      <td>Services</td>\n",
       "      <td>Services-Detective Guard &amp; Armored Car Services</td>\n",
       "      <td>mid</td>\n",
       "      <td>NaN</td>\n",
       "      <td>NaN</td>\n",
       "      <td>NaN</td>\n",
       "      <td>NaN</td>\n",
       "      <td>large_investor</td>\n",
       "    </tr>\n",
       "  </tbody>\n",
       "</table>\n",
       "</div>"
      ],
      "text/plain": [
       "                     cikname              name     quarter         changeCat  \\\n",
       "0  FRED ALGER MANAGEMENT INC  AAC HOLDINGS INC  2015-06-30               Buy   \n",
       "1  FRED ALGER MANAGEMENT INC          AAR CORP  2011-12-31        Large Sale   \n",
       "2  FRED ALGER MANAGEMENT INC          AAR CORP  2012-03-31  Significant Sale   \n",
       "3  FRED ALGER MANAGEMENT INC          ADT CORP  2012-12-31   Significant Buy   \n",
       "4  FRED ALGER MANAGEMENT INC          ADT CORP  2013-03-31         Large Buy   \n",
       "\n",
       "  delay_cat          direction ticker      sicSector  \\\n",
       "0   on time  stock_to_investor   AACH       Services   \n",
       "1   on time  investor_to_stock    AIR  Manufacturing   \n",
       "2   on time  investor_to_stock    AIR  Manufacturing   \n",
       "3   on time  stock_to_investor   ADT1       Services   \n",
       "4   on time  stock_to_investor   ADT1       Services   \n",
       "\n",
       "                                       sicIndustry ticker_classification  \\\n",
       "0     Services-Specialty Outpatient Facilities Nec                   mid   \n",
       "1                                 Aircraft & Parts                   mid   \n",
       "2                                 Aircraft & Parts                   mid   \n",
       "3  Services-Detective Guard & Armored Car Services                   mid   \n",
       "4  Services-Detective Guard & Armored Car Services                   mid   \n",
       "\n",
       "   quarterly_price was_in_sp500 volatility_category_y volume_category_y  \\\n",
       "0              NaN          NaN                   NaN               NaN   \n",
       "1        18.309682        False                  high              high   \n",
       "2        21.314678        False                   low              high   \n",
       "3              NaN          NaN                   NaN               NaN   \n",
       "4              NaN          NaN                   NaN               NaN   \n",
       "\n",
       "    investor_rank  \n",
       "0  large_investor  \n",
       "1  large_investor  \n",
       "2  large_investor  \n",
       "3  large_investor  \n",
       "4  large_investor  "
      ]
     },
     "execution_count": 34,
     "metadata": {},
     "output_type": "execute_result"
    }
   ],
   "source": [
    "dropped.head()"
   ]
  },
  {
   "cell_type": "markdown",
   "id": "d29710ff",
   "metadata": {},
   "source": [
    "# GROUPED DATAFRAMES FOR EACH QUARTER"
   ]
  },
  {
   "cell_type": "code",
   "execution_count": 117,
   "id": "5cbf9c98",
   "metadata": {},
   "outputs": [],
   "source": [
    "grouped_dfs = [(name, group) for name, group in dropped.groupby('quarter')]\n"
   ]
  },
  {
   "cell_type": "code",
   "execution_count": 136,
   "id": "8da2e015",
   "metadata": {},
   "outputs": [],
   "source": [
    "stock_groups = dropped.groupby('name').first()['ticker_classification']\n",
    "investor_groups = dropped.groupby('cikname').first()['investor_rank']"
   ]
  },
  {
   "cell_type": "code",
   "execution_count": 137,
   "id": "d212708e",
   "metadata": {},
   "outputs": [],
   "source": [
    "####################################################################################################\n",
    "\n",
    "def extract_graph_from_df(df,stock_groups,investor_groups):\n",
    "    \n",
    "\n",
    "    # Initialize a directed graph\n",
    "    G = nx.DiGraph()\n",
    "    \n",
    "    # Adding nodes in bulk with their attributes\n",
    "    G.add_nodes_from([(stock, {'bipartite': 0, 'type': stock_type}) for stock, stock_type in stock_groups.items()])\n",
    "    G.add_nodes_from([(investor, {'bipartite': 1, 'type': investor_type}) for investor, investor_type in investor_groups.items()])\n",
    "    \n",
    "    # Loop through the DataFrame to add edges\n",
    "    for index, row in tqdm(df.iterrows()):\n",
    "        u = row[\"name\"]  # stock\n",
    "        v = row[\"cikname\"]  # investor\n",
    "\n",
    "        # Define edge attributes\n",
    "        edge_attrs = {\n",
    "            'quarter': pd.to_datetime(row['quarter']),\n",
    "            'share_change': row[\"changeCat\"],\n",
    "            'filing_delay': row[\"delay_cat\"],\n",
    "            'direction': row[\"direction\"],\n",
    "            'sector': row[\"sicSector\"],\n",
    "            'industry': row[\"sicIndustry\"],\n",
    "            'volume_category': row['volume_category_y'],\n",
    "            'volatility_category': row['volatility_category_y'],\n",
    "            'quarterly_price': row['quarterly_price']\n",
    "        }\n",
    "\n",
    "        # Check for the type of transaction and add edge accordingly\n",
    "        if row['changeCat'] in ['Large Buy', 'Buy', 'Significant Buy']:\n",
    "            if not G.has_edge(u, v):\n",
    "                G.add_edge(u, v, **edge_attrs)\n",
    "        elif row['changeCat'] in ['Large Sale', 'Sale', 'Significant Sale']:\n",
    "            if not G.has_edge(v, u):\n",
    "                G.add_edge(v, u, **edge_attrs)\n",
    "        else:\n",
    "            continue  \n",
    "    ####################################################################################################\n",
    "        \n",
    "    return G"
   ]
  },
  {
   "cell_type": "markdown",
   "id": "1ff94385",
   "metadata": {},
   "source": [
    "# CREATE AND WRITE GRAPHS TO FOLDER"
   ]
  },
  {
   "cell_type": "code",
   "execution_count": 142,
   "id": "8c702cac",
   "metadata": {},
   "outputs": [],
   "source": [
    "import networkx as nx\n",
    "import os\n",
    "import pickle\n",
    "from tqdm.auto import tqdm\n",
    "\n",
    "def save_graphs_to_pickle(grouped_dfs, folder_path):\n",
    "    \"\"\"\n",
    "    Save graphs to pickle files.\n",
    "\n",
    "    :param graph_generator: A function that returns a NetworkX graph.\n",
    "    :param num_graphs: The number of graphs to generate and save.\n",
    "    :param folder_path: The path to the folder where graphs will be saved.\n",
    "    \"\"\"\n",
    "    # Create the folder if it doesn't exist\n",
    "    os.makedirs(folder_path, exist_ok=True)\n",
    "\n",
    "    # Iterate and save each graph\n",
    "    for name, df in tqdm(grouped_dfs):\n",
    "        # Generate the graph using the provided function\n",
    "        G = extract_graph_from_df(df,stock_groups,investor_groups)\n",
    "\n",
    "        # Construct the file path for the pickle file\n",
    "        file_path = os.path.join(folder_path, f'graph_{name}.pkl')\n",
    "\n",
    "        # Write the graph to a pickle file\n",
    "        with open(file_path, 'wb') as f:\n",
    "            pickle.dump(G, f)\n",
    "            \n",
    "\n"
   ]
  },
  {
   "cell_type": "code",
   "execution_count": 143,
   "id": "6e352374",
   "metadata": {},
   "outputs": [
    {
     "data": {
      "application/vnd.jupyter.widget-view+json": {
       "model_id": "a9049a839b61400cb201ff0cde3264f2",
       "version_major": 2,
       "version_minor": 0
      },
      "text/plain": [
       "  0%|          | 0/74 [00:00<?, ?it/s]"
      ]
     },
     "metadata": {},
     "output_type": "display_data"
    },
    {
     "data": {
      "application/vnd.jupyter.widget-view+json": {
       "model_id": "88a94dbe67dc4e08b77d9619dd0a0bdb",
       "version_major": 2,
       "version_minor": 0
      },
      "text/plain": [
       "0it [00:00, ?it/s]"
      ]
     },
     "metadata": {},
     "output_type": "display_data"
    },
    {
     "data": {
      "application/vnd.jupyter.widget-view+json": {
       "model_id": "6808a01ba77b4dd0938dba1323fc61d2",
       "version_major": 2,
       "version_minor": 0
      },
      "text/plain": [
       "0it [00:00, ?it/s]"
      ]
     },
     "metadata": {},
     "output_type": "display_data"
    },
    {
     "data": {
      "application/vnd.jupyter.widget-view+json": {
       "model_id": "7df403530afa45359af1bdf2ca19a11c",
       "version_major": 2,
       "version_minor": 0
      },
      "text/plain": [
       "0it [00:00, ?it/s]"
      ]
     },
     "metadata": {},
     "output_type": "display_data"
    },
    {
     "data": {
      "application/vnd.jupyter.widget-view+json": {
       "model_id": "4a08ea8184364db99d2a4b0f0d2a2f84",
       "version_major": 2,
       "version_minor": 0
      },
      "text/plain": [
       "0it [00:00, ?it/s]"
      ]
     },
     "metadata": {},
     "output_type": "display_data"
    },
    {
     "data": {
      "application/vnd.jupyter.widget-view+json": {
       "model_id": "b5fdf9bbbe414938b40599b618d086a1",
       "version_major": 2,
       "version_minor": 0
      },
      "text/plain": [
       "0it [00:00, ?it/s]"
      ]
     },
     "metadata": {},
     "output_type": "display_data"
    },
    {
     "data": {
      "application/vnd.jupyter.widget-view+json": {
       "model_id": "987ed24d99964882aa3519c2ec4e1acf",
       "version_major": 2,
       "version_minor": 0
      },
      "text/plain": [
       "0it [00:00, ?it/s]"
      ]
     },
     "metadata": {},
     "output_type": "display_data"
    },
    {
     "data": {
      "application/vnd.jupyter.widget-view+json": {
       "model_id": "a73e8f96065e4bc991bd835631599ac4",
       "version_major": 2,
       "version_minor": 0
      },
      "text/plain": [
       "0it [00:00, ?it/s]"
      ]
     },
     "metadata": {},
     "output_type": "display_data"
    },
    {
     "data": {
      "application/vnd.jupyter.widget-view+json": {
       "model_id": "af81d24419414951a63d3edabfaa12cd",
       "version_major": 2,
       "version_minor": 0
      },
      "text/plain": [
       "0it [00:00, ?it/s]"
      ]
     },
     "metadata": {},
     "output_type": "display_data"
    },
    {
     "data": {
      "application/vnd.jupyter.widget-view+json": {
       "model_id": "34d924af22e64343af8014799162b86b",
       "version_major": 2,
       "version_minor": 0
      },
      "text/plain": [
       "0it [00:00, ?it/s]"
      ]
     },
     "metadata": {},
     "output_type": "display_data"
    },
    {
     "data": {
      "application/vnd.jupyter.widget-view+json": {
       "model_id": "b8be9f0ec4b64d4ba255c6395b680372",
       "version_major": 2,
       "version_minor": 0
      },
      "text/plain": [
       "0it [00:00, ?it/s]"
      ]
     },
     "metadata": {},
     "output_type": "display_data"
    },
    {
     "data": {
      "application/vnd.jupyter.widget-view+json": {
       "model_id": "bf6df19b3ed5465bb896a7dc9279edab",
       "version_major": 2,
       "version_minor": 0
      },
      "text/plain": [
       "0it [00:00, ?it/s]"
      ]
     },
     "metadata": {},
     "output_type": "display_data"
    },
    {
     "data": {
      "application/vnd.jupyter.widget-view+json": {
       "model_id": "b974e45c20494cb5aef307218163e076",
       "version_major": 2,
       "version_minor": 0
      },
      "text/plain": [
       "0it [00:00, ?it/s]"
      ]
     },
     "metadata": {},
     "output_type": "display_data"
    },
    {
     "data": {
      "application/vnd.jupyter.widget-view+json": {
       "model_id": "8420db8bd6934a4b803b9f78f4680196",
       "version_major": 2,
       "version_minor": 0
      },
      "text/plain": [
       "0it [00:00, ?it/s]"
      ]
     },
     "metadata": {},
     "output_type": "display_data"
    },
    {
     "data": {
      "application/vnd.jupyter.widget-view+json": {
       "model_id": "b7a1e4e59e6e4c308ec024ab54ce9423",
       "version_major": 2,
       "version_minor": 0
      },
      "text/plain": [
       "0it [00:00, ?it/s]"
      ]
     },
     "metadata": {},
     "output_type": "display_data"
    },
    {
     "data": {
      "application/vnd.jupyter.widget-view+json": {
       "model_id": "b3d36f0623c347948d5ec123fe526c11",
       "version_major": 2,
       "version_minor": 0
      },
      "text/plain": [
       "0it [00:00, ?it/s]"
      ]
     },
     "metadata": {},
     "output_type": "display_data"
    },
    {
     "data": {
      "application/vnd.jupyter.widget-view+json": {
       "model_id": "02d562527ae14be0a7e9b1d7ff22f139",
       "version_major": 2,
       "version_minor": 0
      },
      "text/plain": [
       "0it [00:00, ?it/s]"
      ]
     },
     "metadata": {},
     "output_type": "display_data"
    },
    {
     "data": {
      "application/vnd.jupyter.widget-view+json": {
       "model_id": "fc4c4b1c2c1f4d17a2c907b601db7e79",
       "version_major": 2,
       "version_minor": 0
      },
      "text/plain": [
       "0it [00:00, ?it/s]"
      ]
     },
     "metadata": {},
     "output_type": "display_data"
    },
    {
     "data": {
      "application/vnd.jupyter.widget-view+json": {
       "model_id": "cc2e4d41af394043b9a8a58845b8b993",
       "version_major": 2,
       "version_minor": 0
      },
      "text/plain": [
       "0it [00:00, ?it/s]"
      ]
     },
     "metadata": {},
     "output_type": "display_data"
    },
    {
     "data": {
      "application/vnd.jupyter.widget-view+json": {
       "model_id": "e5806ba7fbca422087e35564e7dc53f5",
       "version_major": 2,
       "version_minor": 0
      },
      "text/plain": [
       "0it [00:00, ?it/s]"
      ]
     },
     "metadata": {},
     "output_type": "display_data"
    },
    {
     "data": {
      "application/vnd.jupyter.widget-view+json": {
       "model_id": "54200ea8daff4432a922aeef0a7371f9",
       "version_major": 2,
       "version_minor": 0
      },
      "text/plain": [
       "0it [00:00, ?it/s]"
      ]
     },
     "metadata": {},
     "output_type": "display_data"
    },
    {
     "data": {
      "application/vnd.jupyter.widget-view+json": {
       "model_id": "a4933cd0feb748e5b1e077faebdfa9bc",
       "version_major": 2,
       "version_minor": 0
      },
      "text/plain": [
       "0it [00:00, ?it/s]"
      ]
     },
     "metadata": {},
     "output_type": "display_data"
    },
    {
     "data": {
      "application/vnd.jupyter.widget-view+json": {
       "model_id": "d902bc884af6416e960d33db68f50a01",
       "version_major": 2,
       "version_minor": 0
      },
      "text/plain": [
       "0it [00:00, ?it/s]"
      ]
     },
     "metadata": {},
     "output_type": "display_data"
    },
    {
     "data": {
      "application/vnd.jupyter.widget-view+json": {
       "model_id": "4cd6ed2bfefb4e99b649dd9a37fbb3f1",
       "version_major": 2,
       "version_minor": 0
      },
      "text/plain": [
       "0it [00:00, ?it/s]"
      ]
     },
     "metadata": {},
     "output_type": "display_data"
    },
    {
     "data": {
      "application/vnd.jupyter.widget-view+json": {
       "model_id": "efa4078276d64ee58508a8b2c8bfb105",
       "version_major": 2,
       "version_minor": 0
      },
      "text/plain": [
       "0it [00:00, ?it/s]"
      ]
     },
     "metadata": {},
     "output_type": "display_data"
    },
    {
     "data": {
      "application/vnd.jupyter.widget-view+json": {
       "model_id": "9585c44583254340868027dcef9daea5",
       "version_major": 2,
       "version_minor": 0
      },
      "text/plain": [
       "0it [00:00, ?it/s]"
      ]
     },
     "metadata": {},
     "output_type": "display_data"
    },
    {
     "data": {
      "application/vnd.jupyter.widget-view+json": {
       "model_id": "eb4538f053c04d34b271993c35275b42",
       "version_major": 2,
       "version_minor": 0
      },
      "text/plain": [
       "0it [00:00, ?it/s]"
      ]
     },
     "metadata": {},
     "output_type": "display_data"
    },
    {
     "data": {
      "application/vnd.jupyter.widget-view+json": {
       "model_id": "acff87b1598c43af99c2812ae8ac4145",
       "version_major": 2,
       "version_minor": 0
      },
      "text/plain": [
       "0it [00:00, ?it/s]"
      ]
     },
     "metadata": {},
     "output_type": "display_data"
    },
    {
     "data": {
      "application/vnd.jupyter.widget-view+json": {
       "model_id": "a2667222e3614d47a4a4e213630ec3da",
       "version_major": 2,
       "version_minor": 0
      },
      "text/plain": [
       "0it [00:00, ?it/s]"
      ]
     },
     "metadata": {},
     "output_type": "display_data"
    },
    {
     "data": {
      "application/vnd.jupyter.widget-view+json": {
       "model_id": "92d473d9922b4b8e83e44723fff9cc53",
       "version_major": 2,
       "version_minor": 0
      },
      "text/plain": [
       "0it [00:00, ?it/s]"
      ]
     },
     "metadata": {},
     "output_type": "display_data"
    },
    {
     "data": {
      "application/vnd.jupyter.widget-view+json": {
       "model_id": "ab6076a896a34cb28489ce7b7c8d4292",
       "version_major": 2,
       "version_minor": 0
      },
      "text/plain": [
       "0it [00:00, ?it/s]"
      ]
     },
     "metadata": {},
     "output_type": "display_data"
    },
    {
     "data": {
      "application/vnd.jupyter.widget-view+json": {
       "model_id": "d8951499947a47b8a6da966e6ab7d930",
       "version_major": 2,
       "version_minor": 0
      },
      "text/plain": [
       "0it [00:00, ?it/s]"
      ]
     },
     "metadata": {},
     "output_type": "display_data"
    },
    {
     "data": {
      "application/vnd.jupyter.widget-view+json": {
       "model_id": "7cb3ba4ec745473bae6cb3b5ce99888b",
       "version_major": 2,
       "version_minor": 0
      },
      "text/plain": [
       "0it [00:00, ?it/s]"
      ]
     },
     "metadata": {},
     "output_type": "display_data"
    },
    {
     "data": {
      "application/vnd.jupyter.widget-view+json": {
       "model_id": "35fdeb4232484e1b971fc57caa7329db",
       "version_major": 2,
       "version_minor": 0
      },
      "text/plain": [
       "0it [00:00, ?it/s]"
      ]
     },
     "metadata": {},
     "output_type": "display_data"
    },
    {
     "data": {
      "application/vnd.jupyter.widget-view+json": {
       "model_id": "0e44fb72330443299ed544d8f50fd008",
       "version_major": 2,
       "version_minor": 0
      },
      "text/plain": [
       "0it [00:00, ?it/s]"
      ]
     },
     "metadata": {},
     "output_type": "display_data"
    },
    {
     "data": {
      "application/vnd.jupyter.widget-view+json": {
       "model_id": "dddebd8efca84b9493e6cff45ed5fed3",
       "version_major": 2,
       "version_minor": 0
      },
      "text/plain": [
       "0it [00:00, ?it/s]"
      ]
     },
     "metadata": {},
     "output_type": "display_data"
    },
    {
     "data": {
      "application/vnd.jupyter.widget-view+json": {
       "model_id": "6a71c150fd434685a56fde76c254a172",
       "version_major": 2,
       "version_minor": 0
      },
      "text/plain": [
       "0it [00:00, ?it/s]"
      ]
     },
     "metadata": {},
     "output_type": "display_data"
    },
    {
     "data": {
      "application/vnd.jupyter.widget-view+json": {
       "model_id": "ab47766d5a994b33aeb585651ad28f2f",
       "version_major": 2,
       "version_minor": 0
      },
      "text/plain": [
       "0it [00:00, ?it/s]"
      ]
     },
     "metadata": {},
     "output_type": "display_data"
    },
    {
     "data": {
      "application/vnd.jupyter.widget-view+json": {
       "model_id": "07b2050e0b6846b6a3ba9bfa45e903a5",
       "version_major": 2,
       "version_minor": 0
      },
      "text/plain": [
       "0it [00:00, ?it/s]"
      ]
     },
     "metadata": {},
     "output_type": "display_data"
    },
    {
     "data": {
      "application/vnd.jupyter.widget-view+json": {
       "model_id": "b058ca43ac74405fb7ae9455a1b90209",
       "version_major": 2,
       "version_minor": 0
      },
      "text/plain": [
       "0it [00:00, ?it/s]"
      ]
     },
     "metadata": {},
     "output_type": "display_data"
    },
    {
     "data": {
      "application/vnd.jupyter.widget-view+json": {
       "model_id": "cad061b9d6a04ef2af4d754fc28e5b99",
       "version_major": 2,
       "version_minor": 0
      },
      "text/plain": [
       "0it [00:00, ?it/s]"
      ]
     },
     "metadata": {},
     "output_type": "display_data"
    },
    {
     "data": {
      "application/vnd.jupyter.widget-view+json": {
       "model_id": "42e88ec0884d40e9960633e934ab985e",
       "version_major": 2,
       "version_minor": 0
      },
      "text/plain": [
       "0it [00:00, ?it/s]"
      ]
     },
     "metadata": {},
     "output_type": "display_data"
    },
    {
     "data": {
      "application/vnd.jupyter.widget-view+json": {
       "model_id": "d519ec0f48af43d7a923f88a5351d087",
       "version_major": 2,
       "version_minor": 0
      },
      "text/plain": [
       "0it [00:00, ?it/s]"
      ]
     },
     "metadata": {},
     "output_type": "display_data"
    },
    {
     "data": {
      "application/vnd.jupyter.widget-view+json": {
       "model_id": "17ab71494d0742198e0a64dfee60504e",
       "version_major": 2,
       "version_minor": 0
      },
      "text/plain": [
       "0it [00:00, ?it/s]"
      ]
     },
     "metadata": {},
     "output_type": "display_data"
    },
    {
     "data": {
      "application/vnd.jupyter.widget-view+json": {
       "model_id": "9a36c06e6b7a4ecd8577423b7a2a13e2",
       "version_major": 2,
       "version_minor": 0
      },
      "text/plain": [
       "0it [00:00, ?it/s]"
      ]
     },
     "metadata": {},
     "output_type": "display_data"
    },
    {
     "data": {
      "application/vnd.jupyter.widget-view+json": {
       "model_id": "2f8fa14d96ad4f94a4d6acfd547300ef",
       "version_major": 2,
       "version_minor": 0
      },
      "text/plain": [
       "0it [00:00, ?it/s]"
      ]
     },
     "metadata": {},
     "output_type": "display_data"
    },
    {
     "data": {
      "application/vnd.jupyter.widget-view+json": {
       "model_id": "8e70fcdea7734e2e8f64004b1501eef6",
       "version_major": 2,
       "version_minor": 0
      },
      "text/plain": [
       "0it [00:00, ?it/s]"
      ]
     },
     "metadata": {},
     "output_type": "display_data"
    },
    {
     "data": {
      "application/vnd.jupyter.widget-view+json": {
       "model_id": "7e5126d9663b4be19b96d47c5e23db4a",
       "version_major": 2,
       "version_minor": 0
      },
      "text/plain": [
       "0it [00:00, ?it/s]"
      ]
     },
     "metadata": {},
     "output_type": "display_data"
    },
    {
     "data": {
      "application/vnd.jupyter.widget-view+json": {
       "model_id": "e50067df5ed64fb78d952f4e7979946d",
       "version_major": 2,
       "version_minor": 0
      },
      "text/plain": [
       "0it [00:00, ?it/s]"
      ]
     },
     "metadata": {},
     "output_type": "display_data"
    },
    {
     "data": {
      "application/vnd.jupyter.widget-view+json": {
       "model_id": "218b9945dc4f4589ad8f5395aa41367d",
       "version_major": 2,
       "version_minor": 0
      },
      "text/plain": [
       "0it [00:00, ?it/s]"
      ]
     },
     "metadata": {},
     "output_type": "display_data"
    },
    {
     "data": {
      "application/vnd.jupyter.widget-view+json": {
       "model_id": "fe4b0f0f39854846b707efe0fc7b2234",
       "version_major": 2,
       "version_minor": 0
      },
      "text/plain": [
       "0it [00:00, ?it/s]"
      ]
     },
     "metadata": {},
     "output_type": "display_data"
    },
    {
     "data": {
      "application/vnd.jupyter.widget-view+json": {
       "model_id": "cbbffafa1da146df8349192bb3b474e1",
       "version_major": 2,
       "version_minor": 0
      },
      "text/plain": [
       "0it [00:00, ?it/s]"
      ]
     },
     "metadata": {},
     "output_type": "display_data"
    },
    {
     "data": {
      "application/vnd.jupyter.widget-view+json": {
       "model_id": "a50a80ae01d24e7a8f91a396c1d29230",
       "version_major": 2,
       "version_minor": 0
      },
      "text/plain": [
       "0it [00:00, ?it/s]"
      ]
     },
     "metadata": {},
     "output_type": "display_data"
    },
    {
     "data": {
      "application/vnd.jupyter.widget-view+json": {
       "model_id": "e6aec05c69924eef81ec899ad61893ed",
       "version_major": 2,
       "version_minor": 0
      },
      "text/plain": [
       "0it [00:00, ?it/s]"
      ]
     },
     "metadata": {},
     "output_type": "display_data"
    },
    {
     "data": {
      "application/vnd.jupyter.widget-view+json": {
       "model_id": "39f49f31743e4db5af64f9e017d52404",
       "version_major": 2,
       "version_minor": 0
      },
      "text/plain": [
       "0it [00:00, ?it/s]"
      ]
     },
     "metadata": {},
     "output_type": "display_data"
    },
    {
     "data": {
      "application/vnd.jupyter.widget-view+json": {
       "model_id": "2235e4e8899046ed99d6b2ede3d6ec51",
       "version_major": 2,
       "version_minor": 0
      },
      "text/plain": [
       "0it [00:00, ?it/s]"
      ]
     },
     "metadata": {},
     "output_type": "display_data"
    },
    {
     "data": {
      "application/vnd.jupyter.widget-view+json": {
       "model_id": "5a060961114e436eab59948594bd5eec",
       "version_major": 2,
       "version_minor": 0
      },
      "text/plain": [
       "0it [00:00, ?it/s]"
      ]
     },
     "metadata": {},
     "output_type": "display_data"
    },
    {
     "data": {
      "application/vnd.jupyter.widget-view+json": {
       "model_id": "473c546c76354be0985e7667b001e68f",
       "version_major": 2,
       "version_minor": 0
      },
      "text/plain": [
       "0it [00:00, ?it/s]"
      ]
     },
     "metadata": {},
     "output_type": "display_data"
    },
    {
     "data": {
      "application/vnd.jupyter.widget-view+json": {
       "model_id": "7042fbacb9b34da29b477a5188622fe2",
       "version_major": 2,
       "version_minor": 0
      },
      "text/plain": [
       "0it [00:00, ?it/s]"
      ]
     },
     "metadata": {},
     "output_type": "display_data"
    },
    {
     "data": {
      "application/vnd.jupyter.widget-view+json": {
       "model_id": "b18007d6b2f74d10915fceebb289b787",
       "version_major": 2,
       "version_minor": 0
      },
      "text/plain": [
       "0it [00:00, ?it/s]"
      ]
     },
     "metadata": {},
     "output_type": "display_data"
    },
    {
     "data": {
      "application/vnd.jupyter.widget-view+json": {
       "model_id": "ea3f5456c0bf4714ad81e622698ffa3c",
       "version_major": 2,
       "version_minor": 0
      },
      "text/plain": [
       "0it [00:00, ?it/s]"
      ]
     },
     "metadata": {},
     "output_type": "display_data"
    },
    {
     "data": {
      "application/vnd.jupyter.widget-view+json": {
       "model_id": "8a826bb9585c4023b483552ae53faa77",
       "version_major": 2,
       "version_minor": 0
      },
      "text/plain": [
       "0it [00:00, ?it/s]"
      ]
     },
     "metadata": {},
     "output_type": "display_data"
    },
    {
     "data": {
      "application/vnd.jupyter.widget-view+json": {
       "model_id": "0fc8ee386a584685aafd0bc870bdb6c5",
       "version_major": 2,
       "version_minor": 0
      },
      "text/plain": [
       "0it [00:00, ?it/s]"
      ]
     },
     "metadata": {},
     "output_type": "display_data"
    },
    {
     "data": {
      "application/vnd.jupyter.widget-view+json": {
       "model_id": "dee4966e576a4ca79cd270115c907317",
       "version_major": 2,
       "version_minor": 0
      },
      "text/plain": [
       "0it [00:00, ?it/s]"
      ]
     },
     "metadata": {},
     "output_type": "display_data"
    },
    {
     "data": {
      "application/vnd.jupyter.widget-view+json": {
       "model_id": "abddae59203a43a8b66e0b63b7c89c26",
       "version_major": 2,
       "version_minor": 0
      },
      "text/plain": [
       "0it [00:00, ?it/s]"
      ]
     },
     "metadata": {},
     "output_type": "display_data"
    },
    {
     "data": {
      "application/vnd.jupyter.widget-view+json": {
       "model_id": "afadbc42224c4387a74a42638125c9bc",
       "version_major": 2,
       "version_minor": 0
      },
      "text/plain": [
       "0it [00:00, ?it/s]"
      ]
     },
     "metadata": {},
     "output_type": "display_data"
    },
    {
     "data": {
      "application/vnd.jupyter.widget-view+json": {
       "model_id": "b90c1d75599448f797d0f6b965fb5a8f",
       "version_major": 2,
       "version_minor": 0
      },
      "text/plain": [
       "0it [00:00, ?it/s]"
      ]
     },
     "metadata": {},
     "output_type": "display_data"
    },
    {
     "data": {
      "application/vnd.jupyter.widget-view+json": {
       "model_id": "a6bab68552444cfc80b42facac39bfd8",
       "version_major": 2,
       "version_minor": 0
      },
      "text/plain": [
       "0it [00:00, ?it/s]"
      ]
     },
     "metadata": {},
     "output_type": "display_data"
    },
    {
     "data": {
      "application/vnd.jupyter.widget-view+json": {
       "model_id": "e12f426397fc499fb5bc42ae9dfce82f",
       "version_major": 2,
       "version_minor": 0
      },
      "text/plain": [
       "0it [00:00, ?it/s]"
      ]
     },
     "metadata": {},
     "output_type": "display_data"
    },
    {
     "data": {
      "application/vnd.jupyter.widget-view+json": {
       "model_id": "2a256f5b631e4263ace3a6b5ec996f7a",
       "version_major": 2,
       "version_minor": 0
      },
      "text/plain": [
       "0it [00:00, ?it/s]"
      ]
     },
     "metadata": {},
     "output_type": "display_data"
    },
    {
     "data": {
      "application/vnd.jupyter.widget-view+json": {
       "model_id": "8f7d45d6baac46bfb04db2bbc1af68e8",
       "version_major": 2,
       "version_minor": 0
      },
      "text/plain": [
       "0it [00:00, ?it/s]"
      ]
     },
     "metadata": {},
     "output_type": "display_data"
    },
    {
     "data": {
      "application/vnd.jupyter.widget-view+json": {
       "model_id": "4665fcdbd09549f2849e2155105b8232",
       "version_major": 2,
       "version_minor": 0
      },
      "text/plain": [
       "0it [00:00, ?it/s]"
      ]
     },
     "metadata": {},
     "output_type": "display_data"
    },
    {
     "data": {
      "application/vnd.jupyter.widget-view+json": {
       "model_id": "5791543d7ea649b5ac1a15a99540957a",
       "version_major": 2,
       "version_minor": 0
      },
      "text/plain": [
       "0it [00:00, ?it/s]"
      ]
     },
     "metadata": {},
     "output_type": "display_data"
    },
    {
     "data": {
      "application/vnd.jupyter.widget-view+json": {
       "model_id": "00343c32f20a488cb2684d864a1f918c",
       "version_major": 2,
       "version_minor": 0
      },
      "text/plain": [
       "0it [00:00, ?it/s]"
      ]
     },
     "metadata": {},
     "output_type": "display_data"
    },
    {
     "data": {
      "application/vnd.jupyter.widget-view+json": {
       "model_id": "4e30ceda16b641b1812e353ed740b205",
       "version_major": 2,
       "version_minor": 0
      },
      "text/plain": [
       "0it [00:00, ?it/s]"
      ]
     },
     "metadata": {},
     "output_type": "display_data"
    }
   ],
   "source": [
    "save_graphs_to_pickle(grouped_dfs, \"quarterly_graphs\")"
   ]
  },
  {
   "cell_type": "markdown",
   "id": "669641d0",
   "metadata": {},
   "source": [
    "# GRAPHS ARE SAVED!! ALL CLEAN 74 GRAPH."
   ]
  },
  {
   "cell_type": "code",
   "execution_count": null,
   "id": "ecfc8858",
   "metadata": {},
   "outputs": [],
   "source": []
  },
  {
   "cell_type": "code",
   "execution_count": null,
   "id": "2f7e3c8e",
   "metadata": {},
   "outputs": [],
   "source": []
  },
  {
   "cell_type": "code",
   "execution_count": null,
   "id": "342cef1f",
   "metadata": {},
   "outputs": [],
   "source": []
  },
  {
   "cell_type": "code",
   "execution_count": null,
   "id": "ab61e417",
   "metadata": {},
   "outputs": [],
   "source": []
  },
  {
   "cell_type": "code",
   "execution_count": null,
   "id": "8969d9e1",
   "metadata": {},
   "outputs": [],
   "source": []
  },
  {
   "cell_type": "code",
   "execution_count": 140,
   "id": "fb4480a8",
   "metadata": {},
   "outputs": [],
   "source": [
    "Gb = pickle.load(open('folder1/graph_1999-06-30.pkl', 'rb'))"
   ]
  },
  {
   "cell_type": "code",
   "execution_count": 141,
   "id": "c68fca66",
   "metadata": {},
   "outputs": [
    {
     "name": "stdout",
     "output_type": "stream",
     "text": [
      "Number of nodes: 20219\n",
      "Number of edges: 209368\n"
     ]
    }
   ],
   "source": [
    "print(\"Number of nodes:\", Gb.number_of_nodes())\n",
    "print(\"Number of edges:\", Gb.number_of_edges())"
   ]
  },
  {
   "cell_type": "code",
   "execution_count": null,
   "id": "485272b5",
   "metadata": {},
   "outputs": [],
   "source": [
    "Number of nodes: 6716\n",
    "Number of edges: 209368\n"
   ]
  },
  {
   "cell_type": "code",
   "execution_count": null,
   "id": "fa77bae8",
   "metadata": {},
   "outputs": [],
   "source": []
  },
  {
   "cell_type": "code",
   "execution_count": 113,
   "id": "7b8670c1",
   "metadata": {},
   "outputs": [],
   "source": [
    "from networkx.algorithms import bipartite\n",
    "from collections import defaultdict\n",
    "\n",
    "\n",
    "# Function to calculate disparity measure of a graph\n",
    "def calculate_disparity(G):\n",
    "    disparity_scores = []\n",
    "    for node in G.nodes():\n",
    "        degree = G.degree(node)  # Total number of edges for node i\n",
    "        if degree > 0:  # To avoid division by zero\n",
    "            disparity = sum([(1 / degree)**2 for _ in range(degree)])\n",
    "            disparity_scores.append(disparity)\n",
    "    # Avoid division by zero if there are no nodes\n",
    "    return sum(disparity_scores) / len(G.nodes()) if G.nodes() else 0\n",
    "\n",
    "\n",
    "####################################################################################################\n",
    "\n",
    "def calc_motifs1(G):\n",
    "    # Assuming G is your graph\n",
    "\n",
    "    motif_count = 0\n",
    "    motifs = []\n",
    "\n",
    "    for node in G.nodes:\n",
    "        # Check if the node is an investor\n",
    "        if G.nodes[node].get('bipartite') == 1:\n",
    "            # Iterate over all successors of the investor\n",
    "            for stock in G.successors(node):\n",
    "                # Check if the successor is a stock\n",
    "                if G.nodes[stock].get('bipartite') == 0:\n",
    "                    # Iterate over all successors of the stock\n",
    "                    for investor_c in G.successors(stock):\n",
    "                        # Check if the end node is an investor and not the same as the starting node\n",
    "                        if G.nodes[investor_c].get('bipartite') == 1 and investor_c != node:\n",
    "                            motif_count += 1\n",
    "                            motifs.append((node, stock, investor_c))\n",
    "\n",
    "    # print(\"List of motifs (investor_a, stock_b, investor_c):\", motifs)\n",
    "    return motif_count\n",
    "\n",
    "def calc_motifs2(G):\n",
    "    motif_count = 0\n",
    "    motifs = []\n",
    "\n",
    "    for node in G.nodes:\n",
    "        # Check if the node is an investor\n",
    "        if G.nodes[node].get('bipartite') == 1:\n",
    "            # Iterate over all successors of the investor\n",
    "            for stock in G.successors(node):\n",
    "                # Check if the successor is a stock\n",
    "                if G.nodes[stock].get('bipartite') == 0:\n",
    "                    # Check if the edge from investor to stock has 'filing_delay' == 'Late'\n",
    "                    if G.get_edge_data(node, stock).get('filing_delay') == 'late':\n",
    "                        motif_count += 1\n",
    "                        motifs.append((node, stock))\n",
    "\n",
    "    return motif_count\n",
    "\n",
    "def calc_motifs3(G):\n",
    "    motifs = []\n",
    "    motif_count = 0\n",
    "\n",
    "    for investor_node in filter(lambda n: G.nodes[n].get('bipartite') == 1, G.nodes):\n",
    "        industry_late_buys = defaultdict(int)\n",
    "        \n",
    "        for stock_node, edge_data in G[investor_node].items():\n",
    "            if edge_data.get('filing_delay') == 'late':\n",
    "                industry = edge_data.get('equity_industry')\n",
    "                industry_late_buys[industry] += 1\n",
    "\n",
    "        # Check if the investor has late buys in the same industry from multiple sources\n",
    "        for industry, count in industry_late_buys.items():\n",
    "            if count > 1:  # More than one late buy in the same industry\n",
    "                motifs.append((investor_node, industry, count))\n",
    "                motif_count += 1\n",
    "\n",
    "    return motif_count\n",
    "\n",
    "\n",
    "\n",
    "def calc_motifs4(G):\n",
    "    motifs = []\n",
    "    motif_count = 0\n",
    "\n",
    "    for investor_node in filter(lambda n: G.nodes[n].get('bipartite') == 1, G.nodes):\n",
    "        industry_trading = defaultdict(lambda: {'Buy': set(), 'Sale': set()})\n",
    "\n",
    "        for stock_node, edge_data in G[investor_node].items():\n",
    "            industry = edge_data.get('equity_industry')\n",
    "            share_change = edge_data.get('share_change')\n",
    "            quarter = edge_data.get('quarter')\n",
    "\n",
    "            if share_change in [ 'Large Buy','Significant Buy', 'Large Sale', 'Significant Sale']:\n",
    "                industry_trading[industry][share_change.split()[1]].add(quarter)\n",
    "\n",
    "        # Check for both 'Buy' and 'Sale' in the same industry and quarter\n",
    "        for industry, transactions in industry_trading.items():\n",
    "            if transactions['Buy'].intersection(transactions['Sale']):\n",
    "                motif_count += 1\n",
    "                motifs.append((investor_node, industry))\n",
    "\n",
    "    return motif_count\n",
    "\n",
    "####################################################################################################\n",
    "\n",
    "def extract_report_from_df(df):\n",
    "    \n",
    "    stock_groups = df.groupby('name').first()['ticker_classification']\n",
    "    investor_groups = df.groupby('cikname').first()['investor_rank']\n",
    "    \n",
    "    # Initialize a directed graph\n",
    "    G = nx.DiGraph()\n",
    "    \n",
    "    # Adding nodes in bulk with their attributes\n",
    "    G.add_nodes_from([(stock, {'bipartite': 0, 'type': stock_type}) for stock, stock_type in stock_groups.items()])\n",
    "    G.add_nodes_from([(investor, {'bipartite': 1, 'type': investor_type}) for investor, investor_type in investor_groups.items()])\n",
    "    \n",
    "    # Loop through the DataFrame to add edges\n",
    "    for index, row in tqdm(df.iterrows()):\n",
    "        u = row[\"name\"]  # stock\n",
    "        v = row[\"cikname\"]  # investor\n",
    "\n",
    "        # Define edge attributes\n",
    "        edge_attrs = {\n",
    "            'quarter': pd.to_datetime(row['quarter']),\n",
    "            'share_change': row[\"changeCat\"],\n",
    "            'filing_delay': row[\"delay_cat\"],\n",
    "            'direction': row[\"direction\"],\n",
    "            'sector': row[\"sicSector\"],\n",
    "            'industry': row[\"sicIndustry\"],\n",
    "            'volume_category': row['volume_category_y'],\n",
    "            'volatility_category': row['volatility_category_y'],\n",
    "            'quarterly_price': row['quarterly_price']\n",
    "        }\n",
    "\n",
    "        # Check for the type of transaction and add edge accordingly\n",
    "        if row['changeCat'] in ['Large Buy', 'Buy', 'Significant Buy']:\n",
    "            if not G.has_edge(u, v):\n",
    "                G.add_edge(u, v, **edge_attrs)\n",
    "        elif row['changeCat'] in ['Large Sale', 'Sale', 'Significant Sale']:\n",
    "            if not G.has_edge(v, u):\n",
    "                G.add_edge(v, u, **edge_attrs)\n",
    "        else:\n",
    "            continue  \n",
    "    ###########################################################\n",
    "     # create identical graph, get their values as well\n",
    "    ###########################################################\n",
    "    \n",
    "    \n",
    "    ###########################################################\n",
    "            #  write final graph to klasör\n",
    "    ###########################################################     \n",
    "            \n",
    "            #  calculate stuff\n",
    "    \n",
    "    disparity = calculate_disparity(G) \n",
    "    density = nx.density(G)\n",
    "    clustering = nx.average_clustering(G)\n",
    "    \n",
    "    motifs1 = calc_motifs1(G)\n",
    "    motifs2 = calc_motifs2(G)\n",
    "    motifs3 = calc_motifs3(G)\n",
    "    motifs4 = calc_motifs4(G)\n",
    "    ###########################################################\n",
    "            #  return a result dataframe\n",
    "    ###########################################################          \n",
    "    return G,motifs1,motifs2,motifs3,motifs4, disparity, density, clustering"
   ]
  },
  {
   "cell_type": "code",
   "execution_count": 114,
   "id": "652c6bce",
   "metadata": {
    "scrolled": false
   },
   "outputs": [
    {
     "name": "stderr",
     "output_type": "stream",
     "text": [
      "225392it [01:15, 2996.90it/s]\n"
     ]
    }
   ],
   "source": [
    "G,motifs1,motifs2,motifs3,motifs4, disparity, density, clustering = extract_report_from_df(grouped_dfs.get('2000-06-30'))"
   ]
  },
  {
   "cell_type": "code",
   "execution_count": 115,
   "id": "bb6b33e2",
   "metadata": {
    "scrolled": true
   },
   "outputs": [
    {
     "data": {
      "text/plain": [
       "(7144337,\n",
       " 16702,\n",
       " 287,\n",
       " 34,\n",
       " 0.148554699425366,\n",
       " 0.004516576010434886,\n",
       " 0.06326264603247853)"
      ]
     },
     "execution_count": 115,
     "metadata": {},
     "output_type": "execute_result"
    }
   ],
   "source": [
    "motifs1,motifs2,motifs3,motifs4, disparity, density, clustering"
   ]
  },
  {
   "cell_type": "code",
   "execution_count": null,
   "id": "c6eeca0a",
   "metadata": {},
   "outputs": [],
   "source": []
  },
  {
   "cell_type": "code",
   "execution_count": null,
   "id": "c3c0d3bb",
   "metadata": {},
   "outputs": [],
   "source": [
    "def calc_motifs(G):\n",
    "\n",
    "    # Assuming G is your graph\n",
    "\n",
    "    motif_count = 0\n",
    "    motifs = []\n",
    "\n",
    "    for node in G.nodes:\n",
    "        # Check if the node is an investor\n",
    "        if G.nodes[node].get('bipartite') == 1:\n",
    "            # Iterate over all successors of the investor\n",
    "            for stock in G.successors(node):\n",
    "                # Check if the successor is a stock\n",
    "                if G.nodes[stock].get('bipartite') == 0:\n",
    "                    # Iterate over all successors of the stock\n",
    "                    for investor_c in G.successors(stock):\n",
    "                        # Check if the end node is an investor and not the same as the starting node\n",
    "                        if G.nodes[investor_c].get('bipartite') == 1 and investor_c != node:\n",
    "                            motif_count += 1\n",
    "                            motifs.append((node, stock, investor_c))\n",
    "\n",
    "    # print(\"List of motifs (investor_a, stock_b, investor_c):\", motifs)\n",
    "    return motif_count"
   ]
  },
  {
   "cell_type": "code",
   "execution_count": null,
   "id": "a022d343",
   "metadata": {},
   "outputs": [],
   "source": []
  },
  {
   "cell_type": "code",
   "execution_count": null,
   "id": "357622e2",
   "metadata": {},
   "outputs": [],
   "source": []
  },
  {
   "cell_type": "code",
   "execution_count": null,
   "id": "c342dd1f",
   "metadata": {},
   "outputs": [],
   "source": []
  },
  {
   "cell_type": "code",
   "execution_count": null,
   "id": "ab5ac5c9",
   "metadata": {},
   "outputs": [],
   "source": []
  },
  {
   "cell_type": "code",
   "execution_count": null,
   "id": "bdefc594",
   "metadata": {},
   "outputs": [],
   "source": []
  },
  {
   "cell_type": "code",
   "execution_count": 96,
   "id": "c860b83c",
   "metadata": {},
   "outputs": [
    {
     "data": {
      "text/plain": [
       "(225392, 15)"
      ]
     },
     "execution_count": 96,
     "metadata": {},
     "output_type": "execute_result"
    }
   ],
   "source": [
    "grouped_dfs.get('2000-06-30').shape"
   ]
  },
  {
   "cell_type": "code",
   "execution_count": 57,
   "id": "e28db29b",
   "metadata": {
    "scrolled": false
   },
   "outputs": [
    {
     "name": "stderr",
     "output_type": "stream",
     "text": [
      "\n",
      "0it [00:06, ?it/s]\u001b[A\n"
     ]
    }
   ],
   "source": [
    "e,d,f = extract_report_from_df(grouped_dfs.get('1999-09-30')) "
   ]
  },
  {
   "cell_type": "code",
   "execution_count": 92,
   "id": "6ab4228a",
   "metadata": {},
   "outputs": [
    {
     "ename": "TypeError",
     "evalue": "__call__() got an unexpected keyword argument 'bipartite'",
     "output_type": "error",
     "traceback": [
      "\u001b[1;31m---------------------------------------------------------------------------\u001b[0m",
      "\u001b[1;31mTypeError\u001b[0m                                 Traceback (most recent call last)",
      "Input \u001b[1;32mIn [92]\u001b[0m, in \u001b[0;36m<cell line: 1>\u001b[1;34m()\u001b[0m\n\u001b[1;32m----> 1\u001b[0m \u001b[43mG\u001b[49m\u001b[38;5;241;43m.\u001b[39;49m\u001b[43mnodes\u001b[49m\u001b[43m(\u001b[49m\u001b[43mbipartite\u001b[49m\u001b[43m \u001b[49m\u001b[38;5;241;43m=\u001b[39;49m\u001b[43m \u001b[49m\u001b[38;5;241;43m0\u001b[39;49m\u001b[43m)\u001b[49m\n",
      "\u001b[1;31mTypeError\u001b[0m: __call__() got an unexpected keyword argument 'bipartite'"
     ]
    }
   ],
   "source": [
    "G.nodes(bipartite = 0)"
   ]
  },
  {
   "cell_type": "code",
   "execution_count": null,
   "id": "6c8cf232",
   "metadata": {},
   "outputs": [],
   "source": []
  },
  {
   "cell_type": "code",
   "execution_count": 58,
   "id": "63f10310",
   "metadata": {},
   "outputs": [
    {
     "data": {
      "text/plain": [
       "(0.00029433406916850625, 2.1661323901126455e-08, 0.0)"
      ]
     },
     "execution_count": 58,
     "metadata": {},
     "output_type": "execute_result"
    }
   ],
   "source": [
    "e,d,f"
   ]
  },
  {
   "cell_type": "code",
   "execution_count": 38,
   "id": "015e464e",
   "metadata": {},
   "outputs": [],
   "source": [
    "stock_groups = dropped.groupby('name').first()['ticker_classification']\n",
    "investor_groups = dropped.groupby('cikname').first()['investor_rank']"
   ]
  },
  {
   "cell_type": "code",
   "execution_count": 44,
   "id": "70afd8b0",
   "metadata": {},
   "outputs": [
    {
     "name": "stderr",
     "output_type": "stream",
     "text": [
      "322353it [01:54, 2805.53it/s]\n"
     ]
    },
    {
     "ename": "KeyboardInterrupt",
     "evalue": "",
     "output_type": "error",
     "traceback": [
      "\u001b[1;31m---------------------------------------------------------------------------\u001b[0m",
      "\u001b[1;31mKeyboardInterrupt\u001b[0m                         Traceback (most recent call last)",
      "Input \u001b[1;32mIn [44]\u001b[0m, in \u001b[0;36m<cell line: 15>\u001b[1;34m()\u001b[0m\n\u001b[0;32m     17\u001b[0m v \u001b[38;5;241m=\u001b[39m row[\u001b[38;5;124m\"\u001b[39m\u001b[38;5;124mcikname\u001b[39m\u001b[38;5;124m\"\u001b[39m]  \u001b[38;5;66;03m# investor\u001b[39;00m\n\u001b[0;32m     19\u001b[0m \u001b[38;5;66;03m# Define edge attributes\u001b[39;00m\n\u001b[0;32m     20\u001b[0m edge_attrs \u001b[38;5;241m=\u001b[39m {\n\u001b[0;32m     21\u001b[0m     \u001b[38;5;124m'\u001b[39m\u001b[38;5;124mquarter\u001b[39m\u001b[38;5;124m'\u001b[39m: pd\u001b[38;5;241m.\u001b[39mto_datetime(row[\u001b[38;5;124m'\u001b[39m\u001b[38;5;124mquarter\u001b[39m\u001b[38;5;124m'\u001b[39m]),\n\u001b[0;32m     22\u001b[0m     \u001b[38;5;124m'\u001b[39m\u001b[38;5;124mshare_change\u001b[39m\u001b[38;5;124m'\u001b[39m: row[\u001b[38;5;124m\"\u001b[39m\u001b[38;5;124mchangeCat\u001b[39m\u001b[38;5;124m\"\u001b[39m],\n\u001b[0;32m     23\u001b[0m     \u001b[38;5;124m'\u001b[39m\u001b[38;5;124mfiling_delay\u001b[39m\u001b[38;5;124m'\u001b[39m: row[\u001b[38;5;124m\"\u001b[39m\u001b[38;5;124mdelay_cat\u001b[39m\u001b[38;5;124m\"\u001b[39m],\n\u001b[0;32m     24\u001b[0m     \u001b[38;5;124m'\u001b[39m\u001b[38;5;124mdirection\u001b[39m\u001b[38;5;124m'\u001b[39m: row[\u001b[38;5;124m\"\u001b[39m\u001b[38;5;124mdirection\u001b[39m\u001b[38;5;124m\"\u001b[39m],\n\u001b[0;32m     25\u001b[0m     \u001b[38;5;124m'\u001b[39m\u001b[38;5;124msector\u001b[39m\u001b[38;5;124m'\u001b[39m: row[\u001b[38;5;124m\"\u001b[39m\u001b[38;5;124msicSector\u001b[39m\u001b[38;5;124m\"\u001b[39m],\n\u001b[0;32m     26\u001b[0m     \u001b[38;5;124m'\u001b[39m\u001b[38;5;124mindustry\u001b[39m\u001b[38;5;124m'\u001b[39m: row[\u001b[38;5;124m\"\u001b[39m\u001b[38;5;124msicIndustry\u001b[39m\u001b[38;5;124m\"\u001b[39m],\n\u001b[0;32m     27\u001b[0m     \u001b[38;5;124m'\u001b[39m\u001b[38;5;124mvolume_category\u001b[39m\u001b[38;5;124m'\u001b[39m: row[\u001b[38;5;124m'\u001b[39m\u001b[38;5;124mvolume_category_y\u001b[39m\u001b[38;5;124m'\u001b[39m],\n\u001b[0;32m     28\u001b[0m     \u001b[38;5;124m'\u001b[39m\u001b[38;5;124mvolatility_category\u001b[39m\u001b[38;5;124m'\u001b[39m: row[\u001b[38;5;124m'\u001b[39m\u001b[38;5;124mvolatility_category_y\u001b[39m\u001b[38;5;124m'\u001b[39m],\n\u001b[1;32m---> 29\u001b[0m     \u001b[38;5;124m'\u001b[39m\u001b[38;5;124mquarterly_price\u001b[39m\u001b[38;5;124m'\u001b[39m: \u001b[43mrow\u001b[49m\u001b[43m[\u001b[49m\u001b[38;5;124;43m'\u001b[39;49m\u001b[38;5;124;43mquarterly_price\u001b[39;49m\u001b[38;5;124;43m'\u001b[39;49m\u001b[43m]\u001b[49m\n\u001b[0;32m     30\u001b[0m }\n\u001b[0;32m     32\u001b[0m \u001b[38;5;66;03m# Check for the type of transaction and add edge accordingly\u001b[39;00m\n\u001b[0;32m     33\u001b[0m \u001b[38;5;28;01mif\u001b[39;00m row[\u001b[38;5;124m'\u001b[39m\u001b[38;5;124mchangeCat\u001b[39m\u001b[38;5;124m'\u001b[39m] \u001b[38;5;129;01min\u001b[39;00m [\u001b[38;5;124m'\u001b[39m\u001b[38;5;124mLarge Buy\u001b[39m\u001b[38;5;124m'\u001b[39m, \u001b[38;5;124m'\u001b[39m\u001b[38;5;124mBuy\u001b[39m\u001b[38;5;124m'\u001b[39m, \u001b[38;5;124m'\u001b[39m\u001b[38;5;124mSignificant Buy\u001b[39m\u001b[38;5;124m'\u001b[39m]:\n",
      "File \u001b[1;32m~\\anaconda3\\lib\\site-packages\\pandas\\core\\series.py:1040\u001b[0m, in \u001b[0;36mSeries.__getitem__\u001b[1;34m(self, key)\u001b[0m\n\u001b[0;32m   1037\u001b[0m     \u001b[38;5;28;01mreturn\u001b[39;00m \u001b[38;5;28mself\u001b[39m\u001b[38;5;241m.\u001b[39m_values[key]\n\u001b[0;32m   1039\u001b[0m \u001b[38;5;28;01melif\u001b[39;00m key_is_scalar:\n\u001b[1;32m-> 1040\u001b[0m     \u001b[38;5;28;01mreturn\u001b[39;00m \u001b[38;5;28;43mself\u001b[39;49m\u001b[38;5;241;43m.\u001b[39;49m\u001b[43m_get_value\u001b[49m\u001b[43m(\u001b[49m\u001b[43mkey\u001b[49m\u001b[43m)\u001b[49m\n\u001b[0;32m   1042\u001b[0m \u001b[38;5;66;03m# Convert generator to list before going through hashable part\u001b[39;00m\n\u001b[0;32m   1043\u001b[0m \u001b[38;5;66;03m# (We will iterate through the generator there to check for slices)\u001b[39;00m\n\u001b[0;32m   1044\u001b[0m \u001b[38;5;28;01mif\u001b[39;00m is_iterator(key):\n",
      "File \u001b[1;32m~\\anaconda3\\lib\\site-packages\\pandas\\core\\series.py:1158\u001b[0m, in \u001b[0;36mSeries._get_value\u001b[1;34m(self, label, takeable)\u001b[0m\n\u001b[0;32m   1155\u001b[0m \u001b[38;5;66;03m# Similar to Index.get_value, but we do not fall back to positional\u001b[39;00m\n\u001b[0;32m   1156\u001b[0m loc \u001b[38;5;241m=\u001b[39m \u001b[38;5;28mself\u001b[39m\u001b[38;5;241m.\u001b[39mindex\u001b[38;5;241m.\u001b[39mget_loc(label)\n\u001b[1;32m-> 1158\u001b[0m \u001b[38;5;28;01mif\u001b[39;00m \u001b[43mis_integer\u001b[49m\u001b[43m(\u001b[49m\u001b[43mloc\u001b[49m\u001b[43m)\u001b[49m:\n\u001b[0;32m   1159\u001b[0m     \u001b[38;5;28;01mreturn\u001b[39;00m \u001b[38;5;28mself\u001b[39m\u001b[38;5;241m.\u001b[39m_values[loc]\n\u001b[0;32m   1161\u001b[0m \u001b[38;5;28;01mif\u001b[39;00m \u001b[38;5;28misinstance\u001b[39m(\u001b[38;5;28mself\u001b[39m\u001b[38;5;241m.\u001b[39mindex, MultiIndex):\n",
      "\u001b[1;31mKeyboardInterrupt\u001b[0m: "
     ]
    }
   ],
   "source": [
    "import networkx as nx\n",
    "import pandas as pd\n",
    "from tqdm import tqdm\n",
    "\n",
    "# Assuming your DataFrame is named df\n",
    "\n",
    "# Initialize a directed graph\n",
    "G = nx.DiGraph()\n",
    "\n",
    "# Adding nodes in bulk with their attributes\n",
    "G.add_nodes_from([(stock, {'bipartite': 0, 'type': stock_type}) for stock, stock_type in stock_groups.items()])\n",
    "G.add_nodes_from([(investor, {'bipartite': 1, 'type': investor_type}) for investor, investor_type in investor_groups.items()])\n",
    "\n",
    "# Loop through the DataFrame to add edges\n",
    "for index, row in tqdm(dropped.iterrows()):\n",
    "    u = row[\"name\"]  # stock\n",
    "    v = row[\"cikname\"]  # investor\n",
    "\n",
    "    # Define edge attributes\n",
    "    edge_attrs = {\n",
    "        'quarter': pd.to_datetime(row['quarter']),\n",
    "        'share_change': row[\"changeCat\"],\n",
    "        'filing_delay': row[\"delay_cat\"],\n",
    "        'direction': row[\"direction\"],\n",
    "        'sector': row[\"sicSector\"],\n",
    "        'industry': row[\"sicIndustry\"],\n",
    "        'volume_category': row['volume_category_y'],\n",
    "        'volatility_category': row['volatility_category_y'],\n",
    "        'quarterly_price': row['quarterly_price']\n",
    "    }\n",
    "\n",
    "    # Check for the type of transaction and add edge accordingly\n",
    "    if row['changeCat'] in ['Large Buy', 'Buy', 'Significant Buy']:\n",
    "        if not G.has_edge(u, v):\n",
    "            G.add_edge(u, v, **edge_attrs)\n",
    "    elif row['changeCat'] in ['Large Sale', 'Sale', 'Significant Sale']:\n",
    "        if not G.has_edge(v, u):\n",
    "            G.add_edge(v, u, **edge_attrs)\n",
    "    else:\n",
    "        continue  # Skip rows that don't match the criteria"
   ]
  },
  {
   "cell_type": "code",
   "execution_count": null,
   "id": "c9ae5c1d",
   "metadata": {},
   "outputs": [],
   "source": [
    "from networkx.algorithms import bipartite\n",
    "\n",
    "\n",
    "print(\"Number of nodes:\", G.number_of_nodes())\n",
    "print(\"Number of edges:\", G.number_of_edges())\n",
    "print(bipartite.is_bipartite(G))"
   ]
  },
  {
   "cell_type": "code",
   "execution_count": null,
   "id": "63b60e61",
   "metadata": {},
   "outputs": [],
   "source": []
  }
 ],
 "metadata": {
  "kernelspec": {
   "display_name": "Python 3 (ipykernel)",
   "language": "python",
   "name": "python3"
  },
  "language_info": {
   "codemirror_mode": {
    "name": "ipython",
    "version": 3
   },
   "file_extension": ".py",
   "mimetype": "text/x-python",
   "name": "python",
   "nbconvert_exporter": "python",
   "pygments_lexer": "ipython3",
   "version": "3.9.12"
  }
 },
 "nbformat": 4,
 "nbformat_minor": 5
}
