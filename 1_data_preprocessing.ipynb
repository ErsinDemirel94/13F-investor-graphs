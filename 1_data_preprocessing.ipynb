{
 "cells": [
  {
   "cell_type": "markdown",
   "id": "baf60ade",
   "metadata": {},
   "source": [
    "# DROP NOTICES, CALCULATE CHANGE EACH QUARTER"
   ]
  },
  {
   "cell_type": "code",
   "execution_count": 1,
   "id": "ac32be59",
   "metadata": {},
   "outputs": [
    {
     "name": "stderr",
     "output_type": "stream",
     "text": [
      "C:\\Users\\ersin\\anaconda3\\lib\\site-packages\\numpy\\_distributor_init.py:30: UserWarning: loaded more than 1 DLL from .libs:\n",
      "C:\\Users\\ersin\\anaconda3\\lib\\site-packages\\numpy\\.libs\\libopenblas.XWYDX2IKJW2NMTWSFYNGFUWKQU3LYTCZ.gfortran-win_amd64.dll\n",
      "C:\\Users\\ersin\\anaconda3\\lib\\site-packages\\numpy\\.libs\\libopenblas64__v0.3.23-246-g3d31191b-gcc_10_3_0.dll\n",
      "  warnings.warn(\"loaded more than 1 DLL from .libs:\"\n"
     ]
    },
    {
     "data": {
      "text/html": [
       "<div>\n",
       "<style scoped>\n",
       "    .dataframe tbody tr th:only-of-type {\n",
       "        vertical-align: middle;\n",
       "    }\n",
       "\n",
       "    .dataframe tbody tr th {\n",
       "        vertical-align: top;\n",
       "    }\n",
       "\n",
       "    .dataframe thead th {\n",
       "        text-align: right;\n",
       "    }\n",
       "</style>\n",
       "<table border=\"1\" class=\"dataframe\">\n",
       "  <thead>\n",
       "    <tr style=\"text-align: right;\">\n",
       "      <th></th>\n",
       "      <th>cik</th>\n",
       "      <th>cusip</th>\n",
       "      <th>shares</th>\n",
       "      <th>rdate</th>\n",
       "      <th>fdate</th>\n",
       "      <th>filetype</th>\n",
       "    </tr>\n",
       "  </thead>\n",
       "  <tbody>\n",
       "    <tr>\n",
       "      <th>0</th>\n",
       "      <td>354204</td>\n",
       "      <td>00036020</td>\n",
       "      <td>164620.0</td>\n",
       "      <td>19990331</td>\n",
       "      <td>19990513</td>\n",
       "      <td>13F-HR</td>\n",
       "    </tr>\n",
       "    <tr>\n",
       "      <th>1</th>\n",
       "      <td>913414</td>\n",
       "      <td>00036020</td>\n",
       "      <td>129288.0</td>\n",
       "      <td>19990331</td>\n",
       "      <td>19990513</td>\n",
       "      <td>13F-HR</td>\n",
       "    </tr>\n",
       "    <tr>\n",
       "      <th>2</th>\n",
       "      <td>884589</td>\n",
       "      <td>00036020</td>\n",
       "      <td>199400.0</td>\n",
       "      <td>19990331</td>\n",
       "      <td>19990512</td>\n",
       "      <td>13F-HR</td>\n",
       "    </tr>\n",
       "  </tbody>\n",
       "</table>\n",
       "</div>"
      ],
      "text/plain": [
       "      cik     cusip    shares     rdate     fdate filetype\n",
       "0  354204  00036020  164620.0  19990331  19990513   13F-HR\n",
       "1  913414  00036020  129288.0  19990331  19990513   13F-HR\n",
       "2  884589  00036020  199400.0  19990331  19990512   13F-HR"
      ]
     },
     "execution_count": 1,
     "metadata": {},
     "output_type": "execute_result"
    }
   ],
   "source": [
    "import pandas as pd\n",
    "\n",
    "df = pd.read_csv(\"data/scrape_parsed.csv\") # parsed 13f filings\n",
    "df.head(3)"
   ]
  },
  {
   "cell_type": "code",
   "execution_count": 2,
   "id": "d4079c30",
   "metadata": {
    "scrolled": false
   },
   "outputs": [
    {
     "data": {
      "text/plain": [
       "(48719087, 6)"
      ]
     },
     "execution_count": 2,
     "metadata": {},
     "output_type": "execute_result"
    }
   ],
   "source": [
    "df.shape"
   ]
  },
  {
   "cell_type": "code",
   "execution_count": 3,
   "id": "7f754f14",
   "metadata": {},
   "outputs": [
    {
     "ename": "NameError",
     "evalue": "name 'mpl' is not defined",
     "output_type": "error",
     "traceback": [
      "\u001b[1;31m---------------------------------------------------------------------------\u001b[0m",
      "\u001b[1;31mNameError\u001b[0m                                 Traceback (most recent call last)",
      "Input \u001b[1;32mIn [3]\u001b[0m, in \u001b[0;36m<cell line: 4>\u001b[1;34m()\u001b[0m\n\u001b[0;32m      1\u001b[0m filing_type_counts \u001b[38;5;241m=\u001b[39m df[\u001b[38;5;124m'\u001b[39m\u001b[38;5;124mfiletype\u001b[39m\u001b[38;5;124m'\u001b[39m]\u001b[38;5;241m.\u001b[39mvalue_counts()\n\u001b[1;32m----> 4\u001b[0m \u001b[43mmpl\u001b[49m\u001b[38;5;241m.\u001b[39mrcParams\u001b[38;5;241m.\u001b[39mupdate({\n\u001b[0;32m      5\u001b[0m         \u001b[38;5;124m\"\u001b[39m\u001b[38;5;124mfont.size\u001b[39m\u001b[38;5;124m\"\u001b[39m:\u001b[38;5;241m16\u001b[39m,\n\u001b[0;32m      6\u001b[0m         \u001b[38;5;124m\"\u001b[39m\u001b[38;5;124mfont.weight\u001b[39m\u001b[38;5;124m\"\u001b[39m: \u001b[38;5;124m\"\u001b[39m\u001b[38;5;124mnormal\u001b[39m\u001b[38;5;124m\"\u001b[39m,  \u001b[38;5;66;03m# bold fonts\u001b[39;00m\n\u001b[0;32m      7\u001b[0m         \u001b[38;5;124m\"\u001b[39m\u001b[38;5;124mlines.linewidth\u001b[39m\u001b[38;5;124m\"\u001b[39m: \u001b[38;5;241m2\u001b[39m,   \u001b[38;5;66;03m# thick lines\u001b[39;00m\n\u001b[0;32m      8\u001b[0m         \u001b[38;5;124m\"\u001b[39m\u001b[38;5;124mlines.color\u001b[39m\u001b[38;5;124m\"\u001b[39m: \u001b[38;5;124m\"\u001b[39m\u001b[38;5;124mk\u001b[39m\u001b[38;5;124m\"\u001b[39m,     \u001b[38;5;66;03m# black lines\u001b[39;00m\n\u001b[0;32m      9\u001b[0m         \u001b[38;5;124m\"\u001b[39m\u001b[38;5;124mgrid.color\u001b[39m\u001b[38;5;124m\"\u001b[39m: \u001b[38;5;124m\"\u001b[39m\u001b[38;5;124m0.5\u001b[39m\u001b[38;5;124m\"\u001b[39m,    \u001b[38;5;66;03m# gray gridlines\u001b[39;00m\n\u001b[0;32m     10\u001b[0m         \u001b[38;5;124m\"\u001b[39m\u001b[38;5;124mgrid.linestyle\u001b[39m\u001b[38;5;124m\"\u001b[39m: \u001b[38;5;124m\"\u001b[39m\u001b[38;5;124m-\u001b[39m\u001b[38;5;124m\"\u001b[39m,  \u001b[38;5;66;03m# solid gridlines\u001b[39;00m\n\u001b[0;32m     11\u001b[0m         \u001b[38;5;124m\"\u001b[39m\u001b[38;5;124mgrid.linewidth\u001b[39m\u001b[38;5;124m\"\u001b[39m: \u001b[38;5;241m0.5\u001b[39m,  \u001b[38;5;66;03m# thin gridlines\u001b[39;00m\n\u001b[0;32m     12\u001b[0m         \u001b[38;5;124m\"\u001b[39m\u001b[38;5;124msavefig.dpi\u001b[39m\u001b[38;5;124m\"\u001b[39m: \u001b[38;5;241m300\u001b[39m,     \u001b[38;5;66;03m# higher resolution output.\u001b[39;00m\n\u001b[0;32m     13\u001b[0m     })\n\u001b[0;32m     15\u001b[0m plt\u001b[38;5;241m.\u001b[39mfigure(figsize\u001b[38;5;241m=\u001b[39m(\u001b[38;5;241m15\u001b[39m, \u001b[38;5;241m7\u001b[39m))  \u001b[38;5;66;03m# Adjust the size as needed\u001b[39;00m\n\u001b[0;32m     16\u001b[0m bars \u001b[38;5;241m=\u001b[39m plt\u001b[38;5;241m.\u001b[39mbar(filing_type_counts\u001b[38;5;241m.\u001b[39mindex, filing_type_counts\u001b[38;5;241m.\u001b[39mvalues)  \u001b[38;5;66;03m# You can choose a different color\u001b[39;00m\n",
      "\u001b[1;31mNameError\u001b[0m: name 'mpl' is not defined"
     ]
    }
   ],
   "source": [
    "filing_type_counts = df['filetype'].value_counts()\n",
    "\n",
    "\n",
    "mpl.rcParams.update({\n",
    "        \"font.size\":16,\n",
    "        \"font.weight\": \"normal\",  # bold fonts\n",
    "        \"lines.linewidth\": 2,   # thick lines\n",
    "        \"lines.color\": \"k\",     # black lines\n",
    "        \"grid.color\": \"0.5\",    # gray gridlines\n",
    "        \"grid.linestyle\": \"-\",  # solid gridlines\n",
    "        \"grid.linewidth\": 0.5,  # thin gridlines\n",
    "        \"savefig.dpi\": 300,     # higher resolution output.\n",
    "    })\n",
    "\n",
    "plt.figure(figsize=(15, 7))  # Adjust the size as needed\n",
    "bars = plt.bar(filing_type_counts.index, filing_type_counts.values)  # You can choose a different color\n",
    "\n",
    "# Calculate the total count for percentages\n",
    "total = sum(filing_type_counts.values)\n",
    "\n",
    "# Adding percentages on top of the bars\n",
    "for bar in bars:\n",
    "    yval = bar.get_height()\n",
    "    percentage = f'{100 * yval/total:.1f}%'  # Format the percentage\n",
    "    plt.text(bar.get_x() + bar.get_width()/2, yval, percentage, ha='center', va='bottom')\n",
    "\n",
    "plt.xlabel('Filing Type')\n",
    "plt.ylabel('Count')\n",
    "plt.title('Value Counts of Filing Types')\n",
    "plt.xticks(rotation=45)  # Rotate x-axis labels for better readability\n",
    "plt.tight_layout()  # Adjusts plot to ensure everything fits without overlapping\n",
    "plt.show()\n",
    "\"\"\"\n",
    "plt.figure(figsize=(15, 5))  # Adjust the size as needed\n",
    "plt.bar(filing_type_counts.index, filing_type_counts.values)  # You can choose a different color\n",
    "plt.xlabel('Filing Type')\n",
    "plt.ylabel('Count')\n",
    "plt.title('Value Counts of Filing Types')\n",
    "plt.xticks(rotation=45)  # Rotate x-axis labels for better readability\n",
    "plt.tight_layout()  # Adjusts plot to ensure everything fits without overlapping\n",
    "plt.show()\n",
    "\"\"\""
   ]
  },
  {
   "cell_type": "code",
   "execution_count": null,
   "id": "425e7fde",
   "metadata": {
    "scrolled": false
   },
   "outputs": [],
   "source": [
    "df.cik.value_counts()"
   ]
  },
  {
   "cell_type": "code",
   "execution_count": null,
   "id": "1c9ed442",
   "metadata": {},
   "outputs": [],
   "source": [
    "df.cusip.value_counts()"
   ]
  },
  {
   "cell_type": "code",
   "execution_count": null,
   "id": "e48b296a",
   "metadata": {
    "scrolled": false
   },
   "outputs": [],
   "source": [
    "df.describe()"
   ]
  },
  {
   "cell_type": "code",
   "execution_count": null,
   "id": "505198a9",
   "metadata": {},
   "outputs": [],
   "source": [
    "import pandas as pd\n",
    "import matplotlib.pyplot as plt\n",
    "\n",
    "\n",
    "rdate_counts = df['rdate'].value_counts()\n",
    "rdate_counts = rdate_counts.sort_index()\n",
    "\n"
   ]
  },
  {
   "cell_type": "code",
   "execution_count": null,
   "id": "3780edb9",
   "metadata": {},
   "outputs": [],
   "source": [
    "rdate_counts"
   ]
  },
  {
   "cell_type": "code",
   "execution_count": null,
   "id": "084d0971",
   "metadata": {
    "scrolled": false
   },
   "outputs": [],
   "source": [
    "print(rdate_counts)\n",
    "rdate_counts.shape"
   ]
  },
  {
   "cell_type": "code",
   "execution_count": null,
   "id": "84493d9d",
   "metadata": {},
   "outputs": [],
   "source": [
    "summary = pd.DataFrame({\n",
    "    'Column': ['cik', 'cusip', 'shares', 'rdate', 'fdate', 'filetype'],\n",
    "    'Example Data': [df[col].iloc[0] for col in ['cik', 'cusip', 'shares', 'rdate', 'fdate', 'filetype']],\n",
    "    'Unique Value Count': [df[col].nunique() for col in ['cik', 'cusip', 'shares', 'rdate', 'fdate', 'filetype']],\n",
    "    'Minimum': [df[col].min() for col in ['cik', 'cusip', 'shares', 'rdate', 'fdate', 'filetype']],\n",
    "    'Maximum': [df[col].max() for col in ['cik', 'cusip', 'shares', 'rdate', 'fdate', 'filetype']]\n",
    "})\n",
    "\n",
    "print(summary.to_latex(index=False))"
   ]
  },
  {
   "cell_type": "code",
   "execution_count": null,
   "id": "25f64877",
   "metadata": {},
   "outputs": [],
   "source": [
    "print(df.describe().to_latex(index=False))"
   ]
  },
  {
   "cell_type": "code",
   "execution_count": null,
   "id": "a3882753",
   "metadata": {},
   "outputs": [],
   "source": [
    "#  calculate differences each timestamp"
   ]
  },
  {
   "cell_type": "code",
   "execution_count": 6,
   "id": "224ef7f4",
   "metadata": {},
   "outputs": [
    {
     "name": "stdout",
     "output_type": "stream",
     "text": [
      "Elapsed time: 33.640674114227295\n"
     ]
    }
   ],
   "source": [
    "import time\n",
    "\n",
    "start = time.time()\n",
    "\n",
    "df.sort_values(['cik',\"cusip\", 'rdate'], inplace=True)\n",
    "df['diffs'] = df.groupby(['cik',\"cusip\"])['shares'].diff()\n",
    "\n",
    "end = time.time()\n",
    "print(\"Elapsed time: {}\".format(end - start))"
   ]
  },
  {
   "cell_type": "code",
   "execution_count": 7,
   "id": "20b83fa1",
   "metadata": {},
   "outputs": [
    {
     "name": "stderr",
     "output_type": "stream",
     "text": [
      "C:\\Users\\ersin\\AppData\\Local\\Temp\\ipykernel_29996\\3045144283.py:29: FutureWarning: Series.__getitem__ treating keys as positions is deprecated. In a future version, integer keys will always be treated as labels (consistent with DataFrame behavior). To access a value by position, use `ser.iloc[pos]`\n",
      "  plt.text(i, percentages[i] + 1, f\"{v} items\", ha='center', va='bottom', fontweight='bold')\n"
     ]
    },
    {
     "data": {
      "image/png": "[encoded data removed]",
      "text/plain": [
       "<Figure size 720x432 with 1 Axes>"
      ]
     },
     "metadata": {
      "needs_background": "light"
     },
     "output_type": "display_data"
    }
   ],
   "source": [
    "import matplotlib.pyplot as plt\n",
    "\n",
    "plt.figure(figsize=(10, 6))\n",
    "\n",
    "# Categorize the 'diffs' column\n",
    "def categorize(val):\n",
    "    if pd.isna(val):\n",
    "        return 'NaN'\n",
    "    elif val == 0:\n",
    "        return '0'\n",
    "    else:\n",
    "        return 'not 0'\n",
    "\n",
    "df['category'] = df['diffs'].apply(categorize)\n",
    "\n",
    "# Calculate the value counts and percentages\n",
    "value_counts = df['category'].value_counts()\n",
    "total = len(df['category'])\n",
    "percentages = (value_counts / total) * 100\n",
    "\n",
    "# Plotting the histogram with percentages\n",
    "percentages.plot(kind='bar')\n",
    "plt.title('Histogram of diffs values')\n",
    "plt.ylabel('Percentage (%)')\n",
    "plt.xlabel('Category')\n",
    "\n",
    "# Annotate the bars with the count of items in each category\n",
    "for i, v in enumerate(value_counts):\n",
    "    plt.text(i, percentages[i] + 1, f\"{v} items\", ha='center', va='bottom', fontweight='bold')\n",
    "\n",
    "plt.show()\n"
   ]
  },
  {
   "cell_type": "markdown",
   "id": "52a6c5de",
   "metadata": {},
   "source": [
    "More than 5m null values. This is because \"diffs\" column is created with rolling window aproach, and first appearance of a symbol is always NaN. Because there are no item to create a value for a difference yet. We can see percentage of NaN values in each quarter.\n",
    "\n",
    "We can drop records where difference equals 0. It may occur if issuers does not change amount of their holdings between quarters.\n"
   ]
  },
  {
   "cell_type": "code",
   "execution_count": 8,
   "id": "eb3fabec",
   "metadata": {},
   "outputs": [
    {
     "data": {
      "text/plain": [
       "rdate\n",
       "19990331    1.000000\n",
       "19990630    0.329424\n",
       "19991231    0.191454\n",
       "20000331    0.176775\n",
       "19990930    0.173817\n",
       "20000630    0.170027\n",
       "20001231    0.156257\n",
       "20010331    0.150297\n",
       "20000930    0.145340\n",
       "20061231    0.143283\n",
       "dtype: float64"
      ]
     },
     "execution_count": 8,
     "metadata": {},
     "output_type": "execute_result"
    }
   ],
   "source": [
    "series = df.groupby('rdate').apply(lambda x: x.diffs.isnull().sum()/len(x))\n",
    "\n",
    "# percentage of nan values in each quarter\n",
    "series.sort_values(ascending=False).head(10)"
   ]
  },
  {
   "cell_type": "markdown",
   "id": "1c448bdf",
   "metadata": {},
   "source": [
    "To minimize information risk:\n",
    "\n",
    "- drop all items where rdate 19990331 because there are 0 change in value in the first timeframe.\n",
    "- for remainin nan values, replace nan values with current number of shares\n",
    "- also drop rows with 0 diffs since it does not mean any interaction happened that timestamp."
   ]
  },
  {
   "cell_type": "code",
   "execution_count": 9,
   "id": "cb894b31",
   "metadata": {},
   "outputs": [
    {
     "data": {
      "text/html": [
       "<div>\n",
       "<style scoped>\n",
       "    .dataframe tbody tr th:only-of-type {\n",
       "        vertical-align: middle;\n",
       "    }\n",
       "\n",
       "    .dataframe tbody tr th {\n",
       "        vertical-align: top;\n",
       "    }\n",
       "\n",
       "    .dataframe thead th {\n",
       "        text-align: right;\n",
       "    }\n",
       "</style>\n",
       "<table border=\"1\" class=\"dataframe\">\n",
       "  <thead>\n",
       "    <tr style=\"text-align: right;\">\n",
       "      <th></th>\n",
       "      <th>cik</th>\n",
       "      <th>cusip</th>\n",
       "      <th>shares</th>\n",
       "      <th>rdate</th>\n",
       "      <th>fdate</th>\n",
       "      <th>filetype</th>\n",
       "      <th>diffs</th>\n",
       "      <th>category</th>\n",
       "    </tr>\n",
       "  </thead>\n",
       "  <tbody>\n",
       "    <tr>\n",
       "      <th>491956</th>\n",
       "      <td>2110</td>\n",
       "      <td>19990810</td>\n",
       "      <td>0.0</td>\n",
       "      <td>19990630</td>\n",
       "      <td>19990810</td>\n",
       "      <td>13F-NT</td>\n",
       "      <td>NaN</td>\n",
       "      <td>NaN</td>\n",
       "    </tr>\n",
       "    <tr>\n",
       "      <th>35055712</th>\n",
       "      <td>2230</td>\n",
       "      <td>00120410</td>\n",
       "      <td>145000.0</td>\n",
       "      <td>20131231</td>\n",
       "      <td>20140214</td>\n",
       "      <td>13F-HR</td>\n",
       "      <td>NaN</td>\n",
       "      <td>NaN</td>\n",
       "    </tr>\n",
       "    <tr>\n",
       "      <th>35832179</th>\n",
       "      <td>2230</td>\n",
       "      <td>00120410</td>\n",
       "      <td>145000.0</td>\n",
       "      <td>20140331</td>\n",
       "      <td>20140423</td>\n",
       "      <td>13F-HR</td>\n",
       "      <td>0.0</td>\n",
       "      <td>0</td>\n",
       "    </tr>\n",
       "  </tbody>\n",
       "</table>\n",
       "</div>"
      ],
      "text/plain": [
       "           cik     cusip    shares     rdate     fdate filetype  diffs  \\\n",
       "491956    2110  19990810       0.0  19990630  19990810   13F-NT    NaN   \n",
       "35055712  2230  00120410  145000.0  20131231  20140214   13F-HR    NaN   \n",
       "35832179  2230  00120410  145000.0  20140331  20140423   13F-HR    0.0   \n",
       "\n",
       "         category  \n",
       "491956        NaN  \n",
       "35055712      NaN  \n",
       "35832179        0  "
      ]
     },
     "execution_count": 9,
     "metadata": {},
     "output_type": "execute_result"
    }
   ],
   "source": [
    "df.head(3)"
   ]
  },
  {
   "cell_type": "markdown",
   "id": "82631cfc",
   "metadata": {},
   "source": [
    "# CALCULATE DELAY"
   ]
  },
  {
   "cell_type": "code",
   "execution_count": 10,
   "id": "c2fcc283",
   "metadata": {
    "scrolled": true
   },
   "outputs": [
    {
     "data": {
      "text/html": [
       "<div>\n",
       "<style scoped>\n",
       "    .dataframe tbody tr th:only-of-type {\n",
       "        vertical-align: middle;\n",
       "    }\n",
       "\n",
       "    .dataframe tbody tr th {\n",
       "        vertical-align: top;\n",
       "    }\n",
       "\n",
       "    .dataframe thead th {\n",
       "        text-align: right;\n",
       "    }\n",
       "</style>\n",
       "<table border=\"1\" class=\"dataframe\">\n",
       "  <thead>\n",
       "    <tr style=\"text-align: right;\">\n",
       "      <th></th>\n",
       "      <th>cik</th>\n",
       "      <th>cusip</th>\n",
       "      <th>shares</th>\n",
       "      <th>rdate</th>\n",
       "      <th>fdate</th>\n",
       "      <th>filetype</th>\n",
       "      <th>diffs</th>\n",
       "      <th>category</th>\n",
       "    </tr>\n",
       "  </thead>\n",
       "  <tbody>\n",
       "    <tr>\n",
       "      <th>491956</th>\n",
       "      <td>2110</td>\n",
       "      <td>19990810</td>\n",
       "      <td>0.0</td>\n",
       "      <td>19990630</td>\n",
       "      <td>19990810</td>\n",
       "      <td>13F-NT</td>\n",
       "      <td>NaN</td>\n",
       "      <td>NaN</td>\n",
       "    </tr>\n",
       "    <tr>\n",
       "      <th>35055712</th>\n",
       "      <td>2230</td>\n",
       "      <td>00120410</td>\n",
       "      <td>145000.0</td>\n",
       "      <td>20131231</td>\n",
       "      <td>20140214</td>\n",
       "      <td>13F-HR</td>\n",
       "      <td>NaN</td>\n",
       "      <td>NaN</td>\n",
       "    </tr>\n",
       "    <tr>\n",
       "      <th>35832179</th>\n",
       "      <td>2230</td>\n",
       "      <td>00120410</td>\n",
       "      <td>145000.0</td>\n",
       "      <td>20140331</td>\n",
       "      <td>20140423</td>\n",
       "      <td>13F-HR</td>\n",
       "      <td>0.0</td>\n",
       "      <td>0</td>\n",
       "    </tr>\n",
       "    <tr>\n",
       "      <th>36625994</th>\n",
       "      <td>2230</td>\n",
       "      <td>00120410</td>\n",
       "      <td>145000.0</td>\n",
       "      <td>20140630</td>\n",
       "      <td>20140731</td>\n",
       "      <td>13F-HR</td>\n",
       "      <td>0.0</td>\n",
       "      <td>0</td>\n",
       "    </tr>\n",
       "    <tr>\n",
       "      <th>37441087</th>\n",
       "      <td>2230</td>\n",
       "      <td>00120410</td>\n",
       "      <td>145000.0</td>\n",
       "      <td>20140930</td>\n",
       "      <td>20141021</td>\n",
       "      <td>13F-HR</td>\n",
       "      <td>0.0</td>\n",
       "      <td>0</td>\n",
       "    </tr>\n",
       "    <tr>\n",
       "      <th>...</th>\n",
       "      <td>...</td>\n",
       "      <td>...</td>\n",
       "      <td>...</td>\n",
       "      <td>...</td>\n",
       "      <td>...</td>\n",
       "      <td>...</td>\n",
       "      <td>...</td>\n",
       "      <td>...</td>\n",
       "    </tr>\n",
       "    <tr>\n",
       "      <th>48597748</th>\n",
       "      <td>1723681</td>\n",
       "      <td>90781810</td>\n",
       "      <td>1747.0</td>\n",
       "      <td>20170930</td>\n",
       "      <td>20171208</td>\n",
       "      <td>13F-HR</td>\n",
       "      <td>NaN</td>\n",
       "      <td>NaN</td>\n",
       "    </tr>\n",
       "    <tr>\n",
       "      <th>48606189</th>\n",
       "      <td>1723681</td>\n",
       "      <td>91324P10</td>\n",
       "      <td>2916.0</td>\n",
       "      <td>20170930</td>\n",
       "      <td>20171208</td>\n",
       "      <td>13F-HR</td>\n",
       "      <td>NaN</td>\n",
       "      <td>NaN</td>\n",
       "    </tr>\n",
       "    <tr>\n",
       "      <th>48636846</th>\n",
       "      <td>1723681</td>\n",
       "      <td>93114210</td>\n",
       "      <td>3608.0</td>\n",
       "      <td>20170930</td>\n",
       "      <td>20171208</td>\n",
       "      <td>13F-HR</td>\n",
       "      <td>NaN</td>\n",
       "      <td>NaN</td>\n",
       "    </tr>\n",
       "    <tr>\n",
       "      <th>48645390</th>\n",
       "      <td>1723681</td>\n",
       "      <td>94974610</td>\n",
       "      <td>7530.0</td>\n",
       "      <td>20170930</td>\n",
       "      <td>20171208</td>\n",
       "      <td>13F-HR</td>\n",
       "      <td>NaN</td>\n",
       "      <td>NaN</td>\n",
       "    </tr>\n",
       "    <tr>\n",
       "      <th>48692778</th>\n",
       "      <td>1723681</td>\n",
       "      <td>G5960L10</td>\n",
       "      <td>8217.0</td>\n",
       "      <td>20170930</td>\n",
       "      <td>20171208</td>\n",
       "      <td>13F-HR</td>\n",
       "      <td>NaN</td>\n",
       "      <td>NaN</td>\n",
       "    </tr>\n",
       "  </tbody>\n",
       "</table>\n",
       "<p>48719087 rows × 8 columns</p>\n",
       "</div>"
      ],
      "text/plain": [
       "              cik     cusip    shares     rdate     fdate filetype  diffs  \\\n",
       "491956       2110  19990810       0.0  19990630  19990810   13F-NT    NaN   \n",
       "35055712     2230  00120410  145000.0  20131231  20140214   13F-HR    NaN   \n",
       "35832179     2230  00120410  145000.0  20140331  20140423   13F-HR    0.0   \n",
       "36625994     2230  00120410  145000.0  20140630  20140731   13F-HR    0.0   \n",
       "37441087     2230  00120410  145000.0  20140930  20141021   13F-HR    0.0   \n",
       "...           ...       ...       ...       ...       ...      ...    ...   \n",
       "48597748  1723681  90781810    1747.0  20170930  20171208   13F-HR    NaN   \n",
       "48606189  1723681  91324P10    2916.0  20170930  20171208   13F-HR    NaN   \n",
       "48636846  1723681  93114210    3608.0  20170930  20171208   13F-HR    NaN   \n",
       "48645390  1723681  94974610    7530.0  20170930  20171208   13F-HR    NaN   \n",
       "48692778  1723681  G5960L10    8217.0  20170930  20171208   13F-HR    NaN   \n",
       "\n",
       "         category  \n",
       "491956        NaN  \n",
       "35055712      NaN  \n",
       "35832179        0  \n",
       "36625994        0  \n",
       "37441087        0  \n",
       "...           ...  \n",
       "48597748      NaN  \n",
       "48606189      NaN  \n",
       "48636846      NaN  \n",
       "48645390      NaN  \n",
       "48692778      NaN  \n",
       "\n",
       "[48719087 rows x 8 columns]"
      ]
     },
     "execution_count": 10,
     "metadata": {},
     "output_type": "execute_result"
    }
   ],
   "source": [
    "df"
   ]
  },
  {
   "cell_type": "code",
   "execution_count": 11,
   "id": "a156c7cc",
   "metadata": {},
   "outputs": [],
   "source": [
    "# Ensure that 'rdate' and 'fdate' are in datetime format\n",
    "df['rdate'] = pd.to_datetime(df['rdate'], format='%Y%m%d')\n",
    "df['fdate'] = pd.to_datetime(df['fdate'], format='%Y%m%d')\n",
    "\n",
    "# Calculate the delay\n",
    "df['delay'] = (df['fdate'] - df['rdate']).dt.days"
   ]
  },
  {
   "cell_type": "code",
   "execution_count": 12,
   "id": "b6ca98e8",
   "metadata": {
    "scrolled": true
   },
   "outputs": [
    {
     "data": {
      "text/html": [
       "<div>\n",
       "<style scoped>\n",
       "    .dataframe tbody tr th:only-of-type {\n",
       "        vertical-align: middle;\n",
       "    }\n",
       "\n",
       "    .dataframe tbody tr th {\n",
       "        vertical-align: top;\n",
       "    }\n",
       "\n",
       "    .dataframe thead th {\n",
       "        text-align: right;\n",
       "    }\n",
       "</style>\n",
       "<table border=\"1\" class=\"dataframe\">\n",
       "  <thead>\n",
       "    <tr style=\"text-align: right;\">\n",
       "      <th></th>\n",
       "      <th>cik</th>\n",
       "      <th>cusip</th>\n",
       "      <th>shares</th>\n",
       "      <th>rdate</th>\n",
       "      <th>fdate</th>\n",
       "      <th>filetype</th>\n",
       "      <th>diffs</th>\n",
       "      <th>category</th>\n",
       "      <th>delay</th>\n",
       "    </tr>\n",
       "  </thead>\n",
       "  <tbody>\n",
       "    <tr>\n",
       "      <th>491956</th>\n",
       "      <td>2110</td>\n",
       "      <td>19990810</td>\n",
       "      <td>0.0</td>\n",
       "      <td>1999-06-30</td>\n",
       "      <td>1999-08-10</td>\n",
       "      <td>13F-NT</td>\n",
       "      <td>NaN</td>\n",
       "      <td>NaN</td>\n",
       "      <td>41</td>\n",
       "    </tr>\n",
       "    <tr>\n",
       "      <th>35055712</th>\n",
       "      <td>2230</td>\n",
       "      <td>00120410</td>\n",
       "      <td>145000.0</td>\n",
       "      <td>2013-12-31</td>\n",
       "      <td>2014-02-14</td>\n",
       "      <td>13F-HR</td>\n",
       "      <td>NaN</td>\n",
       "      <td>NaN</td>\n",
       "      <td>45</td>\n",
       "    </tr>\n",
       "    <tr>\n",
       "      <th>35832179</th>\n",
       "      <td>2230</td>\n",
       "      <td>00120410</td>\n",
       "      <td>145000.0</td>\n",
       "      <td>2014-03-31</td>\n",
       "      <td>2014-04-23</td>\n",
       "      <td>13F-HR</td>\n",
       "      <td>0.0</td>\n",
       "      <td>0</td>\n",
       "      <td>23</td>\n",
       "    </tr>\n",
       "    <tr>\n",
       "      <th>36625994</th>\n",
       "      <td>2230</td>\n",
       "      <td>00120410</td>\n",
       "      <td>145000.0</td>\n",
       "      <td>2014-06-30</td>\n",
       "      <td>2014-07-31</td>\n",
       "      <td>13F-HR</td>\n",
       "      <td>0.0</td>\n",
       "      <td>0</td>\n",
       "      <td>31</td>\n",
       "    </tr>\n",
       "    <tr>\n",
       "      <th>37441087</th>\n",
       "      <td>2230</td>\n",
       "      <td>00120410</td>\n",
       "      <td>145000.0</td>\n",
       "      <td>2014-09-30</td>\n",
       "      <td>2014-10-21</td>\n",
       "      <td>13F-HR</td>\n",
       "      <td>0.0</td>\n",
       "      <td>0</td>\n",
       "      <td>21</td>\n",
       "    </tr>\n",
       "  </tbody>\n",
       "</table>\n",
       "</div>"
      ],
      "text/plain": [
       "           cik     cusip    shares      rdate      fdate filetype  diffs  \\\n",
       "491956    2110  19990810       0.0 1999-06-30 1999-08-10   13F-NT    NaN   \n",
       "35055712  2230  00120410  145000.0 2013-12-31 2014-02-14   13F-HR    NaN   \n",
       "35832179  2230  00120410  145000.0 2014-03-31 2014-04-23   13F-HR    0.0   \n",
       "36625994  2230  00120410  145000.0 2014-06-30 2014-07-31   13F-HR    0.0   \n",
       "37441087  2230  00120410  145000.0 2014-09-30 2014-10-21   13F-HR    0.0   \n",
       "\n",
       "         category  delay  \n",
       "491956        NaN     41  \n",
       "35055712      NaN     45  \n",
       "35832179        0     23  \n",
       "36625994        0     31  \n",
       "37441087        0     21  "
      ]
     },
     "execution_count": 12,
     "metadata": {},
     "output_type": "execute_result"
    }
   ],
   "source": [
    "df.head()"
   ]
  },
  {
   "cell_type": "code",
   "execution_count": 13,
   "id": "6433cd5a",
   "metadata": {},
   "outputs": [
    {
     "data": {
      "image/png": "[encoded data removed]",
      "text/plain": [
       "<Figure size 1080x360 with 1 Axes>"
      ]
     },
     "metadata": {
      "needs_background": "light"
     },
     "output_type": "display_data"
    }
   ],
   "source": [
    "import matplotlib.pyplot as plt\n",
    "import matplotlib as mpl\n",
    "\n",
    "mpl.rcParams.update({\n",
    "        \"font.size\":16,\n",
    "        \"font.weight\": \"normal\",  # bold fonts\n",
    "        \"lines.linewidth\": 2,   # thick lines\n",
    "        \"lines.color\": \"k\",     # black lines\n",
    "        \"grid.color\": \"0.5\",    # gray gridlines\n",
    "        \"grid.linestyle\": \"-\",  # solid gridlines\n",
    "        \"grid.linewidth\": 0.5,  # thin gridlines\n",
    "        \"savefig.dpi\": 300,     # higher resolution output.\n",
    "    })\n",
    "\n",
    "# Get the counts of each unique delay value\n",
    "delay_counts = df['delay'].value_counts().sort_index()\n",
    "# Set the figure size to make the plot wider\n",
    "plt.figure(figsize=(15, 5))  # Width, Height in inches\n",
    "\n",
    "# Plot the histogram\n",
    "plt.bar(delay_counts.index, delay_counts.values, width=1.0, edgecolor='black')\n",
    "\n",
    "# Set the x-axis labels with a step of 5\n",
    "plt.xticks(range(min(delay_counts.index), max(delay_counts.index) + 1, 5), rotation=90)\n",
    "\n",
    "# Set the labels and title\n",
    "plt.xlabel('Delay (days)')\n",
    "plt.ylabel('Frequency')\n",
    "plt.title('Histogram of Filing Delays')\n",
    "\n",
    "# Show the plot\n",
    "plt.tight_layout()  # Adjust the padding between and around subplots.\n",
    "\n",
    "plt.show()\n",
    "\n",
    "\n"
   ]
  },
  {
   "cell_type": "code",
   "execution_count": 14,
   "id": "474f5d44",
   "metadata": {},
   "outputs": [
    {
     "data": {
      "image/png": "[encoded data removed]",
      "text/plain": [
       "<Figure size 432x288 with 1 Axes>"
      ]
     },
     "metadata": {
      "needs_background": "light"
     },
     "output_type": "display_data"
    }
   ],
   "source": [
    "\n",
    "# Filter the DataFrame for delays greater than 45 days\n",
    "df_delayed = df[df['delay'] > 45]\n",
    "\n",
    "# Get the counts of each unique category value for the filtered DataFrame\n",
    "category_counts = df_delayed['category'].value_counts()\n",
    "\n",
    "# Plot the histogram\n",
    "category_counts.plot(kind='bar')\n",
    "plt.xlabel('Category')\n",
    "plt.ylabel('Count')\n",
    "plt.title('Histogram of Category Counts for Delays > 45 Days')\n",
    "plt.xticks(rotation=90)  # Rotate x-axis labels if needed\n",
    "plt.show()"
   ]
  },
  {
   "cell_type": "code",
   "execution_count": 15,
   "id": "248647ea",
   "metadata": {},
   "outputs": [
    {
     "data": {
      "image/png": "[encoded data removed]",
      "text/plain": [
       "<Figure size 432x288 with 1 Axes>"
      ]
     },
     "metadata": {
      "needs_background": "light"
     },
     "output_type": "display_data"
    }
   ],
   "source": [
    "category_counts = df_delayed['filetype'].value_counts()\n",
    "\n",
    "# Plot the histogram\n",
    "category_counts.plot(kind='bar')\n",
    "plt.xlabel('Category')\n",
    "plt.ylabel('Count')\n",
    "plt.title('Histogram of Category Counts for Delays > 45 Days')\n",
    "plt.xticks(rotation=90)  # Rotate x-axis labels if needed\n",
    "plt.show()"
   ]
  },
  {
   "cell_type": "markdown",
   "id": "0254cb18",
   "metadata": {},
   "source": [
    "# CLEAN DATA, AND BUCKET DIFFERENCES"
   ]
  },
  {
   "cell_type": "code",
   "execution_count": 16,
   "id": "fa6c1199",
   "metadata": {},
   "outputs": [],
   "source": [
    "# We make sure filetype and missing data has a systematic error.\n",
    "\n",
    "# Thus we continue to process them by doing following things:"
   ]
  },
  {
   "cell_type": "markdown",
   "id": "e68e8f15",
   "metadata": {},
   "source": [
    "To minimize information risk:\n",
    "\n",
    "- drop all items where rdate 19990331 because there are 0 change in value in the first timeframe. (we calc it before)\n",
    "- for remainin nan values, replace nan values with current number of shares\n",
    "- also drop rows with 0 diffs since it does not mean any interaction happened that timestamp."
   ]
  },
  {
   "cell_type": "code",
   "execution_count": 17,
   "id": "549bbe44",
   "metadata": {
    "scrolled": true
   },
   "outputs": [
    {
     "name": "stdout",
     "output_type": "stream",
     "text": [
      "cik         0\n",
      "cusip       0\n",
      "shares      0\n",
      "rdate       0\n",
      "fdate       0\n",
      "filetype    0\n",
      "diffs       0\n",
      "category    0\n",
      "delay       0\n",
      "dtype: int64\n"
     ]
    }
   ],
   "source": [
    "# Convert the integer to a datetime for comparison\n",
    "cutoff_date = pd.to_datetime('19990331', format='%Y%m%d')\n",
    "\n",
    "# Drop rows where 'rdate' is less than or equal to the cutoff date\n",
    "df = df.drop(df[df.rdate <= cutoff_date].index)\n",
    "\n",
    "# Fill in missing 'diffs' values with 'shares' values\n",
    "df['diffs'] = df['diffs'].fillna(df['shares'])\n",
    "\n",
    "# Drop rows where 'diffs' is equal to 0\n",
    "df = df.drop(df[df['diffs'] == 0].index)\n",
    "\n",
    "# Check for NaN values\n",
    "nan_counts = df.isna().sum()\n",
    "print(nan_counts)\n",
    "\n"
   ]
  },
  {
   "cell_type": "code",
   "execution_count": 18,
   "id": "67323069",
   "metadata": {},
   "outputs": [
    {
     "name": "stdout",
     "output_type": "stream",
     "text": [
      "cik         0\n",
      "cusip       0\n",
      "shares      0\n",
      "rdate       0\n",
      "fdate       0\n",
      "filetype    0\n",
      "diffs       0\n",
      "category    0\n",
      "delay       0\n",
      "dtype: int64\n"
     ]
    }
   ],
   "source": [
    "nan_counts = df.isna().sum()\n",
    "print(nan_counts)"
   ]
  },
  {
   "cell_type": "markdown",
   "id": "9022975a",
   "metadata": {},
   "source": [
    "# NORMALIZE CHANGE VALUES INTO CATEGORICAL BUCKETS"
   ]
  },
  {
   "cell_type": "markdown",
   "id": "03361174",
   "metadata": {},
   "source": [
    "In order to make data more interpretable, we need to convert diff values (which are change in number of stocks for each investor in that quarter) into categorical values.\n",
    "\n",
    "Main issue here is each number of stocks represent different values, since each stock has different value.\n",
    "\n",
    "Therefore, we need to group stocks, infer their distribution, and bucket values accordingly.\n"
   ]
  },
  {
   "cell_type": "markdown",
   "id": "3f8d8ce1",
   "metadata": {},
   "source": [
    "It is kinda complex, i tried a few stuff but this approach give best:\n",
    "    \n",
    "    -  for each group of cusips, split positive and negative\n",
    "    -  within each group, identify significant buy and sales by %5 and %95th values\n",
    "    - and splitted by neutral, buy, large buy by sorted"
   ]
  },
  {
   "cell_type": "code",
   "execution_count": 19,
   "id": "59251187",
   "metadata": {
    "scrolled": true
   },
   "outputs": [],
   "source": [
    "import pandas as pd\n",
    "import numpy as np\n",
    "\n",
    "def categorize_diffs(group):\n",
    "    # Initialize the category column\n",
    "    group['category'] = 'Neutral'  # Default category\n",
    "    \n",
    "    # Separate the group into negative and positive diffs\n",
    "    negative_diffs = group[group['diffs'] < 0]['diffs']\n",
    "    positive_diffs = group[group['diffs'] > 0]['diffs']\n",
    "    \n",
    "    # Check if there are enough negative diffs to calculate quantiles\n",
    "    if len(negative_diffs.dropna()) > 1:\n",
    "        significant_sale_threshold = negative_diffs.quantile(0.05)\n",
    "        negative_quantiles = negative_diffs.quantile([0.05, 1/3, 2/3]).tolist()\n",
    "        negative_bins = sorted(set([-np.inf] + negative_quantiles + [0]))\n",
    "        negative_labels = ['Significant Sale', 'Large Sale', 'Sale', 'Neutral'][:len(negative_bins)-1]\n",
    "        group.loc[negative_diffs.index, 'category'] = pd.cut(negative_diffs, bins=negative_bins, labels=negative_labels, include_lowest=True)\n",
    "    \n",
    "    # Check if there are enough positive diffs to calculate quantiles\n",
    "    if len(positive_diffs.dropna()) > 1:\n",
    "        significant_buy_threshold = positive_diffs.quantile(0.95)\n",
    "        positive_quantiles = positive_diffs.quantile([1/3, 2/3, 0.95]).tolist()\n",
    "        positive_bins = sorted(set([0] + positive_quantiles + [np.inf]))\n",
    "        positive_labels = ['Neutral', 'Buy', 'Large Buy', 'Significant Buy'][:len(positive_bins)-1]\n",
    "        group.loc[positive_diffs.index, 'category'] = pd.cut(positive_diffs, bins=positive_bins, labels=positive_labels, include_lowest=True)\n",
    "    \n",
    "    return group\n",
    "\n",
    "# Apply the function to each group\n",
    "df_categorized = df.groupby('cusip').apply(categorize_diffs)\n",
    "\n",
    "# Reset index if necessary\n",
    "df_categorized.reset_index(drop=True, inplace=True)\n",
    "\n",
    "\n"
   ]
  },
  {
   "cell_type": "code",
   "execution_count": 20,
   "id": "7351ef9c",
   "metadata": {},
   "outputs": [
    {
     "data": {
      "text/html": [
       "<div>\n",
       "<style scoped>\n",
       "    .dataframe tbody tr th:only-of-type {\n",
       "        vertical-align: middle;\n",
       "    }\n",
       "\n",
       "    .dataframe tbody tr th {\n",
       "        vertical-align: top;\n",
       "    }\n",
       "\n",
       "    .dataframe thead th {\n",
       "        text-align: right;\n",
       "    }\n",
       "</style>\n",
       "<table border=\"1\" class=\"dataframe\">\n",
       "  <thead>\n",
       "    <tr style=\"text-align: right;\">\n",
       "      <th></th>\n",
       "      <th>cik</th>\n",
       "      <th>cusip</th>\n",
       "      <th>shares</th>\n",
       "      <th>rdate</th>\n",
       "      <th>fdate</th>\n",
       "      <th>filetype</th>\n",
       "      <th>diffs</th>\n",
       "      <th>category</th>\n",
       "      <th>delay</th>\n",
       "    </tr>\n",
       "  </thead>\n",
       "  <tbody>\n",
       "    <tr>\n",
       "      <th>0</th>\n",
       "      <td>3520</td>\n",
       "      <td>00030710</td>\n",
       "      <td>15100.0</td>\n",
       "      <td>2015-06-30</td>\n",
       "      <td>2015-08-14</td>\n",
       "      <td>13F-HR</td>\n",
       "      <td>15100.0</td>\n",
       "      <td>Buy</td>\n",
       "      <td>45</td>\n",
       "    </tr>\n",
       "    <tr>\n",
       "      <th>1</th>\n",
       "      <td>5272</td>\n",
       "      <td>00030710</td>\n",
       "      <td>3615.0</td>\n",
       "      <td>2014-12-31</td>\n",
       "      <td>2015-02-13</td>\n",
       "      <td>13F-HR</td>\n",
       "      <td>3615.0</td>\n",
       "      <td>Neutral</td>\n",
       "      <td>44</td>\n",
       "    </tr>\n",
       "    <tr>\n",
       "      <th>2</th>\n",
       "      <td>5272</td>\n",
       "      <td>00030710</td>\n",
       "      <td>4665.0</td>\n",
       "      <td>2015-06-30</td>\n",
       "      <td>2015-08-12</td>\n",
       "      <td>13F-HR</td>\n",
       "      <td>1050.0</td>\n",
       "      <td>Neutral</td>\n",
       "      <td>43</td>\n",
       "    </tr>\n",
       "    <tr>\n",
       "      <th>3</th>\n",
       "      <td>5272</td>\n",
       "      <td>00030710</td>\n",
       "      <td>5170.0</td>\n",
       "      <td>2015-09-30</td>\n",
       "      <td>2015-11-12</td>\n",
       "      <td>13F-HR</td>\n",
       "      <td>505.0</td>\n",
       "      <td>Neutral</td>\n",
       "      <td>43</td>\n",
       "    </tr>\n",
       "    <tr>\n",
       "      <th>4</th>\n",
       "      <td>5272</td>\n",
       "      <td>00030710</td>\n",
       "      <td>5162.0</td>\n",
       "      <td>2015-12-31</td>\n",
       "      <td>2016-02-11</td>\n",
       "      <td>13F-HR</td>\n",
       "      <td>-8.0</td>\n",
       "      <td>Neutral</td>\n",
       "      <td>42</td>\n",
       "    </tr>\n",
       "  </tbody>\n",
       "</table>\n",
       "</div>"
      ],
      "text/plain": [
       "    cik     cusip   shares      rdate      fdate filetype    diffs category  \\\n",
       "0  3520  00030710  15100.0 2015-06-30 2015-08-14   13F-HR  15100.0      Buy   \n",
       "1  5272  00030710   3615.0 2014-12-31 2015-02-13   13F-HR   3615.0  Neutral   \n",
       "2  5272  00030710   4665.0 2015-06-30 2015-08-12   13F-HR   1050.0  Neutral   \n",
       "3  5272  00030710   5170.0 2015-09-30 2015-11-12   13F-HR    505.0  Neutral   \n",
       "4  5272  00030710   5162.0 2015-12-31 2016-02-11   13F-HR     -8.0  Neutral   \n",
       "\n",
       "   delay  \n",
       "0     45  \n",
       "1     44  \n",
       "2     43  \n",
       "3     43  \n",
       "4     42  "
      ]
     },
     "execution_count": 20,
     "metadata": {},
     "output_type": "execute_result"
    }
   ],
   "source": [
    "df_categorized.head()"
   ]
  },
  {
   "cell_type": "code",
   "execution_count": 21,
   "id": "b8683ac1",
   "metadata": {},
   "outputs": [
    {
     "name": "stdout",
     "output_type": "stream",
     "text": [
      "category\n",
      "Neutral             95\n",
      "Buy                 71\n",
      "Large Buy           60\n",
      "Sale                23\n",
      "Large Sale          20\n",
      "Significant Buy     11\n",
      "Significant Sale     4\n",
      "Name: count, dtype: int64\n"
     ]
    }
   ],
   "source": [
    "# Replace 'selected_cusip' with the actual cusip value you want to filter by\n",
    "selected_cusip = 'Y9530810'  # Example cusip\n",
    "\n",
    "# Filter the dataframe for the selected cusip\n",
    "selected_df = df_categorized[df_categorized['cusip'] == selected_cusip]\n",
    "\n",
    "# Count the occurrences of each category within the selected cusip\n",
    "category_counts = selected_df['category'].value_counts()\n",
    "\n",
    "print(category_counts)\n"
   ]
  },
  {
   "cell_type": "markdown",
   "id": "1bdd7e10",
   "metadata": {},
   "source": [
    "# JOIN CIK KEY"
   ]
  },
  {
   "cell_type": "code",
   "execution_count": 22,
   "id": "597cf075",
   "metadata": {},
   "outputs": [
    {
     "data": {
      "text/html": [
       "<div>\n",
       "<style scoped>\n",
       "    .dataframe tbody tr th:only-of-type {\n",
       "        vertical-align: middle;\n",
       "    }\n",
       "\n",
       "    .dataframe tbody tr th {\n",
       "        vertical-align: top;\n",
       "    }\n",
       "\n",
       "    .dataframe thead th {\n",
       "        text-align: right;\n",
       "    }\n",
       "</style>\n",
       "<table border=\"1\" class=\"dataframe\">\n",
       "  <thead>\n",
       "    <tr style=\"text-align: right;\">\n",
       "      <th></th>\n",
       "      <th>cik</th>\n",
       "      <th>rdate</th>\n",
       "      <th>cikname</th>\n",
       "    </tr>\n",
       "  </thead>\n",
       "  <tbody>\n",
       "    <tr>\n",
       "      <th>0</th>\n",
       "      <td>1000097</td>\n",
       "      <td>1999-03-31</td>\n",
       "      <td>KINGDON CAPITAL MANAGEMENT LLC</td>\n",
       "    </tr>\n",
       "    <tr>\n",
       "      <th>1</th>\n",
       "      <td>1000097</td>\n",
       "      <td>1999-06-30</td>\n",
       "      <td>KINGDON CAPITAL MANAGEMENT LLC</td>\n",
       "    </tr>\n",
       "    <tr>\n",
       "      <th>2</th>\n",
       "      <td>1000097</td>\n",
       "      <td>1999-09-30</td>\n",
       "      <td>KINGDON CAPITAL MANAGEMENT LLC</td>\n",
       "    </tr>\n",
       "  </tbody>\n",
       "</table>\n",
       "</div>"
      ],
      "text/plain": [
       "       cik      rdate                         cikname\n",
       "0  1000097 1999-03-31  KINGDON CAPITAL MANAGEMENT LLC\n",
       "1  1000097 1999-06-30  KINGDON CAPITAL MANAGEMENT LLC\n",
       "2  1000097 1999-09-30  KINGDON CAPITAL MANAGEMENT LLC"
      ]
     },
     "execution_count": 22,
     "metadata": {},
     "output_type": "execute_result"
    }
   ],
   "source": [
    "cikmap = pd.read_csv(\"cikmap.csv\") # cik mapping from same paper\n",
    "cikmap['rdate'] = pd.to_datetime(cikmap['rdate'], format='%Y%m%d')\n",
    "\n",
    "cikmap.head(3)"
   ]
  },
  {
   "cell_type": "code",
   "execution_count": 23,
   "id": "846fc1d0",
   "metadata": {},
   "outputs": [],
   "source": [
    "# Perform a left join on 'cik' and 'rdate' with datetime equality\n",
    "merged_df = pd.merge(df_categorized, cikmap, on=['cik', 'rdate'], how='left')\n",
    "\n",
    "# Fill in the missing 'cikname' for a specific 'cik'\n",
    "merged_df.loc[(merged_df['cikname'].isnull()) & (merged_df['cik'] == 1000097), 'cikname'] = \"KINGDON CAPITAL MANAGEMENT, L.L.C.\"\n"
   ]
  },
  {
   "cell_type": "code",
   "execution_count": 35,
   "id": "a304cc56",
   "metadata": {},
   "outputs": [
    {
     "data": {
      "text/plain": [
       "cik         0\n",
       "cusip       0\n",
       "shares      0\n",
       "rdate       0\n",
       "fdate       0\n",
       "filetype    0\n",
       "diffs       0\n",
       "category    0\n",
       "delay       0\n",
       "cikname     0\n",
       "dtype: int64"
      ]
     },
     "execution_count": 35,
     "metadata": {},
     "output_type": "execute_result"
    }
   ],
   "source": [
    "merged_df.isnull().sum()"
   ]
  },
  {
   "cell_type": "code",
   "execution_count": 24,
   "id": "48cf5f84",
   "metadata": {
    "scrolled": true
   },
   "outputs": [
    {
     "data": {
      "text/html": [
       "<div>\n",
       "<style scoped>\n",
       "    .dataframe tbody tr th:only-of-type {\n",
       "        vertical-align: middle;\n",
       "    }\n",
       "\n",
       "    .dataframe tbody tr th {\n",
       "        vertical-align: top;\n",
       "    }\n",
       "\n",
       "    .dataframe thead th {\n",
       "        text-align: right;\n",
       "    }\n",
       "</style>\n",
       "<table border=\"1\" class=\"dataframe\">\n",
       "  <thead>\n",
       "    <tr style=\"text-align: right;\">\n",
       "      <th></th>\n",
       "      <th>cik</th>\n",
       "      <th>cusip</th>\n",
       "      <th>shares</th>\n",
       "      <th>rdate</th>\n",
       "      <th>fdate</th>\n",
       "      <th>filetype</th>\n",
       "      <th>diffs</th>\n",
       "      <th>category</th>\n",
       "      <th>delay</th>\n",
       "      <th>cikname</th>\n",
       "    </tr>\n",
       "  </thead>\n",
       "  <tbody>\n",
       "    <tr>\n",
       "      <th>0</th>\n",
       "      <td>3520</td>\n",
       "      <td>00030710</td>\n",
       "      <td>15100.0</td>\n",
       "      <td>2015-06-30</td>\n",
       "      <td>2015-08-14</td>\n",
       "      <td>13F-HR</td>\n",
       "      <td>15100.0</td>\n",
       "      <td>Buy</td>\n",
       "      <td>45</td>\n",
       "      <td>FRED ALGER MANAGEMENT INC</td>\n",
       "    </tr>\n",
       "    <tr>\n",
       "      <th>1</th>\n",
       "      <td>5272</td>\n",
       "      <td>00030710</td>\n",
       "      <td>3615.0</td>\n",
       "      <td>2014-12-31</td>\n",
       "      <td>2015-02-13</td>\n",
       "      <td>13F-HR</td>\n",
       "      <td>3615.0</td>\n",
       "      <td>Neutral</td>\n",
       "      <td>44</td>\n",
       "      <td>AMERICAN INTERNATIONAL GROUP INC</td>\n",
       "    </tr>\n",
       "    <tr>\n",
       "      <th>2</th>\n",
       "      <td>5272</td>\n",
       "      <td>00030710</td>\n",
       "      <td>4665.0</td>\n",
       "      <td>2015-06-30</td>\n",
       "      <td>2015-08-12</td>\n",
       "      <td>13F-HR</td>\n",
       "      <td>1050.0</td>\n",
       "      <td>Neutral</td>\n",
       "      <td>43</td>\n",
       "      <td>AMERICAN INTERNATIONAL GROUP INC</td>\n",
       "    </tr>\n",
       "    <tr>\n",
       "      <th>3</th>\n",
       "      <td>5272</td>\n",
       "      <td>00030710</td>\n",
       "      <td>5170.0</td>\n",
       "      <td>2015-09-30</td>\n",
       "      <td>2015-11-12</td>\n",
       "      <td>13F-HR</td>\n",
       "      <td>505.0</td>\n",
       "      <td>Neutral</td>\n",
       "      <td>43</td>\n",
       "      <td>AMERICAN INTERNATIONAL GROUP INC</td>\n",
       "    </tr>\n",
       "    <tr>\n",
       "      <th>4</th>\n",
       "      <td>5272</td>\n",
       "      <td>00030710</td>\n",
       "      <td>5162.0</td>\n",
       "      <td>2015-12-31</td>\n",
       "      <td>2016-02-11</td>\n",
       "      <td>13F-HR</td>\n",
       "      <td>-8.0</td>\n",
       "      <td>Neutral</td>\n",
       "      <td>42</td>\n",
       "      <td>AMERICAN INTERNATIONAL GROUP INC</td>\n",
       "    </tr>\n",
       "  </tbody>\n",
       "</table>\n",
       "</div>"
      ],
      "text/plain": [
       "    cik     cusip   shares      rdate      fdate filetype    diffs category  \\\n",
       "0  3520  00030710  15100.0 2015-06-30 2015-08-14   13F-HR  15100.0      Buy   \n",
       "1  5272  00030710   3615.0 2014-12-31 2015-02-13   13F-HR   3615.0  Neutral   \n",
       "2  5272  00030710   4665.0 2015-06-30 2015-08-12   13F-HR   1050.0  Neutral   \n",
       "3  5272  00030710   5170.0 2015-09-30 2015-11-12   13F-HR    505.0  Neutral   \n",
       "4  5272  00030710   5162.0 2015-12-31 2016-02-11   13F-HR     -8.0  Neutral   \n",
       "\n",
       "   delay                           cikname  \n",
       "0     45         FRED ALGER MANAGEMENT INC  \n",
       "1     44  AMERICAN INTERNATIONAL GROUP INC  \n",
       "2     43  AMERICAN INTERNATIONAL GROUP INC  \n",
       "3     43  AMERICAN INTERNATIONAL GROUP INC  \n",
       "4     42  AMERICAN INTERNATIONAL GROUP INC  "
      ]
     },
     "execution_count": 24,
     "metadata": {},
     "output_type": "execute_result"
    }
   ],
   "source": [
    "merged_df.head()"
   ]
  },
  {
   "cell_type": "code",
   "execution_count": 35,
   "id": "4808521a",
   "metadata": {},
   "outputs": [
    {
     "name": "stdout",
     "output_type": "stream",
     "text": [
      "cikname\n",
      "NORTHERN TRUST CORP                              285862\n",
      "VANGUARD GROUP INC                               280603\n",
      "DEUTSCHE BANK AG\\                                251308\n",
      "STATE STREET CORP                                242645\n",
      "CITIGROUP INC                                    233035\n",
      "BANK OF AMERICA CORP /DE/                        229167\n",
      "MORGAN STANLEY                                   223540\n",
      "TIAA CREF INVESTMENT MANAGEMENT LLC              209393\n",
      "AMERICAN INTERNATIONAL GROUP INC                 197603\n",
      "TEACHERS ADVISORS INC                            180544\n",
      "GEODE CAPITAL MANAGEMENT LLC                     172048\n",
      "SCHWAB CHARLES INVESTMENT MANAGEMENT INC         171109\n",
      "US BANCORP \\DE\\                                  164950\n",
      "CALIFORNIA PUBLIC EMPLOYEES RETIREMENT SYSTEM    164805\n",
      "UBS AG                                           160126\n",
      "MERRILL LYNCH & CO INC                           155805\n",
      "BARCLAYS PLC                                     150061\n",
      "GOLDMAN SACHS GROUP INC                          149532\n",
      "RHUMBLINE ADVISERS                               147423\n",
      "CALIFORNIA STATE TEACHERS RETIREMENT SYSTEM      145877\n",
      "Name: count, dtype: int64\n"
     ]
    }
   ],
   "source": [
    "cikname_counts = merged_df['cikname'].value_counts()\n",
    "top_20_ciknames = cikname_counts.head(20)\n",
    "print(top_20_ciknames)\n"
   ]
  },
  {
   "cell_type": "code",
   "execution_count": 38,
   "id": "97727e8e",
   "metadata": {
    "scrolled": true
   },
   "outputs": [
    {
     "data": {
      "image/png": "[encoded data removed]",
      "text/plain": [
       "<Figure size 1080x576 with 1 Axes>"
      ]
     },
     "metadata": {
      "needs_background": "light"
     },
     "output_type": "display_data"
    }
   ],
   "source": [
    "import matplotlib.pyplot as plt\n",
    "\n",
    "top_20_ciknames = top_20_ciknames.sort_values(ascending=True)\n",
    "\n",
    "plt.figure(figsize=(15, 8))\n",
    "top_20_ciknames.plot(kind='barh')\n",
    "plt.xlabel('CIK Name')\n",
    "plt.ylabel('Count')\n",
    "plt.title('Top 20 Most Frequent CIK Names')\n",
    "plt.xticks()\n",
    "plt.show()\n"
   ]
  },
  {
   "cell_type": "code",
   "execution_count": 45,
   "id": "28e18877",
   "metadata": {},
   "outputs": [
    {
     "data": {
      "text/plain": [
       "cikname\n",
       "SATOHA MANAGEMENT L P                             37\n",
       "STARR INTERNATIONAL CO INC                        37\n",
       "MITSUBISHI UFJ SECURITIES (USA) INC               37\n",
       "FINANCIAL SENSE ADVISORS INC                      37\n",
       "KG FUNDS MANAGEMENT LLC                           37\n",
       "                                                  ..\n",
       "GRAMERCY INVESTMENT ADVISORS LLC                   1\n",
       "ENCAP ENERGY CAPITAL FUND VIII LP                  1\n",
       "ENCAP ENERGY CAPITAL FUND VIII CO-INVESTORS LP     1\n",
       "ENCAP ENERGY CAPITAL FUND IX LP                    1\n",
       "TANNENBAUM JEFFREY                                 1\n",
       "Name: count, Length: 1000, dtype: int64"
      ]
     },
     "execution_count": 45,
     "metadata": {},
     "output_type": "execute_result"
    }
   ],
   "source": [
    "cikname_counts.tail(1000)"
   ]
  },
  {
   "cell_type": "code",
   "execution_count": 51,
   "id": "ce718bff",
   "metadata": {
    "scrolled": true
   },
   "outputs": [
    {
     "data": {
      "image/png": "[encoded data removed]",
      "text/plain": [
       "<Figure size 1080x576 with 1 Axes>"
      ]
     },
     "metadata": {
      "needs_background": "light"
     },
     "output_type": "display_data"
    }
   ],
   "source": [
    "import matplotlib.pyplot as plt\n",
    "\n",
    "cikname_counts = merged_df['cikname'].value_counts()\n",
    "bot_20_ciknames = cikname_counts.iloc[-70:-50]\n",
    "\n",
    "\n",
    "bot_20_ciknames = bot_20_ciknames.sort_values(ascending=True)\n",
    "\n",
    "plt.figure(figsize=(15, 8))\n",
    "bot_20_ciknames.plot(kind='barh')\n",
    "plt.xlabel('CIK Name')\n",
    "plt.ylabel('Count')\n",
    "plt.title('Top 20 Least Frequent CIK Names')\n",
    "plt.xticks()\n",
    "plt.show()\n"
   ]
  },
  {
   "cell_type": "code",
   "execution_count": null,
   "id": "de283f19",
   "metadata": {},
   "outputs": [],
   "source": []
  },
  {
   "cell_type": "code",
   "execution_count": null,
   "id": "cf881557",
   "metadata": {},
   "outputs": [],
   "source": [
    "# Set the figure size to make the plot wider\n",
    "plt.figure(figsize=(15, 5))  # Width, Height in inches\n",
    "\n",
    "# Plot the histogram\n",
    "plt.bar(delay_counts.index, delay_counts.values, width=1.0, edgecolor='black')\n",
    "\n",
    "# Set the x-axis labels with a step of 5\n",
    "plt.xticks(range(min(delay_counts.index), max(delay_counts.index) + 1, 5), rotation=90)\n",
    "\n",
    "# Set the labels and title\n",
    "plt.xlabel('Delay (days)')\n",
    "plt.ylabel('Frequency')\n",
    "plt.title('Histogram of Filing Delays')\n",
    "\n",
    "# Show the plot\n",
    "plt.tight_layout()  # Adjust the padding between and around subplots.\n",
    "\n",
    "plt.show()\n"
   ]
  },
  {
   "cell_type": "code",
   "execution_count": null,
   "id": "d2fa4bcc",
   "metadata": {},
   "outputs": [],
   "source": []
  },
  {
   "cell_type": "code",
   "execution_count": 58,
   "id": "0058b672",
   "metadata": {
    "scrolled": false
   },
   "outputs": [
    {
     "data": {
      "image/png": "[encoded data removed]",
      "text/plain": [
       "<Figure size 1080x432 with 1 Axes>"
      ]
     },
     "metadata": {
      "needs_background": "light"
     },
     "output_type": "display_data"
    }
   ],
   "source": [
    "# Assuming cikname_counts is already defined and sorted\n",
    "plt.figure(figsize=(15, 6))\n",
    "plt.hist(cikname_counts.values, bins=100, edgecolor='black')  # Adjust the number of bins as needed\n",
    "plt.xlabel('Counts of CIK Names')\n",
    "plt.ylabel('Frequency')\n",
    "plt.title('Histogram of CIK Name Counts')\n",
    "plt.grid(True)\n",
    "plt.show()"
   ]
  },
  {
   "cell_type": "code",
   "execution_count": 79,
   "id": "fe0d2275",
   "metadata": {},
   "outputs": [],
   "source": [
    "import numpy as np\n",
    "\n",
    "# Calculate the 50th percentile\n",
    "percentile_50th = np.percentile(cikname_counts, 50)\n"
   ]
  },
  {
   "cell_type": "code",
   "execution_count": 81,
   "id": "332ff2c2",
   "metadata": {},
   "outputs": [
    {
     "data": {
      "text/plain": [
       "767.5"
      ]
     },
     "execution_count": 81,
     "metadata": {},
     "output_type": "execute_result"
    }
   ],
   "source": [
    "percentile_50th"
   ]
  },
  {
   "cell_type": "code",
   "execution_count": 82,
   "id": "fbf132ab",
   "metadata": {},
   "outputs": [
    {
     "data": {
      "image/png": "[encoded data removed]",
      "text/plain": [
       "<Figure size 1080x432 with 1 Axes>"
      ]
     },
     "metadata": {
      "needs_background": "light"
     },
     "output_type": "display_data"
    }
   ],
   "source": [
    "# Filter out extreme values\n",
    "threshold = percentile_50th\n",
    "filtered_counts = cikname_counts[cikname_counts >= threshold]\n",
    "\n",
    "plt.figure(figsize=(15, 6))\n",
    "\n",
    "plt.axvspan(0, threshold, color='yellow', alpha=0.3, label='0-20000 Excluded')\n",
    "\n",
    "plt.hist(filtered_counts, bins=100, edgecolor='black')\n",
    "plt.xlabel('Counts of CIK Names')\n",
    "plt.ylabel('Frequency')\n",
    "plt.title('Histogram of CIK Name Counts (<50th Percentile (767.5) Counts Filtered)')\n",
    "\n",
    "plt.grid(True)\n",
    "plt.show()\n"
   ]
  },
  {
   "cell_type": "code",
   "execution_count": 53,
   "id": "3ff88aeb",
   "metadata": {},
   "outputs": [
    {
     "data": {
      "text/plain": [
       "<AxesSubplot:>"
      ]
     },
     "execution_count": 53,
     "metadata": {},
     "output_type": "execute_result"
    },
    {
     "data": {
      "image/png": "[encoded data removed]",
      "text/plain": [
       "<Figure size 432x288 with 1 Axes>"
      ]
     },
     "metadata": {
      "needs_background": "light"
     },
     "output_type": "display_data"
    }
   ],
   "source": [
    "cikname_counts.hist()"
   ]
  },
  {
   "cell_type": "markdown",
   "id": "2f2a5a1e",
   "metadata": {},
   "source": [
    "cikname information is joined without trouble. only one item was not found and its added now."
   ]
  },
  {
   "cell_type": "markdown",
   "id": "929ea6b6",
   "metadata": {},
   "source": [
    "# JOIN CUSIP KEY"
   ]
  },
  {
   "cell_type": "markdown",
   "id": "c877df3c",
   "metadata": {},
   "source": [
    "Cusip info is not available right away so i used sec api.These are all available cusip keys on sec api.\n",
    "cusip keys has a structure, first 6 digits only denote the issuer name, the other suffixes denote the equity.\n",
    "therefore we need to strip them to get base cusip key, and join based on this value."
   ]
  },
  {
   "cell_type": "code",
   "execution_count": 38,
   "id": "fb869fbd",
   "metadata": {},
   "outputs": [],
   "source": [
    "from sec_api import MappingApi\n",
    "import pandas as pd \n",
    "api_key = \"d1fae337ec2243809956cb3aa5ef73ff053cb51349c555fcb3d6ebd7893fbc63\"\n",
    "mappingApi = MappingApi(api_key=api_key)"
   ]
  },
  {
   "cell_type": "code",
   "execution_count": 39,
   "id": "dd61b87a",
   "metadata": {},
   "outputs": [],
   "source": [
    "# all NASDAQ traded companies\n",
    "by_exchange = mappingApi.resolve(\"exchange\", \"NASDAQ\")\n",
    "NASDAQ_df = pd.DataFrame(by_exchange)\n",
    "\n",
    "# all NYSE traded companies\n",
    "by_exchange = mappingApi.resolve(\"exchange\", \"NYSE\")\n",
    "NYSE_df = pd.DataFrame(by_exchange)\n",
    "\n",
    "# all NYSEMKT traded companies\n",
    "by_exchange = mappingApi.resolve(\"exchange\", \"NYSEMKT\")\n",
    "NYSEMKT_df = pd.DataFrame(by_exchange)\n",
    "\n",
    "# all NYSEARCA traded companies\n",
    "by_exchange = mappingApi.resolve(\"exchange\", \"NYSEARCA\")\n",
    "NYSEARCA_df = pd.DataFrame(by_exchange)\n",
    "\n",
    "# all OTC traded companies\n",
    "by_exchange = mappingApi.resolve(\"exchange\", \"OTC\")\n",
    "OTC_df = pd.DataFrame(by_exchange)\n",
    "\n",
    "# all BATS traded companies\n",
    "by_exchange = mappingApi.resolve(\"exchange\", \"BATS\")\n",
    "BATS_df = pd.DataFrame(by_exchange)\n",
    "\n",
    "# all INDEX traded companies\n",
    "by_exchange = mappingApi.resolve(\"exchange\", \"INDEX\")\n",
    "INDEX_df = pd.DataFrame(by_exchange)\n",
    "\n",
    "\n",
    "# CREATE A DF BASED ON ALL EXCHANGES STOCKS AVALABLE IN SEC API\n",
    "NASDAQ_df.shape, NYSE_df.shape , NYSEMKT_df.shape , NYSEARCA_df.shape , OTC_df.shape, BATS_df.shape , INDEX_df.shape\n",
    "frames = [NASDAQ_df, NYSE_df, NYSEMKT_df, NYSEARCA_df, OTC_df, BATS_df, INDEX_df]\n",
    "\n",
    "all_exchanges = pd.concat(frames)"
   ]
  },
  {
   "cell_type": "code",
   "execution_count": 40,
   "id": "e557cac3",
   "metadata": {},
   "outputs": [
    {
     "data": {
      "text/html": [
       "<div>\n",
       "<style scoped>\n",
       "    .dataframe tbody tr th:only-of-type {\n",
       "        vertical-align: middle;\n",
       "    }\n",
       "\n",
       "    .dataframe tbody tr th {\n",
       "        vertical-align: top;\n",
       "    }\n",
       "\n",
       "    .dataframe thead th {\n",
       "        text-align: right;\n",
       "    }\n",
       "</style>\n",
       "<table border=\"1\" class=\"dataframe\">\n",
       "  <thead>\n",
       "    <tr style=\"text-align: right;\">\n",
       "      <th></th>\n",
       "      <th>name</th>\n",
       "      <th>ticker</th>\n",
       "      <th>cik</th>\n",
       "      <th>cusip</th>\n",
       "      <th>exchange</th>\n",
       "      <th>category</th>\n",
       "      <th>sector</th>\n",
       "      <th>industry</th>\n",
       "      <th>sicSector</th>\n",
       "      <th>sicIndustry</th>\n",
       "      <th>location</th>\n",
       "    </tr>\n",
       "  </thead>\n",
       "  <tbody>\n",
       "    <tr>\n",
       "      <th>0</th>\n",
       "      <td>ADMIRALTY BANCORP INC</td>\n",
       "      <td>AAAB</td>\n",
       "      <td>1066808</td>\n",
       "      <td>007231103</td>\n",
       "      <td>NASDAQ</td>\n",
       "      <td>Domestic Common Stock</td>\n",
       "      <td>Financial Services</td>\n",
       "      <td>Banks - Regional</td>\n",
       "      <td>Finance Insurance And Real Estate</td>\n",
       "      <td>State Commercial Banks</td>\n",
       "      <td>Florida; U.S.A</td>\n",
       "    </tr>\n",
       "    <tr>\n",
       "      <th>1</th>\n",
       "      <td>ADVANCED ACCELERATOR APPLICATIONS SA</td>\n",
       "      <td>AAAP</td>\n",
       "      <td>1611787</td>\n",
       "      <td>00790T100</td>\n",
       "      <td>NASDAQ</td>\n",
       "      <td>ADR Common Stock</td>\n",
       "      <td>Healthcare</td>\n",
       "      <td>Biotechnology</td>\n",
       "      <td>Manufacturing</td>\n",
       "      <td>Pharmaceutical Preparations</td>\n",
       "      <td>France</td>\n",
       "    </tr>\n",
       "    <tr>\n",
       "      <th>2</th>\n",
       "      <td>ACCESS ANYTIME BANCORP INC</td>\n",
       "      <td>AABC</td>\n",
       "      <td>1024015</td>\n",
       "      <td>00431F105</td>\n",
       "      <td>NASDAQ</td>\n",
       "      <td>Domestic Common Stock</td>\n",
       "      <td>Financial Services</td>\n",
       "      <td>Banks - Regional</td>\n",
       "      <td>Finance Insurance And Real Estate</td>\n",
       "      <td>Savings Institution Federally Chartered</td>\n",
       "      <td>New Mexico; U.S.A</td>\n",
       "    </tr>\n",
       "    <tr>\n",
       "      <th>3</th>\n",
       "      <td>ALLIANCE ATLANTIS COMMUNICATIONS INC</td>\n",
       "      <td>AACB</td>\n",
       "      <td>1005887</td>\n",
       "      <td>01853E204 01855R302</td>\n",
       "      <td>NASDAQ</td>\n",
       "      <td>Canadian Common Stock</td>\n",
       "      <td>Communication Services</td>\n",
       "      <td>Entertainment</td>\n",
       "      <td>Services</td>\n",
       "      <td>Services-Motion Picture &amp; Video Tape Production</td>\n",
       "      <td>Ontario; Canada</td>\n",
       "    </tr>\n",
       "    <tr>\n",
       "      <th>4</th>\n",
       "      <td>ASSET ACCEPTANCE CAPITAL CORP</td>\n",
       "      <td>AACC</td>\n",
       "      <td>1264707</td>\n",
       "      <td>04543P100</td>\n",
       "      <td>NASDAQ</td>\n",
       "      <td>Domestic Common Stock</td>\n",
       "      <td>Financial Services</td>\n",
       "      <td>Asset Management</td>\n",
       "      <td>Finance Insurance And Real Estate</td>\n",
       "      <td>Short-Term Business Credit Institutions</td>\n",
       "      <td>Michigan; U.S.A</td>\n",
       "    </tr>\n",
       "  </tbody>\n",
       "</table>\n",
       "</div>"
      ],
      "text/plain": [
       "                                   name ticker      cik                cusip  \\\n",
       "0                 ADMIRALTY BANCORP INC   AAAB  1066808            007231103   \n",
       "1  ADVANCED ACCELERATOR APPLICATIONS SA   AAAP  1611787            00790T100   \n",
       "2            ACCESS ANYTIME BANCORP INC   AABC  1024015            00431F105   \n",
       "3  ALLIANCE ATLANTIS COMMUNICATIONS INC   AACB  1005887  01853E204 01855R302   \n",
       "4         ASSET ACCEPTANCE CAPITAL CORP   AACC  1264707            04543P100   \n",
       "\n",
       "  exchange               category                  sector          industry  \\\n",
       "0   NASDAQ  Domestic Common Stock      Financial Services  Banks - Regional   \n",
       "1   NASDAQ       ADR Common Stock              Healthcare     Biotechnology   \n",
       "2   NASDAQ  Domestic Common Stock      Financial Services  Banks - Regional   \n",
       "3   NASDAQ  Canadian Common Stock  Communication Services     Entertainment   \n",
       "4   NASDAQ  Domestic Common Stock      Financial Services  Asset Management   \n",
       "\n",
       "                           sicSector  \\\n",
       "0  Finance Insurance And Real Estate   \n",
       "1                      Manufacturing   \n",
       "2  Finance Insurance And Real Estate   \n",
       "3                           Services   \n",
       "4  Finance Insurance And Real Estate   \n",
       "\n",
       "                                       sicIndustry           location  \n",
       "0                           State Commercial Banks     Florida; U.S.A  \n",
       "1                      Pharmaceutical Preparations             France  \n",
       "2          Savings Institution Federally Chartered  New Mexico; U.S.A  \n",
       "3  Services-Motion Picture & Video Tape Production    Ontario; Canada  \n",
       "4          Short-Term Business Credit Institutions    Michigan; U.S.A  "
      ]
     },
     "execution_count": 40,
     "metadata": {},
     "output_type": "execute_result"
    }
   ],
   "source": [
    "# remove some columns\n",
    "columns = [\"name\",\"ticker\",\"cik\",\"cusip\",\"exchange\",\"category\",\"sector\",\"industry\",\"sicSector\",\"sicIndustry\",\"location\"]\n",
    "all_exchanges = all_exchanges[columns]\n",
    "all_exchanges.head()"
   ]
  },
  {
   "cell_type": "code",
   "execution_count": 41,
   "id": "0a3c0a74",
   "metadata": {},
   "outputs": [
    {
     "data": {
      "text/plain": [
       "'01853E204 01855R302'"
      ]
     },
     "execution_count": 41,
     "metadata": {},
     "output_type": "execute_result"
    }
   ],
   "source": [
    "all_exchanges.iloc[3,3]"
   ]
  },
  {
   "cell_type": "code",
   "execution_count": 42,
   "id": "fb6ce1fb",
   "metadata": {},
   "outputs": [],
   "source": [
    "# Define a function to get the first 6 characters of each CUSIP and join them with a space\n",
    "def get_base_cusips(cusip_string):\n",
    "    # Split the string by space, take the first 6 characters of each, and join with space\n",
    "    return ' '.join([cusip[:6] for cusip in cusip_string.split()])\n",
    "\n",
    "# Apply the function to the 'cusip' column and create a new 'base_cusips' column\n",
    "all_exchanges['base_cusips'] = all_exchanges['cusip'].apply(get_base_cusips)"
   ]
  },
  {
   "cell_type": "code",
   "execution_count": 43,
   "id": "796cf481",
   "metadata": {
    "scrolled": true
   },
   "outputs": [
    {
     "data": {
      "text/html": [
       "<div>\n",
       "<style scoped>\n",
       "    .dataframe tbody tr th:only-of-type {\n",
       "        vertical-align: middle;\n",
       "    }\n",
       "\n",
       "    .dataframe tbody tr th {\n",
       "        vertical-align: top;\n",
       "    }\n",
       "\n",
       "    .dataframe thead th {\n",
       "        text-align: right;\n",
       "    }\n",
       "</style>\n",
       "<table border=\"1\" class=\"dataframe\">\n",
       "  <thead>\n",
       "    <tr style=\"text-align: right;\">\n",
       "      <th></th>\n",
       "      <th>name</th>\n",
       "      <th>ticker</th>\n",
       "      <th>cik</th>\n",
       "      <th>cusip</th>\n",
       "      <th>exchange</th>\n",
       "      <th>category</th>\n",
       "      <th>sector</th>\n",
       "      <th>industry</th>\n",
       "      <th>sicSector</th>\n",
       "      <th>sicIndustry</th>\n",
       "      <th>location</th>\n",
       "      <th>base_cusips</th>\n",
       "    </tr>\n",
       "  </thead>\n",
       "  <tbody>\n",
       "    <tr>\n",
       "      <th>0</th>\n",
       "      <td>ADMIRALTY BANCORP INC</td>\n",
       "      <td>AAAB</td>\n",
       "      <td>1066808</td>\n",
       "      <td>007231103</td>\n",
       "      <td>NASDAQ</td>\n",
       "      <td>Domestic Common Stock</td>\n",
       "      <td>Financial Services</td>\n",
       "      <td>Banks - Regional</td>\n",
       "      <td>Finance Insurance And Real Estate</td>\n",
       "      <td>State Commercial Banks</td>\n",
       "      <td>Florida; U.S.A</td>\n",
       "      <td>007231</td>\n",
       "    </tr>\n",
       "    <tr>\n",
       "      <th>1</th>\n",
       "      <td>ADVANCED ACCELERATOR APPLICATIONS SA</td>\n",
       "      <td>AAAP</td>\n",
       "      <td>1611787</td>\n",
       "      <td>00790T100</td>\n",
       "      <td>NASDAQ</td>\n",
       "      <td>ADR Common Stock</td>\n",
       "      <td>Healthcare</td>\n",
       "      <td>Biotechnology</td>\n",
       "      <td>Manufacturing</td>\n",
       "      <td>Pharmaceutical Preparations</td>\n",
       "      <td>France</td>\n",
       "      <td>00790T</td>\n",
       "    </tr>\n",
       "    <tr>\n",
       "      <th>2</th>\n",
       "      <td>ACCESS ANYTIME BANCORP INC</td>\n",
       "      <td>AABC</td>\n",
       "      <td>1024015</td>\n",
       "      <td>00431F105</td>\n",
       "      <td>NASDAQ</td>\n",
       "      <td>Domestic Common Stock</td>\n",
       "      <td>Financial Services</td>\n",
       "      <td>Banks - Regional</td>\n",
       "      <td>Finance Insurance And Real Estate</td>\n",
       "      <td>Savings Institution Federally Chartered</td>\n",
       "      <td>New Mexico; U.S.A</td>\n",
       "      <td>00431F</td>\n",
       "    </tr>\n",
       "    <tr>\n",
       "      <th>3</th>\n",
       "      <td>ALLIANCE ATLANTIS COMMUNICATIONS INC</td>\n",
       "      <td>AACB</td>\n",
       "      <td>1005887</td>\n",
       "      <td>01853E204 01855R302</td>\n",
       "      <td>NASDAQ</td>\n",
       "      <td>Canadian Common Stock</td>\n",
       "      <td>Communication Services</td>\n",
       "      <td>Entertainment</td>\n",
       "      <td>Services</td>\n",
       "      <td>Services-Motion Picture &amp; Video Tape Production</td>\n",
       "      <td>Ontario; Canada</td>\n",
       "      <td>01853E 01855R</td>\n",
       "    </tr>\n",
       "    <tr>\n",
       "      <th>4</th>\n",
       "      <td>ASSET ACCEPTANCE CAPITAL CORP</td>\n",
       "      <td>AACC</td>\n",
       "      <td>1264707</td>\n",
       "      <td>04543P100</td>\n",
       "      <td>NASDAQ</td>\n",
       "      <td>Domestic Common Stock</td>\n",
       "      <td>Financial Services</td>\n",
       "      <td>Asset Management</td>\n",
       "      <td>Finance Insurance And Real Estate</td>\n",
       "      <td>Short-Term Business Credit Institutions</td>\n",
       "      <td>Michigan; U.S.A</td>\n",
       "      <td>04543P</td>\n",
       "    </tr>\n",
       "  </tbody>\n",
       "</table>\n",
       "</div>"
      ],
      "text/plain": [
       "                                   name ticker      cik                cusip  \\\n",
       "0                 ADMIRALTY BANCORP INC   AAAB  1066808            007231103   \n",
       "1  ADVANCED ACCELERATOR APPLICATIONS SA   AAAP  1611787            00790T100   \n",
       "2            ACCESS ANYTIME BANCORP INC   AABC  1024015            00431F105   \n",
       "3  ALLIANCE ATLANTIS COMMUNICATIONS INC   AACB  1005887  01853E204 01855R302   \n",
       "4         ASSET ACCEPTANCE CAPITAL CORP   AACC  1264707            04543P100   \n",
       "\n",
       "  exchange               category                  sector          industry  \\\n",
       "0   NASDAQ  Domestic Common Stock      Financial Services  Banks - Regional   \n",
       "1   NASDAQ       ADR Common Stock              Healthcare     Biotechnology   \n",
       "2   NASDAQ  Domestic Common Stock      Financial Services  Banks - Regional   \n",
       "3   NASDAQ  Canadian Common Stock  Communication Services     Entertainment   \n",
       "4   NASDAQ  Domestic Common Stock      Financial Services  Asset Management   \n",
       "\n",
       "                           sicSector  \\\n",
       "0  Finance Insurance And Real Estate   \n",
       "1                      Manufacturing   \n",
       "2  Finance Insurance And Real Estate   \n",
       "3                           Services   \n",
       "4  Finance Insurance And Real Estate   \n",
       "\n",
       "                                       sicIndustry           location  \\\n",
       "0                           State Commercial Banks     Florida; U.S.A   \n",
       "1                      Pharmaceutical Preparations             France   \n",
       "2          Savings Institution Federally Chartered  New Mexico; U.S.A   \n",
       "3  Services-Motion Picture & Video Tape Production    Ontario; Canada   \n",
       "4          Short-Term Business Credit Institutions    Michigan; U.S.A   \n",
       "\n",
       "     base_cusips  \n",
       "0         007231  \n",
       "1         00790T  \n",
       "2         00431F  \n",
       "3  01853E 01855R  \n",
       "4         04543P  "
      ]
     },
     "execution_count": 43,
     "metadata": {},
     "output_type": "execute_result"
    }
   ],
   "source": [
    "all_exchanges.head()"
   ]
  },
  {
   "cell_type": "code",
   "execution_count": 46,
   "id": "311ad640",
   "metadata": {},
   "outputs": [],
   "source": [
    "# Split the 'base_cusips' column into a list of base CUSIPs\n",
    "all_exchanges['base_cusips'] = all_exchanges['base_cusips'].str.split()\n",
    "\n",
    "# Explode the 'base_cusips' column into multiple rows\n",
    "all_exchanges_exploded = all_exchanges.explode('base_cusips')\n",
    "\n",
    "# Rename the 'base_cusips' column to 'base_cusip'\n",
    "all_exchanges_exploded.rename(columns={'base_cusips': 'base_cusip'}, inplace=True)"
   ]
  },
  {
   "cell_type": "code",
   "execution_count": 48,
   "id": "b534ab98",
   "metadata": {},
   "outputs": [
    {
     "data": {
      "text/html": [
       "<div>\n",
       "<style scoped>\n",
       "    .dataframe tbody tr th:only-of-type {\n",
       "        vertical-align: middle;\n",
       "    }\n",
       "\n",
       "    .dataframe tbody tr th {\n",
       "        vertical-align: top;\n",
       "    }\n",
       "\n",
       "    .dataframe thead th {\n",
       "        text-align: right;\n",
       "    }\n",
       "</style>\n",
       "<table border=\"1\" class=\"dataframe\">\n",
       "  <thead>\n",
       "    <tr style=\"text-align: right;\">\n",
       "      <th></th>\n",
       "      <th>name</th>\n",
       "      <th>ticker</th>\n",
       "      <th>cik</th>\n",
       "      <th>cusip</th>\n",
       "      <th>exchange</th>\n",
       "      <th>category</th>\n",
       "      <th>sector</th>\n",
       "      <th>industry</th>\n",
       "      <th>sicSector</th>\n",
       "      <th>sicIndustry</th>\n",
       "      <th>location</th>\n",
       "      <th>base_cusip</th>\n",
       "    </tr>\n",
       "  </thead>\n",
       "  <tbody>\n",
       "    <tr>\n",
       "      <th>0</th>\n",
       "      <td>ADMIRALTY BANCORP INC</td>\n",
       "      <td>AAAB</td>\n",
       "      <td>1066808</td>\n",
       "      <td>007231103</td>\n",
       "      <td>NASDAQ</td>\n",
       "      <td>Domestic Common Stock</td>\n",
       "      <td>Financial Services</td>\n",
       "      <td>Banks - Regional</td>\n",
       "      <td>Finance Insurance And Real Estate</td>\n",
       "      <td>State Commercial Banks</td>\n",
       "      <td>Florida; U.S.A</td>\n",
       "      <td>007231</td>\n",
       "    </tr>\n",
       "    <tr>\n",
       "      <th>1</th>\n",
       "      <td>ADVANCED ACCELERATOR APPLICATIONS SA</td>\n",
       "      <td>AAAP</td>\n",
       "      <td>1611787</td>\n",
       "      <td>00790T100</td>\n",
       "      <td>NASDAQ</td>\n",
       "      <td>ADR Common Stock</td>\n",
       "      <td>Healthcare</td>\n",
       "      <td>Biotechnology</td>\n",
       "      <td>Manufacturing</td>\n",
       "      <td>Pharmaceutical Preparations</td>\n",
       "      <td>France</td>\n",
       "      <td>00790T</td>\n",
       "    </tr>\n",
       "    <tr>\n",
       "      <th>2</th>\n",
       "      <td>ACCESS ANYTIME BANCORP INC</td>\n",
       "      <td>AABC</td>\n",
       "      <td>1024015</td>\n",
       "      <td>00431F105</td>\n",
       "      <td>NASDAQ</td>\n",
       "      <td>Domestic Common Stock</td>\n",
       "      <td>Financial Services</td>\n",
       "      <td>Banks - Regional</td>\n",
       "      <td>Finance Insurance And Real Estate</td>\n",
       "      <td>Savings Institution Federally Chartered</td>\n",
       "      <td>New Mexico; U.S.A</td>\n",
       "      <td>00431F</td>\n",
       "    </tr>\n",
       "    <tr>\n",
       "      <th>3</th>\n",
       "      <td>ALLIANCE ATLANTIS COMMUNICATIONS INC</td>\n",
       "      <td>AACB</td>\n",
       "      <td>1005887</td>\n",
       "      <td>01853E204 01855R302</td>\n",
       "      <td>NASDAQ</td>\n",
       "      <td>Canadian Common Stock</td>\n",
       "      <td>Communication Services</td>\n",
       "      <td>Entertainment</td>\n",
       "      <td>Services</td>\n",
       "      <td>Services-Motion Picture &amp; Video Tape Production</td>\n",
       "      <td>Ontario; Canada</td>\n",
       "      <td>01853E</td>\n",
       "    </tr>\n",
       "    <tr>\n",
       "      <th>3</th>\n",
       "      <td>ALLIANCE ATLANTIS COMMUNICATIONS INC</td>\n",
       "      <td>AACB</td>\n",
       "      <td>1005887</td>\n",
       "      <td>01853E204 01855R302</td>\n",
       "      <td>NASDAQ</td>\n",
       "      <td>Canadian Common Stock</td>\n",
       "      <td>Communication Services</td>\n",
       "      <td>Entertainment</td>\n",
       "      <td>Services</td>\n",
       "      <td>Services-Motion Picture &amp; Video Tape Production</td>\n",
       "      <td>Ontario; Canada</td>\n",
       "      <td>01855R</td>\n",
       "    </tr>\n",
       "    <tr>\n",
       "      <th>4</th>\n",
       "      <td>ASSET ACCEPTANCE CAPITAL CORP</td>\n",
       "      <td>AACC</td>\n",
       "      <td>1264707</td>\n",
       "      <td>04543P100</td>\n",
       "      <td>NASDAQ</td>\n",
       "      <td>Domestic Common Stock</td>\n",
       "      <td>Financial Services</td>\n",
       "      <td>Asset Management</td>\n",
       "      <td>Finance Insurance And Real Estate</td>\n",
       "      <td>Short-Term Business Credit Institutions</td>\n",
       "      <td>Michigan; U.S.A</td>\n",
       "      <td>04543P</td>\n",
       "    </tr>\n",
       "  </tbody>\n",
       "</table>\n",
       "</div>"
      ],
      "text/plain": [
       "                                   name ticker      cik                cusip  \\\n",
       "0                 ADMIRALTY BANCORP INC   AAAB  1066808            007231103   \n",
       "1  ADVANCED ACCELERATOR APPLICATIONS SA   AAAP  1611787            00790T100   \n",
       "2            ACCESS ANYTIME BANCORP INC   AABC  1024015            00431F105   \n",
       "3  ALLIANCE ATLANTIS COMMUNICATIONS INC   AACB  1005887  01853E204 01855R302   \n",
       "3  ALLIANCE ATLANTIS COMMUNICATIONS INC   AACB  1005887  01853E204 01855R302   \n",
       "4         ASSET ACCEPTANCE CAPITAL CORP   AACC  1264707            04543P100   \n",
       "\n",
       "  exchange               category                  sector          industry  \\\n",
       "0   NASDAQ  Domestic Common Stock      Financial Services  Banks - Regional   \n",
       "1   NASDAQ       ADR Common Stock              Healthcare     Biotechnology   \n",
       "2   NASDAQ  Domestic Common Stock      Financial Services  Banks - Regional   \n",
       "3   NASDAQ  Canadian Common Stock  Communication Services     Entertainment   \n",
       "3   NASDAQ  Canadian Common Stock  Communication Services     Entertainment   \n",
       "4   NASDAQ  Domestic Common Stock      Financial Services  Asset Management   \n",
       "\n",
       "                           sicSector  \\\n",
       "0  Finance Insurance And Real Estate   \n",
       "1                      Manufacturing   \n",
       "2  Finance Insurance And Real Estate   \n",
       "3                           Services   \n",
       "3                           Services   \n",
       "4  Finance Insurance And Real Estate   \n",
       "\n",
       "                                       sicIndustry           location  \\\n",
       "0                           State Commercial Banks     Florida; U.S.A   \n",
       "1                      Pharmaceutical Preparations             France   \n",
       "2          Savings Institution Federally Chartered  New Mexico; U.S.A   \n",
       "3  Services-Motion Picture & Video Tape Production    Ontario; Canada   \n",
       "3  Services-Motion Picture & Video Tape Production    Ontario; Canada   \n",
       "4          Short-Term Business Credit Institutions    Michigan; U.S.A   \n",
       "\n",
       "  base_cusip  \n",
       "0     007231  \n",
       "1     00790T  \n",
       "2     00431F  \n",
       "3     01853E  \n",
       "3     01855R  \n",
       "4     04543P  "
      ]
     },
     "execution_count": 48,
     "metadata": {},
     "output_type": "execute_result"
    }
   ],
   "source": [
    "all_exchanges_exploded.head(6)"
   ]
  },
  {
   "cell_type": "code",
   "execution_count": 44,
   "id": "120a777f",
   "metadata": {},
   "outputs": [],
   "source": [
    "merged_df['base_cusip'] = merged_df['cusip'].str[:6]"
   ]
  },
  {
   "cell_type": "code",
   "execution_count": 45,
   "id": "fc9a3a16",
   "metadata": {
    "scrolled": false
   },
   "outputs": [
    {
     "data": {
      "text/html": [
       "<div>\n",
       "<style scoped>\n",
       "    .dataframe tbody tr th:only-of-type {\n",
       "        vertical-align: middle;\n",
       "    }\n",
       "\n",
       "    .dataframe tbody tr th {\n",
       "        vertical-align: top;\n",
       "    }\n",
       "\n",
       "    .dataframe thead th {\n",
       "        text-align: right;\n",
       "    }\n",
       "</style>\n",
       "<table border=\"1\" class=\"dataframe\">\n",
       "  <thead>\n",
       "    <tr style=\"text-align: right;\">\n",
       "      <th></th>\n",
       "      <th>cik</th>\n",
       "      <th>cusip</th>\n",
       "      <th>shares</th>\n",
       "      <th>rdate</th>\n",
       "      <th>fdate</th>\n",
       "      <th>filetype</th>\n",
       "      <th>diffs</th>\n",
       "      <th>category</th>\n",
       "      <th>delay</th>\n",
       "      <th>cikname</th>\n",
       "      <th>base_cusip</th>\n",
       "    </tr>\n",
       "  </thead>\n",
       "  <tbody>\n",
       "    <tr>\n",
       "      <th>0</th>\n",
       "      <td>3520</td>\n",
       "      <td>00030710</td>\n",
       "      <td>15100.0</td>\n",
       "      <td>2015-06-30</td>\n",
       "      <td>2015-08-14</td>\n",
       "      <td>13F-HR</td>\n",
       "      <td>15100.0</td>\n",
       "      <td>Buy</td>\n",
       "      <td>45</td>\n",
       "      <td>FRED ALGER MANAGEMENT INC</td>\n",
       "      <td>000307</td>\n",
       "    </tr>\n",
       "    <tr>\n",
       "      <th>1</th>\n",
       "      <td>5272</td>\n",
       "      <td>00030710</td>\n",
       "      <td>3615.0</td>\n",
       "      <td>2014-12-31</td>\n",
       "      <td>2015-02-13</td>\n",
       "      <td>13F-HR</td>\n",
       "      <td>3615.0</td>\n",
       "      <td>Neutral</td>\n",
       "      <td>44</td>\n",
       "      <td>AMERICAN INTERNATIONAL GROUP INC</td>\n",
       "      <td>000307</td>\n",
       "    </tr>\n",
       "    <tr>\n",
       "      <th>2</th>\n",
       "      <td>5272</td>\n",
       "      <td>00030710</td>\n",
       "      <td>4665.0</td>\n",
       "      <td>2015-06-30</td>\n",
       "      <td>2015-08-12</td>\n",
       "      <td>13F-HR</td>\n",
       "      <td>1050.0</td>\n",
       "      <td>Neutral</td>\n",
       "      <td>43</td>\n",
       "      <td>AMERICAN INTERNATIONAL GROUP INC</td>\n",
       "      <td>000307</td>\n",
       "    </tr>\n",
       "    <tr>\n",
       "      <th>3</th>\n",
       "      <td>5272</td>\n",
       "      <td>00030710</td>\n",
       "      <td>5170.0</td>\n",
       "      <td>2015-09-30</td>\n",
       "      <td>2015-11-12</td>\n",
       "      <td>13F-HR</td>\n",
       "      <td>505.0</td>\n",
       "      <td>Neutral</td>\n",
       "      <td>43</td>\n",
       "      <td>AMERICAN INTERNATIONAL GROUP INC</td>\n",
       "      <td>000307</td>\n",
       "    </tr>\n",
       "    <tr>\n",
       "      <th>4</th>\n",
       "      <td>5272</td>\n",
       "      <td>00030710</td>\n",
       "      <td>5162.0</td>\n",
       "      <td>2015-12-31</td>\n",
       "      <td>2016-02-11</td>\n",
       "      <td>13F-HR</td>\n",
       "      <td>-8.0</td>\n",
       "      <td>Neutral</td>\n",
       "      <td>42</td>\n",
       "      <td>AMERICAN INTERNATIONAL GROUP INC</td>\n",
       "      <td>000307</td>\n",
       "    </tr>\n",
       "  </tbody>\n",
       "</table>\n",
       "</div>"
      ],
      "text/plain": [
       "    cik     cusip   shares      rdate      fdate filetype    diffs category  \\\n",
       "0  3520  00030710  15100.0 2015-06-30 2015-08-14   13F-HR  15100.0      Buy   \n",
       "1  5272  00030710   3615.0 2014-12-31 2015-02-13   13F-HR   3615.0  Neutral   \n",
       "2  5272  00030710   4665.0 2015-06-30 2015-08-12   13F-HR   1050.0  Neutral   \n",
       "3  5272  00030710   5170.0 2015-09-30 2015-11-12   13F-HR    505.0  Neutral   \n",
       "4  5272  00030710   5162.0 2015-12-31 2016-02-11   13F-HR     -8.0  Neutral   \n",
       "\n",
       "   delay                           cikname base_cusip  \n",
       "0     45         FRED ALGER MANAGEMENT INC     000307  \n",
       "1     44  AMERICAN INTERNATIONAL GROUP INC     000307  \n",
       "2     43  AMERICAN INTERNATIONAL GROUP INC     000307  \n",
       "3     43  AMERICAN INTERNATIONAL GROUP INC     000307  \n",
       "4     42  AMERICAN INTERNATIONAL GROUP INC     000307  "
      ]
     },
     "execution_count": 45,
     "metadata": {},
     "output_type": "execute_result"
    }
   ],
   "source": [
    "merged_df.head()"
   ]
  },
  {
   "cell_type": "code",
   "execution_count": null,
   "id": "be3cbf32",
   "metadata": {},
   "outputs": [],
   "source": []
  },
  {
   "cell_type": "code",
   "execution_count": null,
   "id": "15f917dd",
   "metadata": {},
   "outputs": [],
   "source": []
  },
  {
   "cell_type": "code",
   "execution_count": null,
   "id": "cf63bc19",
   "metadata": {},
   "outputs": [],
   "source": []
  },
  {
   "cell_type": "code",
   "execution_count": null,
   "id": "de430f29",
   "metadata": {},
   "outputs": [],
   "source": []
  },
  {
   "cell_type": "code",
   "execution_count": null,
   "id": "500cf20e",
   "metadata": {},
   "outputs": [],
   "source": []
  },
  {
   "cell_type": "code",
   "execution_count": null,
   "id": "3d6e2baf",
   "metadata": {},
   "outputs": [],
   "source": []
  },
  {
   "cell_type": "code",
   "execution_count": null,
   "id": "3b2430ca",
   "metadata": {},
   "outputs": [],
   "source": []
  },
  {
   "cell_type": "code",
   "execution_count": null,
   "id": "267431df",
   "metadata": {},
   "outputs": [],
   "source": []
  },
  {
   "cell_type": "markdown",
   "id": "1c91a992",
   "metadata": {},
   "source": [
    "## BEFORE MERGING THESE TWO DATAFRAMES. LETS SAVE THEM BECAUSE THEY ARE TOO LARGE NOW, AND CANT FIT INTO RAM"
   ]
  },
  {
   "cell_type": "code",
   "execution_count": 50,
   "id": "4e5c545d",
   "metadata": {},
   "outputs": [],
   "source": [
    "merged_df.to_csv(\"processed_interactions.csv\")\n",
    "all_exchanges_exploded.to_csv(\"processed_cusips.csv\")"
   ]
  },
  {
   "cell_type": "code",
   "execution_count": null,
   "id": "eaf483bd",
   "metadata": {},
   "outputs": [],
   "source": []
  }
 ],
 "metadata": {
  "kernelspec": {
   "display_name": "Python 3 (ipykernel)",
   "language": "python",
   "name": "python3"
  },
  "language_info": {
   "codemirror_mode": {
    "name": "ipython",
    "version": 3
   },
   "file_extension": ".py",
   "mimetype": "text/x-python",
   "name": "python",
   "nbconvert_exporter": "python",
   "pygments_lexer": "ipython3",
   "version": "3.9.12"
  }
 },
 "nbformat": 4,
 "nbformat_minor": 5
}
