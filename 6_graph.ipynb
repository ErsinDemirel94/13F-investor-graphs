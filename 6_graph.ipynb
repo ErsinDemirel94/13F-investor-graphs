{
 "cells": [
  {
   "cell_type": "code",
   "execution_count": 1,
   "id": "7df3162b",
   "metadata": {},
   "outputs": [
    {
     "name": "stderr",
     "output_type": "stream",
     "text": [
      "C:\\Users\\ersin\\anaconda3\\lib\\site-packages\\numpy\\_distributor_init.py:30: UserWarning: loaded more than 1 DLL from .libs:\n",
      "C:\\Users\\ersin\\anaconda3\\lib\\site-packages\\numpy\\.libs\\libopenblas.XWYDX2IKJW2NMTWSFYNGFUWKQU3LYTCZ.gfortran-win_amd64.dll\n",
      "C:\\Users\\ersin\\anaconda3\\lib\\site-packages\\numpy\\.libs\\libopenblas64__v0.3.23-246-g3d31191b-gcc_10_3_0.dll\n",
      "  warnings.warn(\"loaded more than 1 DLL from .libs:\"\n"
     ]
    }
   ],
   "source": [
    "import pandas as pd\n",
    "\n",
    "edges = pd.read_csv(\"edges.csv\", index_col=0)\n"
   ]
  },
  {
   "cell_type": "code",
   "execution_count": 2,
   "id": "c3c4f4e5",
   "metadata": {},
   "outputs": [],
   "source": [
    "investors = pd.read_csv(\"investors.csv\", index_col=0)\n",
    "stocks = pd.read_csv(\"stocks.csv\", index_col=0)\n"
   ]
  },
  {
   "cell_type": "code",
   "execution_count": 3,
   "id": "8b230c8b",
   "metadata": {},
   "outputs": [
    {
     "data": {
      "text/plain": [
       "((8840, 2), (11679, 6))"
      ]
     },
     "execution_count": 3,
     "metadata": {},
     "output_type": "execute_result"
    }
   ],
   "source": [
    "investors.shape , stocks.shape"
   ]
  },
  {
   "cell_type": "code",
   "execution_count": 4,
   "id": "1e2aa0aa",
   "metadata": {
    "scrolled": false
   },
   "outputs": [
    {
     "data": {
      "text/plain": [
       "(24034481, 8)"
      ]
     },
     "execution_count": 4,
     "metadata": {},
     "output_type": "execute_result"
    }
   ],
   "source": [
    "edges.shape"
   ]
  },
  {
   "cell_type": "code",
   "execution_count": 5,
   "id": "3fc9c320",
   "metadata": {
    "scrolled": false
   },
   "outputs": [
    {
     "data": {
      "text/html": [
       "<div>\n",
       "<style scoped>\n",
       "    .dataframe tbody tr th:only-of-type {\n",
       "        vertical-align: middle;\n",
       "    }\n",
       "\n",
       "    .dataframe tbody tr th {\n",
       "        vertical-align: top;\n",
       "    }\n",
       "\n",
       "    .dataframe thead th {\n",
       "        text-align: right;\n",
       "    }\n",
       "</style>\n",
       "<table border=\"1\" class=\"dataframe\">\n",
       "  <thead>\n",
       "    <tr style=\"text-align: right;\">\n",
       "      <th></th>\n",
       "      <th>cikname</th>\n",
       "      <th>name</th>\n",
       "      <th>quarter</th>\n",
       "      <th>changeCat</th>\n",
       "      <th>delay_cat</th>\n",
       "      <th>volatility_category</th>\n",
       "      <th>volume_category</th>\n",
       "      <th>direction</th>\n",
       "    </tr>\n",
       "  </thead>\n",
       "  <tbody>\n",
       "    <tr>\n",
       "      <th>0</th>\n",
       "      <td>FRED ALGER MANAGEMENT INC</td>\n",
       "      <td>AAC HOLDINGS INC</td>\n",
       "      <td>2015-06-30</td>\n",
       "      <td>Buy</td>\n",
       "      <td>on time</td>\n",
       "      <td>NaN</td>\n",
       "      <td>NaN</td>\n",
       "      <td>stock_to_investor</td>\n",
       "    </tr>\n",
       "    <tr>\n",
       "      <th>1</th>\n",
       "      <td>FRED ALGER MANAGEMENT INC</td>\n",
       "      <td>AAR CORP</td>\n",
       "      <td>2011-12-31</td>\n",
       "      <td>Large Sale</td>\n",
       "      <td>on time</td>\n",
       "      <td>very low</td>\n",
       "      <td>high</td>\n",
       "      <td>investor_to_stock</td>\n",
       "    </tr>\n",
       "    <tr>\n",
       "      <th>2</th>\n",
       "      <td>FRED ALGER MANAGEMENT INC</td>\n",
       "      <td>AAR CORP</td>\n",
       "      <td>2012-03-31</td>\n",
       "      <td>Significant Sale</td>\n",
       "      <td>on time</td>\n",
       "      <td>very low</td>\n",
       "      <td>low</td>\n",
       "      <td>investor_to_stock</td>\n",
       "    </tr>\n",
       "    <tr>\n",
       "      <th>3</th>\n",
       "      <td>FRED ALGER MANAGEMENT INC</td>\n",
       "      <td>ADT CORP</td>\n",
       "      <td>2012-12-31</td>\n",
       "      <td>Significant Buy</td>\n",
       "      <td>on time</td>\n",
       "      <td>NaN</td>\n",
       "      <td>NaN</td>\n",
       "      <td>stock_to_investor</td>\n",
       "    </tr>\n",
       "    <tr>\n",
       "      <th>4</th>\n",
       "      <td>FRED ALGER MANAGEMENT INC</td>\n",
       "      <td>ADT CORP</td>\n",
       "      <td>2013-03-31</td>\n",
       "      <td>Large Buy</td>\n",
       "      <td>on time</td>\n",
       "      <td>NaN</td>\n",
       "      <td>NaN</td>\n",
       "      <td>stock_to_investor</td>\n",
       "    </tr>\n",
       "  </tbody>\n",
       "</table>\n",
       "</div>"
      ],
      "text/plain": [
       "                     cikname              name     quarter         changeCat  \\\n",
       "0  FRED ALGER MANAGEMENT INC  AAC HOLDINGS INC  2015-06-30               Buy   \n",
       "1  FRED ALGER MANAGEMENT INC          AAR CORP  2011-12-31        Large Sale   \n",
       "2  FRED ALGER MANAGEMENT INC          AAR CORP  2012-03-31  Significant Sale   \n",
       "3  FRED ALGER MANAGEMENT INC          ADT CORP  2012-12-31   Significant Buy   \n",
       "4  FRED ALGER MANAGEMENT INC          ADT CORP  2013-03-31         Large Buy   \n",
       "\n",
       "  delay_cat volatility_category volume_category          direction  \n",
       "0   on time                 NaN             NaN  stock_to_investor  \n",
       "1   on time            very low            high  investor_to_stock  \n",
       "2   on time            very low             low  investor_to_stock  \n",
       "3   on time                 NaN             NaN  stock_to_investor  \n",
       "4   on time                 NaN             NaN  stock_to_investor  "
      ]
     },
     "execution_count": 5,
     "metadata": {},
     "output_type": "execute_result"
    }
   ],
   "source": [
    "edges.head()"
   ]
  },
  {
   "cell_type": "code",
   "execution_count": 6,
   "id": "c4b66984",
   "metadata": {},
   "outputs": [],
   "source": [
    "import pandas as pd\n",
    "\n",
    "# Assuming 'edges', 'investors', and 'stocks' are your DataFrames\n",
    "\n",
    "# Merge edges and investors on 'cikname'\n",
    "merged_df = pd.merge(edges, investors, on='cikname', how='left')\n",
    "\n",
    "# Merge the result with stocks on 'name'\n",
    "final_merged_df = pd.merge(merged_df, stocks, on='name', how='left')\n"
   ]
  },
  {
   "cell_type": "code",
   "execution_count": 1,
   "id": "46e1bd9d",
   "metadata": {},
   "outputs": [
    {
     "ename": "NameError",
     "evalue": "name 'final_merged_df' is not defined",
     "output_type": "error",
     "traceback": [
      "\u001b[1;31m---------------------------------------------------------------------------\u001b[0m",
      "\u001b[1;31mNameError\u001b[0m                                 Traceback (most recent call last)",
      "Input \u001b[1;32mIn [1]\u001b[0m, in \u001b[0;36m<cell line: 1>\u001b[1;34m()\u001b[0m\n\u001b[1;32m----> 1\u001b[0m \u001b[43mfinal_merged_df\u001b[49m\u001b[38;5;241m.\u001b[39mtail()\n",
      "\u001b[1;31mNameError\u001b[0m: name 'final_merged_df' is not defined"
     ]
    }
   ],
   "source": [
    "final_merged_df.tail()"
   ]
  },
  {
   "cell_type": "code",
   "execution_count": 8,
   "id": "b3697b19",
   "metadata": {
    "scrolled": false
   },
   "outputs": [
    {
     "data": {
      "text/plain": [
       "(24596386, 14)"
      ]
     },
     "execution_count": 8,
     "metadata": {},
     "output_type": "execute_result"
    }
   ],
   "source": [
    "final_merged_df.shape"
   ]
  },
  {
   "cell_type": "code",
   "execution_count": 12,
   "id": "e754bdd3",
   "metadata": {},
   "outputs": [],
   "source": [
    "final_merged_df['cikname'] = final_merged_df['cikname'] + '_investor'\n",
    "\n",
    "# Add '_stock' suffix to each record in the 'name' column\n",
    "final_merged_df['name'] = final_merged_df['name'] + '_stock'"
   ]
  },
  {
   "cell_type": "code",
   "execution_count": 13,
   "id": "f249a15b",
   "metadata": {},
   "outputs": [
    {
     "data": {
      "text/html": [
       "<div>\n",
       "<style scoped>\n",
       "    .dataframe tbody tr th:only-of-type {\n",
       "        vertical-align: middle;\n",
       "    }\n",
       "\n",
       "    .dataframe tbody tr th {\n",
       "        vertical-align: top;\n",
       "    }\n",
       "\n",
       "    .dataframe thead th {\n",
       "        text-align: right;\n",
       "    }\n",
       "</style>\n",
       "<table border=\"1\" class=\"dataframe\">\n",
       "  <thead>\n",
       "    <tr style=\"text-align: right;\">\n",
       "      <th></th>\n",
       "      <th>cikname</th>\n",
       "      <th>name</th>\n",
       "      <th>quarter</th>\n",
       "      <th>changeCat</th>\n",
       "      <th>delay_cat</th>\n",
       "      <th>volatility_category</th>\n",
       "      <th>volume_category</th>\n",
       "      <th>direction</th>\n",
       "      <th>investor_rank</th>\n",
       "      <th>ticker</th>\n",
       "      <th>equityType</th>\n",
       "      <th>sicSector</th>\n",
       "      <th>sicIndustry</th>\n",
       "      <th>ticker_classification</th>\n",
       "      <th>edge_id</th>\n",
       "    </tr>\n",
       "  </thead>\n",
       "  <tbody>\n",
       "    <tr>\n",
       "      <th>0</th>\n",
       "      <td>FRED ALGER MANAGEMENT INC_investor</td>\n",
       "      <td>AAC HOLDINGS INC_stock</td>\n",
       "      <td>2015-06-30</td>\n",
       "      <td>Buy</td>\n",
       "      <td>on time</td>\n",
       "      <td>NaN</td>\n",
       "      <td>NaN</td>\n",
       "      <td>stock_to_investor</td>\n",
       "      <td>large_investor</td>\n",
       "      <td>AACH</td>\n",
       "      <td>Domestic Common Stock</td>\n",
       "      <td>Services</td>\n",
       "      <td>Services-Specialty Outpatient Facilities Nec</td>\n",
       "      <td>mid</td>\n",
       "      <td>FRED ALGER MANAGEMENT INCAAC HOLDINGS INC2015-...</td>\n",
       "    </tr>\n",
       "    <tr>\n",
       "      <th>1</th>\n",
       "      <td>FRED ALGER MANAGEMENT INC_investor</td>\n",
       "      <td>AAR CORP_stock</td>\n",
       "      <td>2011-12-31</td>\n",
       "      <td>Large Sale</td>\n",
       "      <td>on time</td>\n",
       "      <td>very low</td>\n",
       "      <td>high</td>\n",
       "      <td>investor_to_stock</td>\n",
       "      <td>large_investor</td>\n",
       "      <td>AIR</td>\n",
       "      <td>Domestic Common Stock</td>\n",
       "      <td>Manufacturing</td>\n",
       "      <td>Aircraft &amp; Parts</td>\n",
       "      <td>mid</td>\n",
       "      <td>FRED ALGER MANAGEMENT INCAAR CORP2011-12-31</td>\n",
       "    </tr>\n",
       "    <tr>\n",
       "      <th>2</th>\n",
       "      <td>FRED ALGER MANAGEMENT INC_investor</td>\n",
       "      <td>AAR CORP_stock</td>\n",
       "      <td>2012-03-31</td>\n",
       "      <td>Significant Sale</td>\n",
       "      <td>on time</td>\n",
       "      <td>very low</td>\n",
       "      <td>low</td>\n",
       "      <td>investor_to_stock</td>\n",
       "      <td>large_investor</td>\n",
       "      <td>AIR</td>\n",
       "      <td>Domestic Common Stock</td>\n",
       "      <td>Manufacturing</td>\n",
       "      <td>Aircraft &amp; Parts</td>\n",
       "      <td>mid</td>\n",
       "      <td>FRED ALGER MANAGEMENT INCAAR CORP2012-03-31</td>\n",
       "    </tr>\n",
       "    <tr>\n",
       "      <th>3</th>\n",
       "      <td>FRED ALGER MANAGEMENT INC_investor</td>\n",
       "      <td>ADT CORP_stock</td>\n",
       "      <td>2012-12-31</td>\n",
       "      <td>Significant Buy</td>\n",
       "      <td>on time</td>\n",
       "      <td>NaN</td>\n",
       "      <td>NaN</td>\n",
       "      <td>stock_to_investor</td>\n",
       "      <td>large_investor</td>\n",
       "      <td>ADT1</td>\n",
       "      <td>Domestic Common Stock</td>\n",
       "      <td>Services</td>\n",
       "      <td>Services-Detective Guard &amp; Armored Car Services</td>\n",
       "      <td>mid</td>\n",
       "      <td>FRED ALGER MANAGEMENT INCADT CORP2012-12-31</td>\n",
       "    </tr>\n",
       "    <tr>\n",
       "      <th>4</th>\n",
       "      <td>FRED ALGER MANAGEMENT INC_investor</td>\n",
       "      <td>ADT CORP_stock</td>\n",
       "      <td>2013-03-31</td>\n",
       "      <td>Large Buy</td>\n",
       "      <td>on time</td>\n",
       "      <td>NaN</td>\n",
       "      <td>NaN</td>\n",
       "      <td>stock_to_investor</td>\n",
       "      <td>large_investor</td>\n",
       "      <td>ADT1</td>\n",
       "      <td>Domestic Common Stock</td>\n",
       "      <td>Services</td>\n",
       "      <td>Services-Detective Guard &amp; Armored Car Services</td>\n",
       "      <td>mid</td>\n",
       "      <td>FRED ALGER MANAGEMENT INCADT CORP2013-03-31</td>\n",
       "    </tr>\n",
       "  </tbody>\n",
       "</table>\n",
       "</div>"
      ],
      "text/plain": [
       "                              cikname                    name     quarter  \\\n",
       "0  FRED ALGER MANAGEMENT INC_investor  AAC HOLDINGS INC_stock  2015-06-30   \n",
       "1  FRED ALGER MANAGEMENT INC_investor          AAR CORP_stock  2011-12-31   \n",
       "2  FRED ALGER MANAGEMENT INC_investor          AAR CORP_stock  2012-03-31   \n",
       "3  FRED ALGER MANAGEMENT INC_investor          ADT CORP_stock  2012-12-31   \n",
       "4  FRED ALGER MANAGEMENT INC_investor          ADT CORP_stock  2013-03-31   \n",
       "\n",
       "          changeCat delay_cat volatility_category volume_category  \\\n",
       "0               Buy   on time                 NaN             NaN   \n",
       "1        Large Sale   on time            very low            high   \n",
       "2  Significant Sale   on time            very low             low   \n",
       "3   Significant Buy   on time                 NaN             NaN   \n",
       "4         Large Buy   on time                 NaN             NaN   \n",
       "\n",
       "           direction   investor_rank ticker             equityType  \\\n",
       "0  stock_to_investor  large_investor   AACH  Domestic Common Stock   \n",
       "1  investor_to_stock  large_investor    AIR  Domestic Common Stock   \n",
       "2  investor_to_stock  large_investor    AIR  Domestic Common Stock   \n",
       "3  stock_to_investor  large_investor   ADT1  Domestic Common Stock   \n",
       "4  stock_to_investor  large_investor   ADT1  Domestic Common Stock   \n",
       "\n",
       "       sicSector                                      sicIndustry  \\\n",
       "0       Services     Services-Specialty Outpatient Facilities Nec   \n",
       "1  Manufacturing                                 Aircraft & Parts   \n",
       "2  Manufacturing                                 Aircraft & Parts   \n",
       "3       Services  Services-Detective Guard & Armored Car Services   \n",
       "4       Services  Services-Detective Guard & Armored Car Services   \n",
       "\n",
       "  ticker_classification                                            edge_id  \n",
       "0                   mid  FRED ALGER MANAGEMENT INCAAC HOLDINGS INC2015-...  \n",
       "1                   mid        FRED ALGER MANAGEMENT INCAAR CORP2011-12-31  \n",
       "2                   mid        FRED ALGER MANAGEMENT INCAAR CORP2012-03-31  \n",
       "3                   mid        FRED ALGER MANAGEMENT INCADT CORP2012-12-31  \n",
       "4                   mid        FRED ALGER MANAGEMENT INCADT CORP2013-03-31  "
      ]
     },
     "execution_count": 13,
     "metadata": {},
     "output_type": "execute_result"
    }
   ],
   "source": [
    "final_merged_df.head()"
   ]
  },
  {
   "cell_type": "code",
   "execution_count": 14,
   "id": "58e49675",
   "metadata": {},
   "outputs": [],
   "source": [
    "import networkx as nx\n",
    "import pandas as pd\n",
    "\n",
    "# Assuming your DataFrame is named df\n",
    "\n",
    "# Preprocess DataFrame to ensure each edge is unique\n",
    "final_merged_df['edge_id'] = final_merged_df['cikname'] + final_merged_df['name'] + final_merged_df['quarter'].astype(str)\n",
    "\n",
    "# Create a MultiDiGraph from the DataFrame\n",
    "G = nx.from_pandas_edgelist(final_merged_df, source='cikname', target='name', edge_attr=True, create_using=nx.MultiGraph)\n",
    "\n"
   ]
  },
  {
   "cell_type": "code",
   "execution_count": 15,
   "id": "ddb6b0ac",
   "metadata": {},
   "outputs": [
    {
     "name": "stdout",
     "output_type": "stream",
     "text": [
      "Graph is bipartite: True\n"
     ]
    }
   ],
   "source": [
    "# Add node attributes for bipartite sets\n",
    "bipartite_attr = {node: 0 for node in final_merged_df['cikname']}  # Assuming cikname nodes as one set (0)\n",
    "bipartite_attr.update({node: 1 for node in final_merged_df['name']})  # Assuming name nodes as the other set (1)\n",
    "nx.set_node_attributes(G, bipartite_attr, 'bipartite')\n",
    "\n",
    "# Check if the graph is bipartite\n",
    "print(\"Graph is bipartite:\", nx.is_bipartite(G))\n"
   ]
  },
  {
   "cell_type": "code",
   "execution_count": 16,
   "id": "afddb6b9",
   "metadata": {},
   "outputs": [
    {
     "name": "stdout",
     "output_type": "stream",
     "text": [
      "Number of nodes: 20391\n",
      "Number of edges: 24596386\n"
     ]
    }
   ],
   "source": [
    "print(\"Number of nodes:\", G.number_of_nodes())\n",
    "print(\"Number of edges:\", G.number_of_edges())"
   ]
  },
  {
   "cell_type": "code",
   "execution_count": 17,
   "id": "48bb54ab",
   "metadata": {},
   "outputs": [
    {
     "name": "stdout",
     "output_type": "stream",
     "text": [
      "FRED ALGER MANAGEMENT INC_investor AAC HOLDINGS INC_stock {'quarter': '2015-06-30', 'changeCat': 'Buy', 'delay_cat': 'on time', 'volatility_category': nan, 'volume_category': nan, 'direction': 'stock_to_investor', 'investor_rank': 'large_investor', 'ticker': 'AACH', 'equityType': 'Domestic Common Stock', 'sicSector': 'Services', 'sicIndustry': 'Services-Specialty Outpatient Facilities Nec', 'ticker_classification': 'mid', 'edge_id': 'FRED ALGER MANAGEMENT INC_investorAAC HOLDINGS INC_stock2015-06-30'}\n"
     ]
    }
   ],
   "source": [
    "for u,v,a in G.edges(data=True):\n",
    "    print(u,v,a)\n",
    "    break"
   ]
  },
  {
   "cell_type": "code",
   "execution_count": 20,
   "id": "a71de279",
   "metadata": {},
   "outputs": [
    {
     "data": {
      "text/plain": [
       "2412.47471923888"
      ]
     },
     "execution_count": 20,
     "metadata": {},
     "output_type": "execute_result"
    }
   ],
   "source": [
    "avg_degree = sum(dict(G.degree()).values()) / len(G)\n",
    "\n",
    "avg_degree"
   ]
  },
  {
   "cell_type": "code",
   "execution_count": 21,
   "id": "782b327e",
   "metadata": {},
   "outputs": [
    {
     "data": {
      "text/plain": [
       "0.11831656298376066"
      ]
     },
     "execution_count": 21,
     "metadata": {},
     "output_type": "execute_result"
    }
   ],
   "source": [
    "density = nx.density(G)\n",
    "density"
   ]
  },
  {
   "cell_type": "code",
   "execution_count": 22,
   "id": "80addb67",
   "metadata": {},
   "outputs": [],
   "source": [
    "import pickle\n",
    "\n",
    "# save graph object to file\n",
    "pickle.dump(G, open('final_multigraph_solved.pickle', 'wb'))"
   ]
  },
  {
   "cell_type": "code",
   "execution_count": null,
   "id": "f4879ebd",
   "metadata": {},
   "outputs": [],
   "source": [
    "3.54"
   ]
  }
 ],
 "metadata": {
  "kernelspec": {
   "display_name": "Python 3 (ipykernel)",
   "language": "python",
   "name": "python3"
  },
  "language_info": {
   "codemirror_mode": {
    "name": "ipython",
    "version": 3
   },
   "file_extension": ".py",
   "mimetype": "text/x-python",
   "name": "python",
   "nbconvert_exporter": "python",
   "pygments_lexer": "ipython3",
   "version": "3.9.12"
  }
 },
 "nbformat": 4,
 "nbformat_minor": 5
}
